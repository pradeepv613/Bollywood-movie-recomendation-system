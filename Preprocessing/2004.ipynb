{
 "cells": [
  {
   "cell_type": "code",
   "execution_count": 26,
   "metadata": {},
   "outputs": [
    {
     "data": {
      "text/plain": [
       "2"
      ]
     },
     "execution_count": 26,
     "metadata": {},
     "output_type": "execute_result"
    }
   ],
   "source": [
    "import pandas as pd\n",
    "import numpy as np\n",
    "import requests\n",
    "import bs4 as bs\n",
    "import urllib.request\n",
    "\n",
    "link = \"https://en.wikipedia.org/wiki/List_of_Bollywood_films_of_2004\"\n",
    "source = urllib.request.urlopen(link).read()\n",
    "\n",
    "soup = bs.BeautifulSoup(source,'lxml')\n",
    "\n",
    "\n",
    "\n",
    "tables = soup.find_all('table',class_='wikitable')\n",
    "\n",
    "len(tables)"
   ]
  },
  {
   "cell_type": "code",
   "execution_count": 27,
   "metadata": {},
   "outputs": [],
   "source": [
    "#df1 = pd.read_html(str(tables[0]))[0]\n",
    "#df2 = pd.read_html(str(tables[1]))[0]\n",
    "#df3 = pd.read_html(str(tables[2]))[0]\n",
    "#df4 = pd.read_html(str(tables[3]).replace(\"'1\\\"\\'\",'\"1\"'))[0] # avoided \"ValueError: invalid literal for int() with base 10: '1\"'\n"
   ]
  },
  {
   "cell_type": "code",
   "execution_count": 28,
   "metadata": {},
   "outputs": [
    {
     "name": "stdout",
     "output_type": "stream",
     "text": [
      "                               Title              Director  \\\n",
      "0                    Aabra Ka Daabra         Dheeraj Kumar   \n",
      "1                   Aan: Men at Work     Madhur Bhandarkar   \n",
      "2                         Ab... Bas!    Rajesh Kumar Singh   \n",
      "3   Ab Tumhare Hawale Watan Saathiyo           Anil Sharma   \n",
      "4                            Aetbaar          Vikram Bhatt   \n",
      "..                               ...                   ...   \n",
      "92           Where's the Party Yaar?         Benny Mathews   \n",
      "93                               Woh          Raj N. Sippy   \n",
      "94               Yeh Lamhe Judaai Ke  Birendra Nath Tiwary   \n",
      "95                  Yehi Hai Zindagi        Ajay Phansekar   \n",
      "96                              Yuva           Mani Ratnam   \n",
      "\n",
      "                                                 Cast          Genre  \n",
      "0   Hansika Motwani, Shweta Tiwari, Vishal Lalwani...        Fantasy  \n",
      "1   Akshay Kumar, Sunil Shetty, Shatrughan Sinha, ...         Action  \n",
      "2                 Shawar Ali, Rohit Roy, Diana Hayden          Adult  \n",
      "3   Amitabh Bachchan, Akshay Kumar, Bobby Deol, Di...     War, Drama  \n",
      "4        Amitabh Bachchan, Bipasha Basu, John Abraham       Thriller  \n",
      "..                                                ...            ...  \n",
      "92                     Diwakar Pathak, Sunil Malhotra         Comedy  \n",
      "93    Priyanshu Chatterjee, Cleo Issacs, Shahbaz Khan       Thriller  \n",
      "94                      Shahrukh Khan, Raveena Tandon          Drama  \n",
      "95             Gracy Singh, Sahil Khan, Parvin Dabbas          Drama  \n",
      "96  Ajay Devgn, Abhishek Bachchan, Vivek Oberoi, K...  Drama, Action  \n",
      "\n",
      "[97 rows x 4 columns]\n"
     ]
    }
   ],
   "source": [
    "df3 = pd.read_html(str(tables[1]))[0]\n",
    " # avoided \"ValueError: invalid literal for int() with base 10: '1\"'\n",
    "print(df3)"
   ]
  },
  {
   "cell_type": "code",
   "execution_count": 29,
   "metadata": {},
   "outputs": [
    {
     "data": {
      "text/plain": [
       "Title       0\n",
       "Director    2\n",
       "Cast        1\n",
       "Genre       4\n",
       "dtype: int64"
      ]
     },
     "execution_count": 29,
     "metadata": {},
     "output_type": "execute_result"
    }
   ],
   "source": [
    "df3.isnull().sum()"
   ]
  },
  {
   "cell_type": "code",
   "execution_count": 30,
   "metadata": {},
   "outputs": [
    {
     "data": {
      "text/html": [
       "<div>\n",
       "<style scoped>\n",
       "    .dataframe tbody tr th:only-of-type {\n",
       "        vertical-align: middle;\n",
       "    }\n",
       "\n",
       "    .dataframe tbody tr th {\n",
       "        vertical-align: top;\n",
       "    }\n",
       "\n",
       "    .dataframe thead th {\n",
       "        text-align: right;\n",
       "    }\n",
       "</style>\n",
       "<table border=\"1\" class=\"dataframe\">\n",
       "  <thead>\n",
       "    <tr style=\"text-align: right;\">\n",
       "      <th></th>\n",
       "      <th>Title</th>\n",
       "      <th>Director</th>\n",
       "      <th>Cast</th>\n",
       "      <th>Genre</th>\n",
       "    </tr>\n",
       "  </thead>\n",
       "  <tbody>\n",
       "    <tr>\n",
       "      <th>5</th>\n",
       "      <td>Agnipankh</td>\n",
       "      <td>Sanjeev Puri</td>\n",
       "      <td>Jimmy Shergill, Rahul Dev, Divya Dutta, Shamit...</td>\n",
       "      <td>NaN</td>\n",
       "    </tr>\n",
       "    <tr>\n",
       "      <th>27</th>\n",
       "      <td>Hatya</td>\n",
       "      <td>NaN</td>\n",
       "      <td>NaN</td>\n",
       "      <td>NaN</td>\n",
       "    </tr>\n",
       "    <tr>\n",
       "      <th>63</th>\n",
       "      <td>Netaji Subhas Chandra Bose: The Forgotten Hero</td>\n",
       "      <td>NaN</td>\n",
       "      <td>Sachin Khedekar, Kulbhushan Kharbanda, Rajit K...</td>\n",
       "      <td>NaN</td>\n",
       "    </tr>\n",
       "    <tr>\n",
       "      <th>70</th>\n",
       "      <td>Popcorn Khao! Mast Ho Jao</td>\n",
       "      <td>Kabir Sadanand</td>\n",
       "      <td>Akshay Kapoor, Tanisha, Yash Tonk, Reshmi Nigam</td>\n",
       "      <td>NaN</td>\n",
       "    </tr>\n",
       "  </tbody>\n",
       "</table>\n",
       "</div>"
      ],
      "text/plain": [
       "                                             Title        Director  \\\n",
       "5                                        Agnipankh    Sanjeev Puri   \n",
       "27                                           Hatya             NaN   \n",
       "63  Netaji Subhas Chandra Bose: The Forgotten Hero             NaN   \n",
       "70                       Popcorn Khao! Mast Ho Jao  Kabir Sadanand   \n",
       "\n",
       "                                                 Cast Genre  \n",
       "5   Jimmy Shergill, Rahul Dev, Divya Dutta, Shamit...   NaN  \n",
       "27                                                NaN   NaN  \n",
       "63  Sachin Khedekar, Kulbhushan Kharbanda, Rajit K...   NaN  \n",
       "70    Akshay Kapoor, Tanisha, Yash Tonk, Reshmi Nigam   NaN  "
      ]
     },
     "execution_count": 30,
     "metadata": {},
     "output_type": "execute_result"
    }
   ],
   "source": [
    "df3[df3['Genre'].isnull()]"
   ]
  },
  {
   "cell_type": "code",
   "execution_count": 7,
   "metadata": {},
   "outputs": [],
   "source": [
    "df3.loc[5]=df3.loc[5].fillna(' Action,Drama,Romance')\n"
   ]
  },
  {
   "cell_type": "code",
   "execution_count": 8,
   "metadata": {},
   "outputs": [],
   "source": [
    "df3.loc[5]=df3.loc[5].fillna('Comedy,Drama,Romance')"
   ]
  },
  {
   "cell_type": "code",
   "execution_count": 40,
   "metadata": {},
   "outputs": [],
   "source": [
    "df3.loc[70]=df3.loc[5].fillna('comedy,drama')"
   ]
  },
  {
   "cell_type": "code",
   "execution_count": 4,
   "metadata": {},
   "outputs": [],
   "source": [
    "df3.to_csv('film_2004.csv', header=False, index=False)"
   ]
  },
  {
   "cell_type": "code",
   "execution_count": 39,
   "metadata": {},
   "outputs": [
    {
     "data": {
      "text/plain": [
       "Title          Netaji Subhas Chandra Bose: The Forgotten Hero\n",
       "Director                                        Shyam Benegal\n",
       "Cast        Sachin Khedekar, Kulbhushan Kharbanda, Rajit K...\n",
       "Genre                             Biography,Drama,History,War\n",
       "Name: 63, dtype: object"
      ]
     },
     "execution_count": 39,
     "metadata": {},
     "output_type": "execute_result"
    }
   ],
   "source": [
    "df3.loc[63]"
   ]
  },
  {
   "cell_type": "code",
   "execution_count": 36,
   "metadata": {},
   "outputs": [],
   "source": [
    "df3.iloc[63,1]='Shyam Benegal'\n"
   ]
  },
  {
   "cell_type": "code",
   "execution_count": 38,
   "metadata": {},
   "outputs": [],
   "source": [
    "df3.iloc[63,3]='Biography,Drama,History,War'"
   ]
  },
  {
   "cell_type": "code",
   "execution_count": 11,
   "metadata": {},
   "outputs": [
    {
     "data": {
      "text/html": [
       "<div>\n",
       "<style scoped>\n",
       "    .dataframe tbody tr th:only-of-type {\n",
       "        vertical-align: middle;\n",
       "    }\n",
       "\n",
       "    .dataframe tbody tr th {\n",
       "        vertical-align: top;\n",
       "    }\n",
       "\n",
       "    .dataframe thead th {\n",
       "        text-align: right;\n",
       "    }\n",
       "</style>\n",
       "<table border=\"1\" class=\"dataframe\">\n",
       "  <thead>\n",
       "    <tr style=\"text-align: right;\">\n",
       "      <th></th>\n",
       "      <th>Title</th>\n",
       "      <th>Director</th>\n",
       "      <th>Cast</th>\n",
       "      <th>Genre</th>\n",
       "    </tr>\n",
       "  </thead>\n",
       "  <tbody>\n",
       "    <tr>\n",
       "      <th>27</th>\n",
       "      <td>Hatya</td>\n",
       "      <td>NaN</td>\n",
       "      <td>NaN</td>\n",
       "      <td>NaN</td>\n",
       "    </tr>\n",
       "    <tr>\n",
       "      <th>70</th>\n",
       "      <td>Popcorn Khao! Mast Ho Jao</td>\n",
       "      <td>Kabir Sadanand</td>\n",
       "      <td>Akshay Kapoor, Tanisha, Yash Tonk, Reshmi Nigam</td>\n",
       "      <td>NaN</td>\n",
       "    </tr>\n",
       "  </tbody>\n",
       "</table>\n",
       "</div>"
      ],
      "text/plain": [
       "                        Title        Director  \\\n",
       "27                      Hatya             NaN   \n",
       "70  Popcorn Khao! Mast Ho Jao  Kabir Sadanand   \n",
       "\n",
       "                                               Cast Genre  \n",
       "27                                              NaN   NaN  \n",
       "70  Akshay Kapoor, Tanisha, Yash Tonk, Reshmi Nigam   NaN  "
      ]
     },
     "execution_count": 11,
     "metadata": {},
     "output_type": "execute_result"
    }
   ],
   "source": [
    "df3[df3['Genre'].isnull()]"
   ]
  },
  {
   "cell_type": "code",
   "execution_count": null,
   "metadata": {},
   "outputs": [],
   "source": []
  },
  {
   "cell_type": "code",
   "execution_count": 41,
   "metadata": {},
   "outputs": [
    {
     "data": {
      "text/html": [
       "<div>\n",
       "<style scoped>\n",
       "    .dataframe tbody tr th:only-of-type {\n",
       "        vertical-align: middle;\n",
       "    }\n",
       "\n",
       "    .dataframe tbody tr th {\n",
       "        vertical-align: top;\n",
       "    }\n",
       "\n",
       "    .dataframe thead th {\n",
       "        text-align: right;\n",
       "    }\n",
       "</style>\n",
       "<table border=\"1\" class=\"dataframe\">\n",
       "  <thead>\n",
       "    <tr style=\"text-align: right;\">\n",
       "      <th></th>\n",
       "      <th>Title</th>\n",
       "      <th>Director</th>\n",
       "      <th>Cast</th>\n",
       "      <th>Genre</th>\n",
       "    </tr>\n",
       "  </thead>\n",
       "  <tbody>\n",
       "    <tr>\n",
       "      <th>0</th>\n",
       "      <td>Aabra Ka Daabra</td>\n",
       "      <td>Dheeraj Kumar</td>\n",
       "      <td>Hansika Motwani, Shweta Tiwari, Vishal Lalwani...</td>\n",
       "      <td>Fantasy</td>\n",
       "    </tr>\n",
       "    <tr>\n",
       "      <th>1</th>\n",
       "      <td>Aan: Men at Work</td>\n",
       "      <td>Madhur Bhandarkar</td>\n",
       "      <td>Akshay Kumar, Sunil Shetty, Shatrughan Sinha, ...</td>\n",
       "      <td>Action</td>\n",
       "    </tr>\n",
       "    <tr>\n",
       "      <th>2</th>\n",
       "      <td>Ab... Bas!</td>\n",
       "      <td>Rajesh Kumar Singh</td>\n",
       "      <td>Shawar Ali, Rohit Roy, Diana Hayden</td>\n",
       "      <td>Adult</td>\n",
       "    </tr>\n",
       "    <tr>\n",
       "      <th>3</th>\n",
       "      <td>Ab Tumhare Hawale Watan Saathiyo</td>\n",
       "      <td>Anil Sharma</td>\n",
       "      <td>Amitabh Bachchan, Akshay Kumar, Bobby Deol, Di...</td>\n",
       "      <td>War, Drama</td>\n",
       "    </tr>\n",
       "    <tr>\n",
       "      <th>4</th>\n",
       "      <td>Aetbaar</td>\n",
       "      <td>Vikram Bhatt</td>\n",
       "      <td>Amitabh Bachchan, Bipasha Basu, John Abraham</td>\n",
       "      <td>Thriller</td>\n",
       "    </tr>\n",
       "    <tr>\n",
       "      <th>...</th>\n",
       "      <td>...</td>\n",
       "      <td>...</td>\n",
       "      <td>...</td>\n",
       "      <td>...</td>\n",
       "    </tr>\n",
       "    <tr>\n",
       "      <th>92</th>\n",
       "      <td>Where's the Party Yaar?</td>\n",
       "      <td>Benny Mathews</td>\n",
       "      <td>Diwakar Pathak, Sunil Malhotra</td>\n",
       "      <td>Comedy</td>\n",
       "    </tr>\n",
       "    <tr>\n",
       "      <th>93</th>\n",
       "      <td>Woh</td>\n",
       "      <td>Raj N. Sippy</td>\n",
       "      <td>Priyanshu Chatterjee, Cleo Issacs, Shahbaz Khan</td>\n",
       "      <td>Thriller</td>\n",
       "    </tr>\n",
       "    <tr>\n",
       "      <th>94</th>\n",
       "      <td>Yeh Lamhe Judaai Ke</td>\n",
       "      <td>Birendra Nath Tiwary</td>\n",
       "      <td>Shahrukh Khan, Raveena Tandon</td>\n",
       "      <td>Drama</td>\n",
       "    </tr>\n",
       "    <tr>\n",
       "      <th>95</th>\n",
       "      <td>Yehi Hai Zindagi</td>\n",
       "      <td>Ajay Phansekar</td>\n",
       "      <td>Gracy Singh, Sahil Khan, Parvin Dabbas</td>\n",
       "      <td>Drama</td>\n",
       "    </tr>\n",
       "    <tr>\n",
       "      <th>96</th>\n",
       "      <td>Yuva</td>\n",
       "      <td>Mani Ratnam</td>\n",
       "      <td>Ajay Devgn, Abhishek Bachchan, Vivek Oberoi, K...</td>\n",
       "      <td>Drama, Action</td>\n",
       "    </tr>\n",
       "  </tbody>\n",
       "</table>\n",
       "<p>95 rows × 4 columns</p>\n",
       "</div>"
      ],
      "text/plain": [
       "                               Title              Director  \\\n",
       "0                    Aabra Ka Daabra         Dheeraj Kumar   \n",
       "1                   Aan: Men at Work     Madhur Bhandarkar   \n",
       "2                         Ab... Bas!    Rajesh Kumar Singh   \n",
       "3   Ab Tumhare Hawale Watan Saathiyo           Anil Sharma   \n",
       "4                            Aetbaar          Vikram Bhatt   \n",
       "..                               ...                   ...   \n",
       "92           Where's the Party Yaar?         Benny Mathews   \n",
       "93                               Woh          Raj N. Sippy   \n",
       "94               Yeh Lamhe Judaai Ke  Birendra Nath Tiwary   \n",
       "95                  Yehi Hai Zindagi        Ajay Phansekar   \n",
       "96                              Yuva           Mani Ratnam   \n",
       "\n",
       "                                                 Cast          Genre  \n",
       "0   Hansika Motwani, Shweta Tiwari, Vishal Lalwani...        Fantasy  \n",
       "1   Akshay Kumar, Sunil Shetty, Shatrughan Sinha, ...         Action  \n",
       "2                 Shawar Ali, Rohit Roy, Diana Hayden          Adult  \n",
       "3   Amitabh Bachchan, Akshay Kumar, Bobby Deol, Di...     War, Drama  \n",
       "4        Amitabh Bachchan, Bipasha Basu, John Abraham       Thriller  \n",
       "..                                                ...            ...  \n",
       "92                     Diwakar Pathak, Sunil Malhotra         Comedy  \n",
       "93    Priyanshu Chatterjee, Cleo Issacs, Shahbaz Khan       Thriller  \n",
       "94                      Shahrukh Khan, Raveena Tandon          Drama  \n",
       "95             Gracy Singh, Sahil Khan, Parvin Dabbas          Drama  \n",
       "96  Ajay Devgn, Abhishek Bachchan, Vivek Oberoi, K...  Drama, Action  \n",
       "\n",
       "[95 rows x 4 columns]"
      ]
     },
     "execution_count": 41,
     "metadata": {},
     "output_type": "execute_result"
    }
   ],
   "source": [
    "df3.dropna()"
   ]
  },
  {
   "cell_type": "code",
   "execution_count": 42,
   "metadata": {},
   "outputs": [
    {
     "name": "stdout",
     "output_type": "stream",
     "text": [
      "/Users/pradeepvaddigadda/Desktop\n"
     ]
    }
   ],
   "source": [
    "cd /Users/pradeepvaddigadda/desktop"
   ]
  },
  {
   "cell_type": "code",
   "execution_count": null,
   "metadata": {},
   "outputs": [],
   "source": [
    "df.to_csv('cleanedfilm_2018.csv', header=True, index=True)"
   ]
  }
 ],
 "metadata": {
  "kernelspec": {
   "display_name": "Python 3",
   "language": "python",
   "name": "python3"
  },
  "language_info": {
   "codemirror_mode": {
    "name": "ipython",
    "version": 3
   },
   "file_extension": ".py",
   "mimetype": "text/x-python",
   "name": "python",
   "nbconvert_exporter": "python",
   "pygments_lexer": "ipython3",
   "version": "3.8.3"
  }
 },
 "nbformat": 4,
 "nbformat_minor": 4
}
