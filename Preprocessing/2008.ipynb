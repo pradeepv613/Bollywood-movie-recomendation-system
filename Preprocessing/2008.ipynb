{
 "cells": [
  {
   "cell_type": "code",
   "execution_count": 1,
   "metadata": {},
   "outputs": [
    {
     "data": {
      "text/plain": [
       "2"
      ]
     },
     "execution_count": 1,
     "metadata": {},
     "output_type": "execute_result"
    }
   ],
   "source": [
    "import pandas as pd\n",
    "import numpy as np\n",
    "import requests\n",
    "import bs4 as bs\n",
    "import urllib.request\n",
    "\n",
    "link = \"https://en.wikipedia.org/wiki/List_of_Bollywood_films_of_2008\"\n",
    "source = urllib.request.urlopen(link).read()\n",
    "\n",
    "soup = bs.BeautifulSoup(source,'lxml')\n",
    "\n",
    "\n",
    "\n",
    "tables = soup.find_all('table',class_='wikitable')\n",
    "\n",
    "len(tables)"
   ]
  },
  {
   "cell_type": "code",
   "execution_count": 2,
   "metadata": {},
   "outputs": [],
   "source": [
    "#df1 = pd.read_html(str(tables[0]))[0]\n",
    "#df2 = pd.read_html(str(tables[1]))[0]\n",
    "#df3 = pd.read_html(str(tables[2]))[0]\n",
    "#df4 = pd.read_html(str(tables[3]).replace(\"'1\\\"\\'\",'\"1\"'))[0] # avoided \"ValueError: invalid literal for int() with base 10: '1\"'\n"
   ]
  },
  {
   "cell_type": "code",
   "execution_count": 3,
   "metadata": {},
   "outputs": [
    {
     "name": "stdout",
     "output_type": "stream",
     "text": [
      "   Opening  Opening.1                      Title           Director  \\\n",
      "0      JAN        4.0     Humne Jeena Seekh Liya        Milind Ukey   \n",
      "1      JAN        4.0  Rama Rama Kya Hai Dramaa?    S. Chandrakaant   \n",
      "2      JAN       11.0                  Halla Bol  Rajkumar Santoshi   \n",
      "3      JAN       18.0          Bombay to Bangkok    Nagesh Kukunoor   \n",
      "4      JAN       18.0                      Tulsi         Ajay Kumar   \n",
      "..     ...        ...                        ...                ...   \n",
      "81     DEC       12.0        Rab Ne Bana Di Jodi      Aditya Chopra   \n",
      "82     DEC       19.0                      Wafaa      Rakesh Sawant   \n",
      "83     DEC       26.0                    Ghajini   A. R. Murugadoss   \n",
      "84     DEC       26.0                      Jumbo  Kompin Kemgumnird   \n",
      "85     DEC        NaN                        NaN                NaN   \n",
      "\n",
      "                                                 Cast  \\\n",
      "0             Siddharth Chandekar, Mrunmayi Deshpande   \n",
      "1   Rajpal Yadav, Neha Dhupia, Aashish Chaudhary, ...   \n",
      "2              Ajay Devgn, Vidya Balan, Pankaj Kapoor   \n",
      "3                   Shreyas Talpade, Lena Christensen   \n",
      "4      Irrfan Khan, Manisha Koirala, Arzoo Govitrikar   \n",
      "..                                                ...   \n",
      "81                     Shah Rukh Khan, Anushka Sharma   \n",
      "82  Rajesh Khanna, Laila Khan, Shahib Chopra, Diya...   \n",
      "83         Aamir Khan, Asin, Jiah Khan, Pradeep Rawat   \n",
      "84  Akshay Kumar, Lara Dutta, Dimple Kapadia, Rajp...   \n",
      "85                                                NaN   \n",
      "\n",
      "                                        Genre  \n",
      "0                                      Comedy  \n",
      "1                                      Comedy  \n",
      "2                                      Social  \n",
      "3                      Comedy, Drama, Romance  \n",
      "4                                         NaN  \n",
      "..                                        ...  \n",
      "81                                    Romance  \n",
      "82                    Romance, Drama, Romance  \n",
      "83  action, Drama, Mystery, Romance, Thriller  \n",
      "84                                  Animation  \n",
      "85                                        NaN  \n",
      "\n",
      "[86 rows x 6 columns]\n"
     ]
    }
   ],
   "source": [
    "df3 = pd.read_html(str(tables[1]))[0]\n",
    " # avoided \"ValueError: invalid literal for int() with base 10: '1\"'\n",
    "print(df3)"
   ]
  },
  {
   "cell_type": "code",
   "execution_count": 3,
   "metadata": {},
   "outputs": [],
   "source": [
    "#df3.to_csv('film_2008.csv', header=False, index=False)"
   ]
  },
  {
   "cell_type": "code",
   "execution_count": 30,
   "metadata": {},
   "outputs": [
    {
     "data": {
      "text/plain": [
       "Opening      0\n",
       "Opening.1    1\n",
       "Title        1\n",
       "Director     1\n",
       "Cast         2\n",
       "Genre        5\n",
       "dtype: int64"
      ]
     },
     "execution_count": 30,
     "metadata": {},
     "output_type": "execute_result"
    }
   ],
   "source": [
    "df3.isnull().sum()"
   ]
  },
  {
   "cell_type": "code",
   "execution_count": 36,
   "metadata": {},
   "outputs": [],
   "source": [
    "df3.loc[4] = df3.loc[4].fillna('Drama',axis=0)\n"
   ]
  },
  {
   "cell_type": "code",
   "execution_count": 38,
   "metadata": {},
   "outputs": [],
   "source": [
    "df3.loc[28] = df3.loc[28].fillna(' Crime,Drama,Thriller',axis=0)\n",
    "df3.loc[42] = df3.loc[42].fillna('comedy',axis=0)\n",
    "df3.loc[47] = df3.loc[47].fillna('Drama',axis=0)\n"
   ]
  },
  {
   "cell_type": "code",
   "execution_count": 29,
   "metadata": {},
   "outputs": [
    {
     "data": {
      "text/html": [
       "<div>\n",
       "<style scoped>\n",
       "    .dataframe tbody tr th:only-of-type {\n",
       "        vertical-align: middle;\n",
       "    }\n",
       "\n",
       "    .dataframe tbody tr th {\n",
       "        vertical-align: top;\n",
       "    }\n",
       "\n",
       "    .dataframe thead th {\n",
       "        text-align: right;\n",
       "    }\n",
       "</style>\n",
       "<table border=\"1\" class=\"dataframe\">\n",
       "  <thead>\n",
       "    <tr style=\"text-align: right;\">\n",
       "      <th></th>\n",
       "      <th>Opening</th>\n",
       "      <th>Opening.1</th>\n",
       "      <th>Title</th>\n",
       "      <th>Director</th>\n",
       "      <th>Cast</th>\n",
       "      <th>Genre</th>\n",
       "    </tr>\n",
       "  </thead>\n",
       "  <tbody>\n",
       "    <tr>\n",
       "      <th>4</th>\n",
       "      <td>JAN</td>\n",
       "      <td>18.0</td>\n",
       "      <td>Tulsi</td>\n",
       "      <td>Ajay Kumar</td>\n",
       "      <td>Irrfan Khan, Manisha Koirala, Arzoo Govitrikar</td>\n",
       "      <td>NaN</td>\n",
       "    </tr>\n",
       "    <tr>\n",
       "      <th>28</th>\n",
       "      <td>JUN</td>\n",
       "      <td>13.0</td>\n",
       "      <td>Summer 2007</td>\n",
       "      <td>Suhail Tatari</td>\n",
       "      <td>Sikandar Kher, Gul Panag, Neetu Chandra, Susan...</td>\n",
       "      <td>NaN</td>\n",
       "    </tr>\n",
       "    <tr>\n",
       "      <th>42</th>\n",
       "      <td>AUG</td>\n",
       "      <td>8.0</td>\n",
       "      <td>Good Luck!</td>\n",
       "      <td>Karan Sharma, Joginder Sharma</td>\n",
       "      <td>Aryeman, Sayali Bhagat, Ranvir Shorey, Lucky A...</td>\n",
       "      <td>NaN</td>\n",
       "    </tr>\n",
       "    <tr>\n",
       "      <th>47</th>\n",
       "      <td>AUG</td>\n",
       "      <td>22.0</td>\n",
       "      <td>Mumbai Meri Jaan</td>\n",
       "      <td>Nishikanth Kamath</td>\n",
       "      <td>Kay Kay Menon, Soha Ali Khan, Paresh Rawal, R....</td>\n",
       "      <td>NaN</td>\n",
       "    </tr>\n",
       "    <tr>\n",
       "      <th>85</th>\n",
       "      <td>DEC</td>\n",
       "      <td>NaN</td>\n",
       "      <td>NaN</td>\n",
       "      <td>NaN</td>\n",
       "      <td>NaN</td>\n",
       "      <td>NaN</td>\n",
       "    </tr>\n",
       "  </tbody>\n",
       "</table>\n",
       "</div>"
      ],
      "text/plain": [
       "   Opening  Opening.1             Title                       Director  \\\n",
       "4      JAN       18.0             Tulsi                     Ajay Kumar   \n",
       "28     JUN       13.0       Summer 2007                  Suhail Tatari   \n",
       "42     AUG        8.0        Good Luck!  Karan Sharma, Joginder Sharma   \n",
       "47     AUG       22.0  Mumbai Meri Jaan              Nishikanth Kamath   \n",
       "85     DEC        NaN               NaN                            NaN   \n",
       "\n",
       "                                                 Cast Genre  \n",
       "4      Irrfan Khan, Manisha Koirala, Arzoo Govitrikar   NaN  \n",
       "28  Sikandar Kher, Gul Panag, Neetu Chandra, Susan...   NaN  \n",
       "42  Aryeman, Sayali Bhagat, Ranvir Shorey, Lucky A...   NaN  \n",
       "47  Kay Kay Menon, Soha Ali Khan, Paresh Rawal, R....   NaN  \n",
       "85                                                NaN   NaN  "
      ]
     },
     "execution_count": 29,
     "metadata": {},
     "output_type": "execute_result"
    }
   ],
   "source": [
    "#df1=df3[df3['Genre'].isnull()]\n",
    "#df1"
   ]
  },
  {
   "cell_type": "code",
   "execution_count": 31,
   "metadata": {},
   "outputs": [
    {
     "name": "stderr",
     "output_type": "stream",
     "text": [
      "/opt/anaconda3/lib/python3.8/site-packages/pandas/core/indexing.py:966: SettingWithCopyWarning: \n",
      "A value is trying to be set on a copy of a slice from a DataFrame.\n",
      "Try using .loc[row_indexer,col_indexer] = value instead\n",
      "\n",
      "See the caveats in the documentation: https://pandas.pydata.org/pandas-docs/stable/user_guide/indexing.html#returning-a-view-versus-a-copy\n",
      "  self.obj[item] = s\n"
     ]
    }
   ],
   "source": [
    "df1.loc[4] = df1.loc[4].fillna('Drama',axis=0)"
   ]
  },
  {
   "cell_type": "code",
   "execution_count": 32,
   "metadata": {},
   "outputs": [
    {
     "data": {
      "text/html": [
       "<div>\n",
       "<style scoped>\n",
       "    .dataframe tbody tr th:only-of-type {\n",
       "        vertical-align: middle;\n",
       "    }\n",
       "\n",
       "    .dataframe tbody tr th {\n",
       "        vertical-align: top;\n",
       "    }\n",
       "\n",
       "    .dataframe thead th {\n",
       "        text-align: right;\n",
       "    }\n",
       "</style>\n",
       "<table border=\"1\" class=\"dataframe\">\n",
       "  <thead>\n",
       "    <tr style=\"text-align: right;\">\n",
       "      <th></th>\n",
       "      <th>Opening</th>\n",
       "      <th>Opening.1</th>\n",
       "      <th>Title</th>\n",
       "      <th>Director</th>\n",
       "      <th>Cast</th>\n",
       "      <th>Genre</th>\n",
       "    </tr>\n",
       "  </thead>\n",
       "  <tbody>\n",
       "    <tr>\n",
       "      <th>28</th>\n",
       "      <td>JUN</td>\n",
       "      <td>13.0</td>\n",
       "      <td>Summer 2007</td>\n",
       "      <td>Suhail Tatari</td>\n",
       "      <td>Sikandar Kher, Gul Panag, Neetu Chandra, Susan...</td>\n",
       "      <td>NaN</td>\n",
       "    </tr>\n",
       "    <tr>\n",
       "      <th>42</th>\n",
       "      <td>AUG</td>\n",
       "      <td>8.0</td>\n",
       "      <td>Good Luck!</td>\n",
       "      <td>Karan Sharma, Joginder Sharma</td>\n",
       "      <td>Aryeman, Sayali Bhagat, Ranvir Shorey, Lucky A...</td>\n",
       "      <td>NaN</td>\n",
       "    </tr>\n",
       "    <tr>\n",
       "      <th>47</th>\n",
       "      <td>AUG</td>\n",
       "      <td>22.0</td>\n",
       "      <td>Mumbai Meri Jaan</td>\n",
       "      <td>Nishikanth Kamath</td>\n",
       "      <td>Kay Kay Menon, Soha Ali Khan, Paresh Rawal, R....</td>\n",
       "      <td>NaN</td>\n",
       "    </tr>\n",
       "    <tr>\n",
       "      <th>85</th>\n",
       "      <td>DEC</td>\n",
       "      <td>NaN</td>\n",
       "      <td>NaN</td>\n",
       "      <td>NaN</td>\n",
       "      <td>NaN</td>\n",
       "      <td>NaN</td>\n",
       "    </tr>\n",
       "  </tbody>\n",
       "</table>\n",
       "</div>"
      ],
      "text/plain": [
       "   Opening  Opening.1             Title                       Director  \\\n",
       "28     JUN       13.0       Summer 2007                  Suhail Tatari   \n",
       "42     AUG        8.0        Good Luck!  Karan Sharma, Joginder Sharma   \n",
       "47     AUG       22.0  Mumbai Meri Jaan              Nishikanth Kamath   \n",
       "85     DEC        NaN               NaN                            NaN   \n",
       "\n",
       "                                                 Cast Genre  \n",
       "28  Sikandar Kher, Gul Panag, Neetu Chandra, Susan...   NaN  \n",
       "42  Aryeman, Sayali Bhagat, Ranvir Shorey, Lucky A...   NaN  \n",
       "47  Kay Kay Menon, Soha Ali Khan, Paresh Rawal, R....   NaN  \n",
       "85                                                NaN   NaN  "
      ]
     },
     "execution_count": 32,
     "metadata": {},
     "output_type": "execute_result"
    }
   ],
   "source": [
    "df1=df1[df1['Genre'].isnull()]\n",
    "df1"
   ]
  },
  {
   "cell_type": "code",
   "execution_count": 20,
   "metadata": {},
   "outputs": [
    {
     "data": {
      "text/plain": [
       "Int64Index([4, 28, 42, 47, 85], dtype='int64')"
      ]
     },
     "execution_count": 20,
     "metadata": {},
     "output_type": "execute_result"
    }
   ],
   "source": [
    "df1.index"
   ]
  },
  {
   "cell_type": "code",
   "execution_count": 37,
   "metadata": {},
   "outputs": [
    {
     "data": {
      "text/plain": [
       "Opening                                                 JAN\n",
       "Opening.1                                                18\n",
       "Title                                                 Tulsi\n",
       "Director                                         Ajay Kumar\n",
       "Cast         Irrfan Khan, Manisha Koirala, Arzoo Govitrikar\n",
       "Genre                                                 Drama\n",
       "Name: 4, dtype: object"
      ]
     },
     "execution_count": 37,
     "metadata": {},
     "output_type": "execute_result"
    }
   ],
   "source": [
    "df3.loc[4]"
   ]
  },
  {
   "cell_type": "code",
   "execution_count": 40,
   "metadata": {},
   "outputs": [
    {
     "data": {
      "text/html": [
       "<div>\n",
       "<style scoped>\n",
       "    .dataframe tbody tr th:only-of-type {\n",
       "        vertical-align: middle;\n",
       "    }\n",
       "\n",
       "    .dataframe tbody tr th {\n",
       "        vertical-align: top;\n",
       "    }\n",
       "\n",
       "    .dataframe thead th {\n",
       "        text-align: right;\n",
       "    }\n",
       "</style>\n",
       "<table border=\"1\" class=\"dataframe\">\n",
       "  <thead>\n",
       "    <tr style=\"text-align: right;\">\n",
       "      <th></th>\n",
       "      <th>Opening</th>\n",
       "      <th>Opening.1</th>\n",
       "      <th>Title</th>\n",
       "      <th>Director</th>\n",
       "      <th>Cast</th>\n",
       "      <th>Genre</th>\n",
       "    </tr>\n",
       "  </thead>\n",
       "  <tbody>\n",
       "    <tr>\n",
       "      <th>0</th>\n",
       "      <td>JAN</td>\n",
       "      <td>4.0</td>\n",
       "      <td>Humne Jeena Seekh Liya</td>\n",
       "      <td>Milind Ukey</td>\n",
       "      <td>Siddharth Chandekar, Mrunmayi Deshpande</td>\n",
       "      <td>Comedy</td>\n",
       "    </tr>\n",
       "    <tr>\n",
       "      <th>1</th>\n",
       "      <td>JAN</td>\n",
       "      <td>4.0</td>\n",
       "      <td>Rama Rama Kya Hai Dramaa?</td>\n",
       "      <td>S. Chandrakaant</td>\n",
       "      <td>Rajpal Yadav, Neha Dhupia, Aashish Chaudhary, ...</td>\n",
       "      <td>Comedy</td>\n",
       "    </tr>\n",
       "    <tr>\n",
       "      <th>2</th>\n",
       "      <td>JAN</td>\n",
       "      <td>11.0</td>\n",
       "      <td>Halla Bol</td>\n",
       "      <td>Rajkumar Santoshi</td>\n",
       "      <td>Ajay Devgn, Vidya Balan, Pankaj Kapoor</td>\n",
       "      <td>Social</td>\n",
       "    </tr>\n",
       "    <tr>\n",
       "      <th>3</th>\n",
       "      <td>JAN</td>\n",
       "      <td>18.0</td>\n",
       "      <td>Bombay to Bangkok</td>\n",
       "      <td>Nagesh Kukunoor</td>\n",
       "      <td>Shreyas Talpade, Lena Christensen</td>\n",
       "      <td>Comedy, Drama, Romance</td>\n",
       "    </tr>\n",
       "    <tr>\n",
       "      <th>4</th>\n",
       "      <td>JAN</td>\n",
       "      <td>18.0</td>\n",
       "      <td>Tulsi</td>\n",
       "      <td>Ajay Kumar</td>\n",
       "      <td>Irrfan Khan, Manisha Koirala, Arzoo Govitrikar</td>\n",
       "      <td>Drama</td>\n",
       "    </tr>\n",
       "    <tr>\n",
       "      <th>...</th>\n",
       "      <td>...</td>\n",
       "      <td>...</td>\n",
       "      <td>...</td>\n",
       "      <td>...</td>\n",
       "      <td>...</td>\n",
       "      <td>...</td>\n",
       "    </tr>\n",
       "    <tr>\n",
       "      <th>80</th>\n",
       "      <td>DEC</td>\n",
       "      <td>5.0</td>\n",
       "      <td>Oh, My God</td>\n",
       "      <td>Sourabh Shrivastava</td>\n",
       "      <td>Vinay Pathak, Saurabh Shukla, Divya Dutta, Gau...</td>\n",
       "      <td>Comedy</td>\n",
       "    </tr>\n",
       "    <tr>\n",
       "      <th>81</th>\n",
       "      <td>DEC</td>\n",
       "      <td>12.0</td>\n",
       "      <td>Rab Ne Bana Di Jodi</td>\n",
       "      <td>Aditya Chopra</td>\n",
       "      <td>Shah Rukh Khan, Anushka Sharma</td>\n",
       "      <td>Romance</td>\n",
       "    </tr>\n",
       "    <tr>\n",
       "      <th>82</th>\n",
       "      <td>DEC</td>\n",
       "      <td>19.0</td>\n",
       "      <td>Wafaa</td>\n",
       "      <td>Rakesh Sawant</td>\n",
       "      <td>Rajesh Khanna, Laila Khan, Shahib Chopra, Diya...</td>\n",
       "      <td>Romance, Drama, Romance</td>\n",
       "    </tr>\n",
       "    <tr>\n",
       "      <th>83</th>\n",
       "      <td>DEC</td>\n",
       "      <td>26.0</td>\n",
       "      <td>Ghajini</td>\n",
       "      <td>A. R. Murugadoss</td>\n",
       "      <td>Aamir Khan, Asin, Jiah Khan, Pradeep Rawat</td>\n",
       "      <td>action, Drama, Mystery, Romance, Thriller</td>\n",
       "    </tr>\n",
       "    <tr>\n",
       "      <th>84</th>\n",
       "      <td>DEC</td>\n",
       "      <td>26.0</td>\n",
       "      <td>Jumbo</td>\n",
       "      <td>Kompin Kemgumnird</td>\n",
       "      <td>Akshay Kumar, Lara Dutta, Dimple Kapadia, Rajp...</td>\n",
       "      <td>Animation</td>\n",
       "    </tr>\n",
       "  </tbody>\n",
       "</table>\n",
       "<p>84 rows × 6 columns</p>\n",
       "</div>"
      ],
      "text/plain": [
       "   Opening  Opening.1                      Title             Director  \\\n",
       "0      JAN        4.0     Humne Jeena Seekh Liya          Milind Ukey   \n",
       "1      JAN        4.0  Rama Rama Kya Hai Dramaa?      S. Chandrakaant   \n",
       "2      JAN       11.0                  Halla Bol    Rajkumar Santoshi   \n",
       "3      JAN       18.0          Bombay to Bangkok      Nagesh Kukunoor   \n",
       "4      JAN       18.0                      Tulsi           Ajay Kumar   \n",
       "..     ...        ...                        ...                  ...   \n",
       "80     DEC        5.0                 Oh, My God  Sourabh Shrivastava   \n",
       "81     DEC       12.0        Rab Ne Bana Di Jodi        Aditya Chopra   \n",
       "82     DEC       19.0                      Wafaa        Rakesh Sawant   \n",
       "83     DEC       26.0                    Ghajini     A. R. Murugadoss   \n",
       "84     DEC       26.0                      Jumbo    Kompin Kemgumnird   \n",
       "\n",
       "                                                 Cast  \\\n",
       "0             Siddharth Chandekar, Mrunmayi Deshpande   \n",
       "1   Rajpal Yadav, Neha Dhupia, Aashish Chaudhary, ...   \n",
       "2              Ajay Devgn, Vidya Balan, Pankaj Kapoor   \n",
       "3                   Shreyas Talpade, Lena Christensen   \n",
       "4      Irrfan Khan, Manisha Koirala, Arzoo Govitrikar   \n",
       "..                                                ...   \n",
       "80  Vinay Pathak, Saurabh Shukla, Divya Dutta, Gau...   \n",
       "81                     Shah Rukh Khan, Anushka Sharma   \n",
       "82  Rajesh Khanna, Laila Khan, Shahib Chopra, Diya...   \n",
       "83         Aamir Khan, Asin, Jiah Khan, Pradeep Rawat   \n",
       "84  Akshay Kumar, Lara Dutta, Dimple Kapadia, Rajp...   \n",
       "\n",
       "                                        Genre  \n",
       "0                                      Comedy  \n",
       "1                                      Comedy  \n",
       "2                                      Social  \n",
       "3                      Comedy, Drama, Romance  \n",
       "4                                       Drama  \n",
       "..                                        ...  \n",
       "80                                     Comedy  \n",
       "81                                    Romance  \n",
       "82                    Romance, Drama, Romance  \n",
       "83  action, Drama, Mystery, Romance, Thriller  \n",
       "84                                  Animation  \n",
       "\n",
       "[84 rows x 6 columns]"
      ]
     },
     "execution_count": 40,
     "metadata": {},
     "output_type": "execute_result"
    }
   ],
   "source": [
    "df3.dropna()"
   ]
  },
  {
   "cell_type": "code",
   "execution_count": 41,
   "metadata": {},
   "outputs": [
    {
     "name": "stdout",
     "output_type": "stream",
     "text": [
      "/Users/pradeepvaddigadda/Desktop\n"
     ]
    }
   ],
   "source": [
    "cd /Users/pradeepvaddigadda/desktop"
   ]
  },
  {
   "cell_type": "code",
   "execution_count": 43,
   "metadata": {},
   "outputs": [],
   "source": [
    "df3.to_csv('cleanedfilm_2008.csv', header=True, index=True)"
   ]
  },
  {
   "cell_type": "code",
   "execution_count": null,
   "metadata": {},
   "outputs": [],
   "source": []
  }
 ],
 "metadata": {
  "kernelspec": {
   "display_name": "Python 3",
   "language": "python",
   "name": "python3"
  },
  "language_info": {
   "codemirror_mode": {
    "name": "ipython",
    "version": 3
   },
   "file_extension": ".py",
   "mimetype": "text/x-python",
   "name": "python",
   "nbconvert_exporter": "python",
   "pygments_lexer": "ipython3",
   "version": "3.8.3"
  }
 },
 "nbformat": 4,
 "nbformat_minor": 4
}
