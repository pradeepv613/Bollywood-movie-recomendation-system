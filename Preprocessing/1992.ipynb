{
 "cells": [
  {
   "cell_type": "code",
   "execution_count": 1,
   "metadata": {},
   "outputs": [],
   "source": [
    "import pandas as pd\n",
    "import numpy as np\n",
    "import requests\n",
    "import bs4 as bs\n",
    "import urllib.request"
   ]
  },
  {
   "cell_type": "code",
   "execution_count": 2,
   "metadata": {},
   "outputs": [],
   "source": [
    "#pip install requests[security]"
   ]
  },
  {
   "cell_type": "code",
   "execution_count": 3,
   "metadata": {},
   "outputs": [],
   "source": [
    "link = \"https://en.wikipedia.org/wiki/List_of_Bollywood_films_of_1992\""
   ]
  },
  {
   "cell_type": "code",
   "execution_count": 4,
   "metadata": {},
   "outputs": [],
   "source": [
    "source = urllib.request.urlopen(link).read()\n",
    "soup = bs.BeautifulSoup(source,'lxml')"
   ]
  },
  {
   "cell_type": "code",
   "execution_count": 5,
   "metadata": {},
   "outputs": [],
   "source": [
    "tables = soup.find_all('table',class_='wikitable')"
   ]
  },
  {
   "cell_type": "code",
   "execution_count": 6,
   "metadata": {},
   "outputs": [
    {
     "data": {
      "text/plain": [
       "6"
      ]
     },
     "execution_count": 6,
     "metadata": {},
     "output_type": "execute_result"
    }
   ],
   "source": [
    "\n",
    "len(tables)"
   ]
  },
  {
   "cell_type": "code",
   "execution_count": 7,
   "metadata": {},
   "outputs": [],
   "source": [
    "#df0 = pd.read_html(str(tables[5]))[0]\n",
    "df1 = pd.read_html(str(tables[4]))[0]\n",
    "df2 = pd.read_html(str(tables[1]))[0]\n",
    "df3 = pd.read_html(str(tables[2]))[0]\n",
    "df4 = pd.read_html(str(tables[3]).replace(\"'1\\\"\\'\",'\"1\"'))[0] # avoided \"ValueError: invalid literal for int() with base 10: '1\"'\n"
   ]
  },
  {
   "cell_type": "code",
   "execution_count": 8,
   "metadata": {},
   "outputs": [],
   "source": [
    "\n",
    "#df = pd.read_html(str(tables[1]))[0]\n",
    " # avoided \"ValueError: invalid literal for int() with base 10: '1\"'"
   ]
  },
  {
   "cell_type": "code",
   "execution_count": 9,
   "metadata": {},
   "outputs": [],
   "source": [
    "df = df1.append(df2.append(df3.append(df4,ignore_index=True),ignore_index=True),ignore_index=True)"
   ]
  },
  {
   "cell_type": "code",
   "execution_count": 10,
   "metadata": {},
   "outputs": [
    {
     "name": "stdout",
     "output_type": "stream",
     "text": [
      "   Opening  Opening.1                  Title             Director  \\\n",
      "0      JUL        3.0               Jaagruti       Suresh Krissna   \n",
      "1      JUL       10.0        Parda Hai Parda           K. Bapaiah   \n",
      "2      JUL       10.0              Chamatkar          Rajiv Mehra   \n",
      "3      JUL       10.0      Aaj Ka Goonda Raj  Ravi Raja Pinisetty   \n",
      "4      JUL       10.0              Honeymoon       Surendra Menon   \n",
      "5      JUL       10.0                Mashooq       Mirza Brothers   \n",
      "6      JUL       17.0                  Payal        Mahendra Shah   \n",
      "7      JUL       17.0        Zulm Ki Hukumat    Bharat Rangachary   \n",
      "8      JUL       17.0              Nishchaiy      Esmayeel Shroff   \n",
      "9      JUL       24.0         Sapne Sajan Ke     Lawrence D'Souza   \n",
      "10     JUL       24.0      Police Aur Mujrim        K. C. Bokadia   \n",
      "11     JUL       31.0                Bekhudi         Rahul Rawail   \n",
      "12     JUL       31.0              Humshakal            Kalpataru   \n",
      "13     JUL       31.0        Radha Ka Sangam          Kirti Kumar   \n",
      "14     AUG        7.0                Tahalka          Anil Sharma   \n",
      "15     AUG       14.0                   Khel        Rakesh Roshan   \n",
      "16     AUG       14.0                 Deedar   Pramod Chakravorty   \n",
      "17     AUG       14.0   Mehboob Mere Mehboob        Gurdeep Singh   \n",
      "18     AUG       21.0          Bol Radha Bol         David Dhawan   \n",
      "19     AUG       21.0            Kal Ki Awaz          Ravi Chopra   \n",
      "20     AUG       28.0  Jeena Marna Tere Sang          Vijay Reddy   \n",
      "21     AUG       28.0    Isi Ka Naam Zindagi              Kalidas   \n",
      "22     SEP        4.0            Heer Ranjha     Harmesh Malhotra   \n",
      "23     SEP        4.0         Aasman Se Gira      Pankaj Parashar   \n",
      "24     SEP       11.0                 Angaar    Shashilal K. Nair   \n",
      "25     SEP       11.0       Bewaffa Se Waffa     Saawan Kumar Tak   \n",
      "26     SEP       11.0                Balwaan         Deepak Anand   \n",
      "27     SEP       11.0        Waqt Ka Badshah             Manmohan   \n",
      "28     SEP       18.0                 Junoon        Vijay Sadanah   \n",
      "29     SEP       18.0                Sangeet        K. Vishwanath   \n",
      "30     SEP       25.0  Dilwale Kabhi Na Hare             C. Menon   \n",
      "31      25        NaN                    NaN                  NaN   \n",
      "\n",
      "                                                 Cast             Genre  \n",
      "0                         Salman Khan, Karisma Kapoor     Action, Drama  \n",
      "1                                Chunky Pandey, Meena             Drama  \n",
      "2   Naseeruddin Shah, Shahrukh Khan, Urmila Matondkar            Comedy  \n",
      "3         Chiranjeevi, Meenakshi Seshadri, Raj Babbar     Crime, Action  \n",
      "4       Rishi Kapoor, Varsha Usgaonkar, Ashwini Bhave           Romance  \n",
      "5                             Ayesha Julka, Ayub Khan           Romance  \n",
      "6                               Bhagyashree, Himalaya           Romance  \n",
      "7   Dharmendra, Moushmi Chatterji, Govinda, Kimi K...            Action  \n",
      "8   Salman Khan, Vinod Khanna, Karisma Kapoor, Mou...           Romance  \n",
      "9   Jackie Shroff, Rahul Roy, Karisma Kapoor, Guls...  Musical, Romance  \n",
      "10  Raaj Kumar, Vinod Khanna, Meenakshi Seshadri, ...      Crime, Drama  \n",
      "11        Kajol, Kamal Sadanah, Ajay Mankotia, Tanuja  Musical, Romance  \n",
      "12  Vinod Khanna, Meenakshi Seshadri, Nagma, Avina...      Crime, Drama  \n",
      "13                               Govinda, Juhi Chawla           Romance  \n",
      "14  Dharmendra, Naseeruddin Shah, Aditya Pancholi,...            Action  \n",
      "15             Anil Kapoor, Madhuri Dixit, Sonu Walia     Comedy, Drama  \n",
      "16          Akshay Kumar, Karisma Kapoor, Anupam Kher    Romance, Drama  \n",
      "17  Sujoy Mukherjee, Pratibha Sinha, Mohnish Bahl,...           Romance  \n",
      "18            Rishi Kapoor, Juhi Chawla, Mohnish Bahl   Romance, Comedy  \n",
      "19  Dharmendra, Amrita Singh, Pratibha Sinha, Raj ...      Social Drama  \n",
      "20                        Sanjay Dutt, Raveena Tandon            Action  \n",
      "21                       Aamir Khan, Farha Naaz, Pran            Comedy  \n",
      "22                         Anil Kapoor, Sridevi, Pran           Romance  \n",
      "23  Raghubir Yadav, Kalpana Iyer, Anil Kapoor, Sri...           Fantasy  \n",
      "24  Jackie Shroff, Dimple Kapadia, Nana Patekar, O...           Romance  \n",
      "25                  Juhi Chawla, Vivek Mushran, Nagma    Romance, Drama  \n",
      "26        Divya Bharti, Sunil Shetty, Danny Denzongpa            Action  \n",
      "27                          Akash Deep, Moon Moon Sen            Action  \n",
      "28                             Pooja Bhatt, Rahul Roy  Romance, Musical  \n",
      "29                       Jackie Shroff, Madhuri Dixit    Romance, Drama  \n",
      "30        Rahul Roy, Nagma, Prithvi, Varsha Usgaonkar    Romance, Drama  \n",
      "31                                                NaN               NaN  \n"
     ]
    }
   ],
   "source": [
    "print(df4)"
   ]
  },
  {
   "cell_type": "code",
   "execution_count": 11,
   "metadata": {},
   "outputs": [],
   "source": [
    "df = df3"
   ]
  },
  {
   "cell_type": "code",
   "execution_count": null,
   "metadata": {},
   "outputs": [],
   "source": []
  },
  {
   "cell_type": "code",
   "execution_count": 35,
   "metadata": {},
   "outputs": [
    {
     "name": "stdout",
     "output_type": "stream",
     "text": [
      "[Errno 2] No such file or directory: 'Users/pradeepvaddigadda/desktop'\n",
      "/Users/pradeepvaddigadda\n"
     ]
    }
   ],
   "source": [
    "cd Users/pradeepvaddigadda/desktop"
   ]
  },
  {
   "cell_type": "code",
   "execution_count": 36,
   "metadata": {},
   "outputs": [],
   "source": [
    "df.to_csv('film_1992.csv', header=False, index=False)"
   ]
  },
  {
   "cell_type": "code",
   "execution_count": 12,
   "metadata": {},
   "outputs": [
    {
     "data": {
      "text/plain": [
       "Opening      0\n",
       "Opening.1    1\n",
       "Title        1\n",
       "Director     1\n",
       "Cast         1\n",
       "Genre        1\n",
       "dtype: int64"
      ]
     },
     "execution_count": 12,
     "metadata": {},
     "output_type": "execute_result"
    }
   ],
   "source": [
    "df.isnull().sum()"
   ]
  },
  {
   "cell_type": "code",
   "execution_count": 14,
   "metadata": {},
   "outputs": [],
   "source": [
    "df1=df.dropna()"
   ]
  },
  {
   "cell_type": "code",
   "execution_count": null,
   "metadata": {},
   "outputs": [],
   "source": [
    "df1"
   ]
  },
  {
   "cell_type": "code",
   "execution_count": 15,
   "metadata": {},
   "outputs": [
    {
     "name": "stdout",
     "output_type": "stream",
     "text": [
      "/Users/pradeepvaddigadda/Desktop\n"
     ]
    }
   ],
   "source": [
    "cd /Users/pradeepvaddigadda/desktop"
   ]
  },
  {
   "cell_type": "code",
   "execution_count": 16,
   "metadata": {},
   "outputs": [],
   "source": [
    "df.to_csv('cleanedfilm_1992.csv', header=True, index=True)"
   ]
  },
  {
   "cell_type": "code",
   "execution_count": null,
   "metadata": {},
   "outputs": [],
   "source": []
  }
 ],
 "metadata": {
  "kernelspec": {
   "display_name": "Python 3",
   "language": "python",
   "name": "python3"
  },
  "language_info": {
   "codemirror_mode": {
    "name": "ipython",
    "version": 3
   },
   "file_extension": ".py",
   "mimetype": "text/x-python",
   "name": "python",
   "nbconvert_exporter": "python",
   "pygments_lexer": "ipython3",
   "version": "3.8.3"
  }
 },
 "nbformat": 4,
 "nbformat_minor": 4
}
