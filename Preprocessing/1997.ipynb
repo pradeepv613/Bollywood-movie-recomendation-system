{
 "cells": [
  {
   "cell_type": "code",
   "execution_count": 1,
   "metadata": {},
   "outputs": [],
   "source": [
    "import pandas as pd\n",
    "import numpy as np\n",
    "import requests\n",
    "import bs4 as bs\n",
    "import urllib.request"
   ]
  },
  {
   "cell_type": "code",
   "execution_count": 2,
   "metadata": {},
   "outputs": [],
   "source": [
    "#pip install requests[security]"
   ]
  },
  {
   "cell_type": "code",
   "execution_count": 3,
   "metadata": {},
   "outputs": [],
   "source": [
    "link = \"https://en.wikipedia.org/wiki/List_of_Bollywood_films_of_1997\""
   ]
  },
  {
   "cell_type": "code",
   "execution_count": 4,
   "metadata": {},
   "outputs": [],
   "source": [
    "source = urllib.request.urlopen(link).read()\n",
    "soup = bs.BeautifulSoup(source,'lxml')"
   ]
  },
  {
   "cell_type": "code",
   "execution_count": 5,
   "metadata": {},
   "outputs": [],
   "source": [
    "tables = soup.find_all('table',class_='wikitable')"
   ]
  },
  {
   "cell_type": "code",
   "execution_count": 6,
   "metadata": {},
   "outputs": [
    {
     "data": {
      "text/plain": [
       "3"
      ]
     },
     "execution_count": 6,
     "metadata": {},
     "output_type": "execute_result"
    }
   ],
   "source": [
    "\n",
    "len(tables)"
   ]
  },
  {
   "cell_type": "code",
   "execution_count": 7,
   "metadata": {},
   "outputs": [],
   "source": [
    "\n",
    "df3 = pd.read_html(str(tables[1]))[0]\n",
    " # avoided \"ValueError: invalid literal for int() with base 10: '1\"'"
   ]
  },
  {
   "cell_type": "code",
   "execution_count": 8,
   "metadata": {},
   "outputs": [
    {
     "name": "stdout",
     "output_type": "stream",
     "text": [
      "                              Title            Director  \\\n",
      "0                       Aar Ya Paar         Ketan Mehta   \n",
      "1   Aastha: In the Prison of Spring  Basu Bhattacharyya   \n",
      "2                          Aflatoon        Guddu Dhanoa   \n",
      "3                        Agnichakra    Amit Suryavanshi   \n",
      "4                 Aur Pyaar Ho Gaya        Rahul Rawail   \n",
      "..                              ...                 ...   \n",
      "61                Uff! Yeh Mohabbat         Vipin Handa   \n",
      "62                          Virasat        Priyadarshan   \n",
      "63                         Yes Boss          Aziz Mirza   \n",
      "64                         Yeshwant          Anil Matto   \n",
      "65                            Ziddi        Guddu Dhanoa   \n",
      "\n",
      "                                                 Cast            Genre  \n",
      "0                           Jackie Shroff, Deepa Sahi   Romance, Crime  \n",
      "1                                      Rekha, Om Puri              NaN  \n",
      "2                      Akshay Kumar, Urmila Matondkar           Action  \n",
      "3   Naseeruddin Shah, Govinda, Dimple Kapadia, Som...           Action  \n",
      "4                           Bobby Deol, Aishwarya Rai          Romance  \n",
      "..                                                ...              ...  \n",
      "61       Abhishek Kapoor, Twinkle Khanna, Anupam Kher              NaN  \n",
      "62        Anil Kapoor, Tabu, Pooja Batra, Amrish Puri            Drama  \n",
      "63  Aditya Pancholi, Shahrukh Khan, Juhi Chawla, G...  Comedy, Romance  \n",
      "64  Nana Patekar, Madhoo, Atul Agnihotri, Mohan Jo...           Social  \n",
      "65                         Sunny Deol, Raveena Tandon    Action, Drama  \n",
      "\n",
      "[66 rows x 4 columns]\n"
     ]
    }
   ],
   "source": [
    "print(df3)"
   ]
  },
  {
   "cell_type": "code",
   "execution_count": 9,
   "metadata": {},
   "outputs": [],
   "source": [
    "df = df3"
   ]
  },
  {
   "cell_type": "code",
   "execution_count": 10,
   "metadata": {},
   "outputs": [
    {
     "data": {
      "text/html": [
       "<div>\n",
       "<style scoped>\n",
       "    .dataframe tbody tr th:only-of-type {\n",
       "        vertical-align: middle;\n",
       "    }\n",
       "\n",
       "    .dataframe tbody tr th {\n",
       "        vertical-align: top;\n",
       "    }\n",
       "\n",
       "    .dataframe thead th {\n",
       "        text-align: right;\n",
       "    }\n",
       "</style>\n",
       "<table border=\"1\" class=\"dataframe\">\n",
       "  <thead>\n",
       "    <tr style=\"text-align: right;\">\n",
       "      <th></th>\n",
       "      <th>Title</th>\n",
       "      <th>Director</th>\n",
       "      <th>Cast</th>\n",
       "      <th>Genre</th>\n",
       "    </tr>\n",
       "  </thead>\n",
       "  <tbody>\n",
       "    <tr>\n",
       "      <th>0</th>\n",
       "      <td>Aar Ya Paar</td>\n",
       "      <td>Ketan Mehta</td>\n",
       "      <td>Jackie Shroff, Deepa Sahi</td>\n",
       "      <td>Romance, Crime</td>\n",
       "    </tr>\n",
       "    <tr>\n",
       "      <th>1</th>\n",
       "      <td>Aastha: In the Prison of Spring</td>\n",
       "      <td>Basu Bhattacharyya</td>\n",
       "      <td>Rekha, Om Puri</td>\n",
       "      <td>NaN</td>\n",
       "    </tr>\n",
       "    <tr>\n",
       "      <th>2</th>\n",
       "      <td>Aflatoon</td>\n",
       "      <td>Guddu Dhanoa</td>\n",
       "      <td>Akshay Kumar, Urmila Matondkar</td>\n",
       "      <td>Action</td>\n",
       "    </tr>\n",
       "    <tr>\n",
       "      <th>3</th>\n",
       "      <td>Agnichakra</td>\n",
       "      <td>Amit Suryavanshi</td>\n",
       "      <td>Naseeruddin Shah, Govinda, Dimple Kapadia, Som...</td>\n",
       "      <td>Action</td>\n",
       "    </tr>\n",
       "    <tr>\n",
       "      <th>4</th>\n",
       "      <td>Aur Pyaar Ho Gaya</td>\n",
       "      <td>Rahul Rawail</td>\n",
       "      <td>Bobby Deol, Aishwarya Rai</td>\n",
       "      <td>Romance</td>\n",
       "    </tr>\n",
       "    <tr>\n",
       "      <th>...</th>\n",
       "      <td>...</td>\n",
       "      <td>...</td>\n",
       "      <td>...</td>\n",
       "      <td>...</td>\n",
       "    </tr>\n",
       "    <tr>\n",
       "      <th>61</th>\n",
       "      <td>Uff! Yeh Mohabbat</td>\n",
       "      <td>Vipin Handa</td>\n",
       "      <td>Abhishek Kapoor, Twinkle Khanna, Anupam Kher</td>\n",
       "      <td>NaN</td>\n",
       "    </tr>\n",
       "    <tr>\n",
       "      <th>62</th>\n",
       "      <td>Virasat</td>\n",
       "      <td>Priyadarshan</td>\n",
       "      <td>Anil Kapoor, Tabu, Pooja Batra, Amrish Puri</td>\n",
       "      <td>Drama</td>\n",
       "    </tr>\n",
       "    <tr>\n",
       "      <th>63</th>\n",
       "      <td>Yes Boss</td>\n",
       "      <td>Aziz Mirza</td>\n",
       "      <td>Aditya Pancholi, Shahrukh Khan, Juhi Chawla, G...</td>\n",
       "      <td>Comedy, Romance</td>\n",
       "    </tr>\n",
       "    <tr>\n",
       "      <th>64</th>\n",
       "      <td>Yeshwant</td>\n",
       "      <td>Anil Matto</td>\n",
       "      <td>Nana Patekar, Madhoo, Atul Agnihotri, Mohan Jo...</td>\n",
       "      <td>Social</td>\n",
       "    </tr>\n",
       "    <tr>\n",
       "      <th>65</th>\n",
       "      <td>Ziddi</td>\n",
       "      <td>Guddu Dhanoa</td>\n",
       "      <td>Sunny Deol, Raveena Tandon</td>\n",
       "      <td>Action, Drama</td>\n",
       "    </tr>\n",
       "  </tbody>\n",
       "</table>\n",
       "<p>66 rows × 4 columns</p>\n",
       "</div>"
      ],
      "text/plain": [
       "                              Title            Director  \\\n",
       "0                       Aar Ya Paar         Ketan Mehta   \n",
       "1   Aastha: In the Prison of Spring  Basu Bhattacharyya   \n",
       "2                          Aflatoon        Guddu Dhanoa   \n",
       "3                        Agnichakra    Amit Suryavanshi   \n",
       "4                 Aur Pyaar Ho Gaya        Rahul Rawail   \n",
       "..                              ...                 ...   \n",
       "61                Uff! Yeh Mohabbat         Vipin Handa   \n",
       "62                          Virasat        Priyadarshan   \n",
       "63                         Yes Boss          Aziz Mirza   \n",
       "64                         Yeshwant          Anil Matto   \n",
       "65                            Ziddi        Guddu Dhanoa   \n",
       "\n",
       "                                                 Cast            Genre  \n",
       "0                           Jackie Shroff, Deepa Sahi   Romance, Crime  \n",
       "1                                      Rekha, Om Puri              NaN  \n",
       "2                      Akshay Kumar, Urmila Matondkar           Action  \n",
       "3   Naseeruddin Shah, Govinda, Dimple Kapadia, Som...           Action  \n",
       "4                           Bobby Deol, Aishwarya Rai          Romance  \n",
       "..                                                ...              ...  \n",
       "61       Abhishek Kapoor, Twinkle Khanna, Anupam Kher              NaN  \n",
       "62        Anil Kapoor, Tabu, Pooja Batra, Amrish Puri            Drama  \n",
       "63  Aditya Pancholi, Shahrukh Khan, Juhi Chawla, G...  Comedy, Romance  \n",
       "64  Nana Patekar, Madhoo, Atul Agnihotri, Mohan Jo...           Social  \n",
       "65                         Sunny Deol, Raveena Tandon    Action, Drama  \n",
       "\n",
       "[66 rows x 4 columns]"
      ]
     },
     "execution_count": 10,
     "metadata": {},
     "output_type": "execute_result"
    }
   ],
   "source": [
    "df"
   ]
  },
  {
   "cell_type": "code",
   "execution_count": 11,
   "metadata": {},
   "outputs": [
    {
     "name": "stdout",
     "output_type": "stream",
     "text": [
      "[Errno 2] No such file or directory: 'Users/pradeepvaddigadda/desktop'\n",
      "/Users/pradeepvaddigadda\n"
     ]
    }
   ],
   "source": [
    "cd Users/pradeepvaddigadda/desktop"
   ]
  },
  {
   "cell_type": "code",
   "execution_count": 12,
   "metadata": {},
   "outputs": [],
   "source": [
    "df.to_csv('film_1997.csv', header=False, index=False)"
   ]
  },
  {
   "cell_type": "code",
   "execution_count": 11,
   "metadata": {},
   "outputs": [
    {
     "data": {
      "text/plain": [
       "Title        0\n",
       "Director     6\n",
       "Cast         0\n",
       "Genre       22\n",
       "dtype: int64"
      ]
     },
     "execution_count": 11,
     "metadata": {},
     "output_type": "execute_result"
    }
   ],
   "source": [
    "df.isnull().sum()"
   ]
  },
  {
   "cell_type": "code",
   "execution_count": 13,
   "metadata": {},
   "outputs": [],
   "source": [
    "import imdb\n",
    "\n",
    "moviesDB = imdb.IMDb()\n",
    "\n",
    "# # Help?\n",
    "# print(dir(moviesDB))\n",
    "# ----------------------------------------\n",
    "# 1) Search for a title\n",
    "movies = moviesDB.search_movie('inception')\n",
    "#\n",
    "# print('Searching for \"inception\":')\n",
    "# for movie in movies:\n",
    "#     title = movie['title']\n",
    "#     year = movie['year']\n",
    "#     print(f'{title} - {year}')\n",
    "\n",
    "## Help?\n",
    "#print(movies[0].keys())\n",
    "import imdb\n",
    "\n",
    "moviesDB = imdb.IMDb()\n",
    "def get_genre(x):\n",
    "  genres = []\n",
    "  try:\n",
    "        movies = moviesDB.search_movie(x)\n",
    "        id = movies[0].getID()\n",
    "        movie = moviesDB.get_movie(id) \n",
    "        genres = movie['genres'] \n",
    "        direcStr= ' '.join(map(str,genres))\n",
    "        genres.append(direcStr)\n",
    "        return genres\n",
    "  except:\n",
    "    print(\"An exception occurred\")"
   ]
  },
  {
   "cell_type": "code",
   "execution_count": 14,
   "metadata": {},
   "outputs": [],
   "source": [
    "df['genre'] = df['Title'].map(lambda x: get_genre(str(x)))"
   ]
  },
  {
   "cell_type": "code",
   "execution_count": 15,
   "metadata": {},
   "outputs": [
    {
     "data": {
      "text/plain": [
       "Title        0\n",
       "Director     6\n",
       "Cast         0\n",
       "Genre       22\n",
       "genre        0\n",
       "dtype: int64"
      ]
     },
     "execution_count": 15,
     "metadata": {},
     "output_type": "execute_result"
    }
   ],
   "source": [
    "df.isnull().sum()"
   ]
  },
  {
   "cell_type": "code",
   "execution_count": 16,
   "metadata": {},
   "outputs": [],
   "source": [
    "df.drop(['Genre'],1,inplace=True)"
   ]
  },
  {
   "cell_type": "code",
   "execution_count": 17,
   "metadata": {},
   "outputs": [],
   "source": [
    "df=df.dropna()"
   ]
  },
  {
   "cell_type": "code",
   "execution_count": 18,
   "metadata": {},
   "outputs": [
    {
     "name": "stdout",
     "output_type": "stream",
     "text": [
      "/Users/pradeepvaddigadda/Desktop\n"
     ]
    }
   ],
   "source": [
    "cd /Users/pradeepvaddigadda/desktop"
   ]
  },
  {
   "cell_type": "code",
   "execution_count": 19,
   "metadata": {},
   "outputs": [],
   "source": [
    "df.to_csv('cleanedfilm_1997.csv', header=True, index=True)"
   ]
  },
  {
   "cell_type": "code",
   "execution_count": null,
   "metadata": {},
   "outputs": [],
   "source": []
  }
 ],
 "metadata": {
  "kernelspec": {
   "display_name": "Python 3",
   "language": "python",
   "name": "python3"
  },
  "language_info": {
   "codemirror_mode": {
    "name": "ipython",
    "version": 3
   },
   "file_extension": ".py",
   "mimetype": "text/x-python",
   "name": "python",
   "nbconvert_exporter": "python",
   "pygments_lexer": "ipython3",
   "version": "3.8.3"
  }
 },
 "nbformat": 4,
 "nbformat_minor": 4
}
