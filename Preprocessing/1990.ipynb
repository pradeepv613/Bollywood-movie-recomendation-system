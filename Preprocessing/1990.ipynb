{
 "cells": [
  {
   "cell_type": "code",
   "execution_count": 1,
   "metadata": {},
   "outputs": [],
   "source": [
    "import pandas as pd\n",
    "import numpy as np\n",
    "import requests\n",
    "import bs4 as bs\n",
    "import urllib.request"
   ]
  },
  {
   "cell_type": "code",
   "execution_count": 2,
   "metadata": {},
   "outputs": [],
   "source": [
    "#pip install requests[security]"
   ]
  },
  {
   "cell_type": "code",
   "execution_count": 3,
   "metadata": {},
   "outputs": [],
   "source": [
    "link = \"https://en.wikipedia.org/wiki/List_of_Bollywood_films_of_1990\""
   ]
  },
  {
   "cell_type": "code",
   "execution_count": 4,
   "metadata": {},
   "outputs": [],
   "source": [
    "source = urllib.request.urlopen(link).read()\n",
    "soup = bs.BeautifulSoup(source,'lxml')"
   ]
  },
  {
   "cell_type": "code",
   "execution_count": 5,
   "metadata": {},
   "outputs": [],
   "source": [
    "tables = soup.find_all('table',class_='wikitable')"
   ]
  },
  {
   "cell_type": "code",
   "execution_count": 6,
   "metadata": {},
   "outputs": [
    {
     "data": {
      "text/plain": [
       "2"
      ]
     },
     "execution_count": 6,
     "metadata": {},
     "output_type": "execute_result"
    }
   ],
   "source": [
    "\n",
    "len(tables)"
   ]
  },
  {
   "cell_type": "code",
   "execution_count": 7,
   "metadata": {},
   "outputs": [],
   "source": [
    "\n",
    "df3 = pd.read_html(str(tables[0]))[0]\n",
    " # avoided \"ValueError: invalid literal for int() with base 10: '1\"'"
   ]
  },
  {
   "cell_type": "code",
   "execution_count": 8,
   "metadata": {},
   "outputs": [
    {
     "name": "stdout",
     "output_type": "stream",
     "text": [
      "                            Title               Director  \\\n",
      "0    Aadhi Haqeeqat, Aadha Fasana            Dilip Ghosh   \n",
      "1                    Aaj Ka Arjun           K.C. Bokadia   \n",
      "2                   Aag Ka Dariya    S.V. Rajendra Singh   \n",
      "3                     Aag Ka Gola           David Dhawan   \n",
      "4               Aaj Ke Shahenshah            Shibu Mitra   \n",
      "..                            ...                    ...   \n",
      "109                    Veeru Dada             K.R. Reddy   \n",
      "110                         Wafaa            S. M. Abbas   \n",
      "111                     Zahreelay            Jyotin Goel   \n",
      "112                 Zakhmi Zameen          Mahendra Shah   \n",
      "113                    Zimmedaaar  Santosh Kumar Chauhan   \n",
      "\n",
      "                                                  Cast  \\\n",
      "0                                                  NaN   \n",
      "1                         Amitabh Bachchan, Jayapradha   \n",
      "2    Dilip Kumar, Rekha, Padmini Kolhapure, Amrita ...   \n",
      "3      Sunny Deol, Dimple Kapadia, Archana Puran Singh   \n",
      "4                   Raj Babbar, Jeetendra, Kimi Katkar   \n",
      "..                                                 ...   \n",
      "109          Dharmendra, Amrita Singh, Aditya Pancholi   \n",
      "110                   Farooque Shaikh, Vijayeta Pandit   \n",
      "111              Jeetendra, Sanjay Dutt, Chunky Pandey   \n",
      "112  Ishrat Ali, Jaya Prada, Adiya Pancholi, Paresh...   \n",
      "113               Rajiv Kapoor, Anita Raj, Kimi Katkar   \n",
      "\n",
      "                        Genre Sources  \n",
      "0                         NaN     NaN  \n",
      "1               Action, Drama     [3]  \n",
      "2                       Drama     NaN  \n",
      "3                      Action     [4]  \n",
      "4                         NaN     NaN  \n",
      "..                        ...     ...  \n",
      "109  Action, Drama, Adventure     NaN  \n",
      "110                       NaN     NaN  \n",
      "111                    Action     NaN  \n",
      "112                     Drama     NaN  \n",
      "113                       NaN     NaN  \n",
      "\n",
      "[114 rows x 5 columns]\n"
     ]
    }
   ],
   "source": [
    "print(df3)"
   ]
  },
  {
   "cell_type": "code",
   "execution_count": 9,
   "metadata": {},
   "outputs": [],
   "source": [
    "df = df3"
   ]
  },
  {
   "cell_type": "code",
   "execution_count": 10,
   "metadata": {},
   "outputs": [
    {
     "data": {
      "text/html": [
       "<div>\n",
       "<style scoped>\n",
       "    .dataframe tbody tr th:only-of-type {\n",
       "        vertical-align: middle;\n",
       "    }\n",
       "\n",
       "    .dataframe tbody tr th {\n",
       "        vertical-align: top;\n",
       "    }\n",
       "\n",
       "    .dataframe thead th {\n",
       "        text-align: right;\n",
       "    }\n",
       "</style>\n",
       "<table border=\"1\" class=\"dataframe\">\n",
       "  <thead>\n",
       "    <tr style=\"text-align: right;\">\n",
       "      <th></th>\n",
       "      <th>Title</th>\n",
       "      <th>Director</th>\n",
       "      <th>Cast</th>\n",
       "      <th>Genre</th>\n",
       "      <th>Sources</th>\n",
       "    </tr>\n",
       "  </thead>\n",
       "  <tbody>\n",
       "    <tr>\n",
       "      <th>0</th>\n",
       "      <td>Aadhi Haqeeqat, Aadha Fasana</td>\n",
       "      <td>Dilip Ghosh</td>\n",
       "      <td>NaN</td>\n",
       "      <td>NaN</td>\n",
       "      <td>NaN</td>\n",
       "    </tr>\n",
       "    <tr>\n",
       "      <th>1</th>\n",
       "      <td>Aaj Ka Arjun</td>\n",
       "      <td>K.C. Bokadia</td>\n",
       "      <td>Amitabh Bachchan, Jayapradha</td>\n",
       "      <td>Action, Drama</td>\n",
       "      <td>[3]</td>\n",
       "    </tr>\n",
       "    <tr>\n",
       "      <th>2</th>\n",
       "      <td>Aag Ka Dariya</td>\n",
       "      <td>S.V. Rajendra Singh</td>\n",
       "      <td>Dilip Kumar, Rekha, Padmini Kolhapure, Amrita ...</td>\n",
       "      <td>Drama</td>\n",
       "      <td>NaN</td>\n",
       "    </tr>\n",
       "    <tr>\n",
       "      <th>3</th>\n",
       "      <td>Aag Ka Gola</td>\n",
       "      <td>David Dhawan</td>\n",
       "      <td>Sunny Deol, Dimple Kapadia, Archana Puran Singh</td>\n",
       "      <td>Action</td>\n",
       "      <td>[4]</td>\n",
       "    </tr>\n",
       "    <tr>\n",
       "      <th>4</th>\n",
       "      <td>Aaj Ke Shahenshah</td>\n",
       "      <td>Shibu Mitra</td>\n",
       "      <td>Raj Babbar, Jeetendra, Kimi Katkar</td>\n",
       "      <td>NaN</td>\n",
       "      <td>NaN</td>\n",
       "    </tr>\n",
       "    <tr>\n",
       "      <th>...</th>\n",
       "      <td>...</td>\n",
       "      <td>...</td>\n",
       "      <td>...</td>\n",
       "      <td>...</td>\n",
       "      <td>...</td>\n",
       "    </tr>\n",
       "    <tr>\n",
       "      <th>109</th>\n",
       "      <td>Veeru Dada</td>\n",
       "      <td>K.R. Reddy</td>\n",
       "      <td>Dharmendra, Amrita Singh, Aditya Pancholi</td>\n",
       "      <td>Action, Drama, Adventure</td>\n",
       "      <td>NaN</td>\n",
       "    </tr>\n",
       "    <tr>\n",
       "      <th>110</th>\n",
       "      <td>Wafaa</td>\n",
       "      <td>S. M. Abbas</td>\n",
       "      <td>Farooque Shaikh, Vijayeta Pandit</td>\n",
       "      <td>NaN</td>\n",
       "      <td>NaN</td>\n",
       "    </tr>\n",
       "    <tr>\n",
       "      <th>111</th>\n",
       "      <td>Zahreelay</td>\n",
       "      <td>Jyotin Goel</td>\n",
       "      <td>Jeetendra, Sanjay Dutt, Chunky Pandey</td>\n",
       "      <td>Action</td>\n",
       "      <td>NaN</td>\n",
       "    </tr>\n",
       "    <tr>\n",
       "      <th>112</th>\n",
       "      <td>Zakhmi Zameen</td>\n",
       "      <td>Mahendra Shah</td>\n",
       "      <td>Ishrat Ali, Jaya Prada, Adiya Pancholi, Paresh...</td>\n",
       "      <td>Drama</td>\n",
       "      <td>NaN</td>\n",
       "    </tr>\n",
       "    <tr>\n",
       "      <th>113</th>\n",
       "      <td>Zimmedaaar</td>\n",
       "      <td>Santosh Kumar Chauhan</td>\n",
       "      <td>Rajiv Kapoor, Anita Raj, Kimi Katkar</td>\n",
       "      <td>NaN</td>\n",
       "      <td>NaN</td>\n",
       "    </tr>\n",
       "  </tbody>\n",
       "</table>\n",
       "<p>114 rows × 5 columns</p>\n",
       "</div>"
      ],
      "text/plain": [
       "                            Title               Director  \\\n",
       "0    Aadhi Haqeeqat, Aadha Fasana            Dilip Ghosh   \n",
       "1                    Aaj Ka Arjun           K.C. Bokadia   \n",
       "2                   Aag Ka Dariya    S.V. Rajendra Singh   \n",
       "3                     Aag Ka Gola           David Dhawan   \n",
       "4               Aaj Ke Shahenshah            Shibu Mitra   \n",
       "..                            ...                    ...   \n",
       "109                    Veeru Dada             K.R. Reddy   \n",
       "110                         Wafaa            S. M. Abbas   \n",
       "111                     Zahreelay            Jyotin Goel   \n",
       "112                 Zakhmi Zameen          Mahendra Shah   \n",
       "113                    Zimmedaaar  Santosh Kumar Chauhan   \n",
       "\n",
       "                                                  Cast  \\\n",
       "0                                                  NaN   \n",
       "1                         Amitabh Bachchan, Jayapradha   \n",
       "2    Dilip Kumar, Rekha, Padmini Kolhapure, Amrita ...   \n",
       "3      Sunny Deol, Dimple Kapadia, Archana Puran Singh   \n",
       "4                   Raj Babbar, Jeetendra, Kimi Katkar   \n",
       "..                                                 ...   \n",
       "109          Dharmendra, Amrita Singh, Aditya Pancholi   \n",
       "110                   Farooque Shaikh, Vijayeta Pandit   \n",
       "111              Jeetendra, Sanjay Dutt, Chunky Pandey   \n",
       "112  Ishrat Ali, Jaya Prada, Adiya Pancholi, Paresh...   \n",
       "113               Rajiv Kapoor, Anita Raj, Kimi Katkar   \n",
       "\n",
       "                        Genre Sources  \n",
       "0                         NaN     NaN  \n",
       "1               Action, Drama     [3]  \n",
       "2                       Drama     NaN  \n",
       "3                      Action     [4]  \n",
       "4                         NaN     NaN  \n",
       "..                        ...     ...  \n",
       "109  Action, Drama, Adventure     NaN  \n",
       "110                       NaN     NaN  \n",
       "111                    Action     NaN  \n",
       "112                     Drama     NaN  \n",
       "113                       NaN     NaN  \n",
       "\n",
       "[114 rows x 5 columns]"
      ]
     },
     "execution_count": 10,
     "metadata": {},
     "output_type": "execute_result"
    }
   ],
   "source": [
    "df"
   ]
  },
  {
   "cell_type": "code",
   "execution_count": 17,
   "metadata": {},
   "outputs": [
    {
     "name": "stdout",
     "output_type": "stream",
     "text": [
      "[Errno 2] No such file or directory: 'Users/pradeepvaddigadda/desktop'\n",
      "/Users/pradeepvaddigadda\n"
     ]
    }
   ],
   "source": [
    "cd Users/pradeepvaddigadda/desktop"
   ]
  },
  {
   "cell_type": "code",
   "execution_count": 18,
   "metadata": {},
   "outputs": [],
   "source": [
    "df.to_csv('film_1990.csv', header=False, index=False)"
   ]
  },
  {
   "cell_type": "code",
   "execution_count": 11,
   "metadata": {},
   "outputs": [
    {
     "data": {
      "text/plain": [
       "Title         0\n",
       "Director     16\n",
       "Cast          9\n",
       "Genre        53\n",
       "Sources     101\n",
       "dtype: int64"
      ]
     },
     "execution_count": 11,
     "metadata": {},
     "output_type": "execute_result"
    }
   ],
   "source": [
    "df.isnull().sum()"
   ]
  },
  {
   "cell_type": "code",
   "execution_count": 12,
   "metadata": {},
   "outputs": [],
   "source": [
    "import imdb\n",
    "\n",
    "moviesDB = imdb.IMDb()\n",
    "\n",
    "# # Help?\n",
    "# print(dir(moviesDB))\n",
    "# ----------------------------------------\n",
    "# 1) Search for a title\n",
    "movies = moviesDB.search_movie('inception')\n",
    "\n",
    "# print('Searching for \"inception\":')\n",
    "# for movie in movies:\n",
    "#     title = movie['title']\n",
    "#     year = movie['year']\n",
    "#     print(f'{title} - {year}')\n",
    "\n",
    "## Help?\n",
    "#print(movies[0].keys())\n",
    "    \n"
   ]
  },
  {
   "cell_type": "code",
   "execution_count": 13,
   "metadata": {},
   "outputs": [],
   "source": [
    "#getting genre for 2020 movies using imdb API\n",
    "def get_genre(x):\n",
    "  genres = []\n",
    "  movies = moviesDB.search_movie(x)\n",
    "  id = movies[0].getID()\n",
    "  movie = moviesDB.get_movie(id) \n",
    "  try:\n",
    "      genres = movie['genres'] \n",
    "      direcStr= ' '.join(map(str,genres))\n",
    "      genres.append(direcStr)\n",
    "      return genres\n",
    "  except:\n",
    "    print(\"An exception occurred\")\n"
   ]
  },
  {
   "cell_type": "code",
   "execution_count": 14,
   "metadata": {},
   "outputs": [
    {
     "name": "stdout",
     "output_type": "stream",
     "text": [
      "An exception occurred\n",
      "An exception occurred\n",
      "An exception occurred\n"
     ]
    }
   ],
   "source": [
    "df['genre'] = df['Title'].map(lambda x: get_genre(str(x)))"
   ]
  },
  {
   "cell_type": "code",
   "execution_count": 15,
   "metadata": {},
   "outputs": [
    {
     "data": {
      "text/plain": [
       "Title         0\n",
       "Director     16\n",
       "Cast          9\n",
       "Genre        53\n",
       "Sources     101\n",
       "genre         3\n",
       "dtype: int64"
      ]
     },
     "execution_count": 15,
     "metadata": {},
     "output_type": "execute_result"
    }
   ],
   "source": [
    "df.isnull().sum()"
   ]
  },
  {
   "cell_type": "code",
   "execution_count": 18,
   "metadata": {},
   "outputs": [],
   "source": [
    "df.drop(['Genre','Sources'],1,inplace=True)"
   ]
  },
  {
   "cell_type": "code",
   "execution_count": 19,
   "metadata": {},
   "outputs": [
    {
     "data": {
      "text/plain": [
       "Title        0\n",
       "Director    16\n",
       "Cast         9\n",
       "genre        3\n",
       "dtype: int64"
      ]
     },
     "execution_count": 19,
     "metadata": {},
     "output_type": "execute_result"
    }
   ],
   "source": [
    "df.isnull().sum()"
   ]
  },
  {
   "cell_type": "code",
   "execution_count": 21,
   "metadata": {},
   "outputs": [
    {
     "data": {
      "text/html": [
       "<div>\n",
       "<style scoped>\n",
       "    .dataframe tbody tr th:only-of-type {\n",
       "        vertical-align: middle;\n",
       "    }\n",
       "\n",
       "    .dataframe tbody tr th {\n",
       "        vertical-align: top;\n",
       "    }\n",
       "\n",
       "    .dataframe thead th {\n",
       "        text-align: right;\n",
       "    }\n",
       "</style>\n",
       "<table border=\"1\" class=\"dataframe\">\n",
       "  <thead>\n",
       "    <tr style=\"text-align: right;\">\n",
       "      <th></th>\n",
       "      <th>Title</th>\n",
       "      <th>Director</th>\n",
       "      <th>Cast</th>\n",
       "      <th>genre</th>\n",
       "    </tr>\n",
       "  </thead>\n",
       "  <tbody>\n",
       "    <tr>\n",
       "      <th>8</th>\n",
       "      <td>Agneekaal</td>\n",
       "      <td>NaN</td>\n",
       "      <td>Sadashiv Amrapurkar, Tinnu Anand, Raj Babbar</td>\n",
       "      <td>[Action, Crime, Drama, Action Crime Drama]</td>\n",
       "    </tr>\n",
       "    <tr>\n",
       "      <th>24</th>\n",
       "      <td>Baap Numbri Beta Dus Numbri</td>\n",
       "      <td>NaN</td>\n",
       "      <td>Kader Khan, Shakti Kapoor, Jackie Shroff, Fara...</td>\n",
       "      <td>[Action, Comedy, Crime, Action Comedy Crime]</td>\n",
       "    </tr>\n",
       "    <tr>\n",
       "      <th>29</th>\n",
       "      <td>Chingariyan</td>\n",
       "      <td>NaN</td>\n",
       "      <td>Danny Denzongpa</td>\n",
       "      <td>[Action, Action]</td>\n",
       "    </tr>\n",
       "    <tr>\n",
       "      <th>32</th>\n",
       "      <td>College Girl</td>\n",
       "      <td>NaN</td>\n",
       "      <td>Amita Nangia, Pankaj Berry, Veerendra Singh</td>\n",
       "      <td>[Romance, Romance]</td>\n",
       "    </tr>\n",
       "    <tr>\n",
       "      <th>41</th>\n",
       "      <td>Ek Doctor Ki Maut</td>\n",
       "      <td>NaN</td>\n",
       "      <td>NaN</td>\n",
       "      <td>[Biography, Drama, Biography Drama]</td>\n",
       "    </tr>\n",
       "    <tr>\n",
       "      <th>44</th>\n",
       "      <td>Ghar Ki Laxmi</td>\n",
       "      <td>NaN</td>\n",
       "      <td>Shilpa Shirodkar</td>\n",
       "      <td>None</td>\n",
       "    </tr>\n",
       "    <tr>\n",
       "      <th>54</th>\n",
       "      <td>Jagira</td>\n",
       "      <td>NaN</td>\n",
       "      <td>Danny Denzongpa</td>\n",
       "      <td>[Action, Crime, Drama, Action Crime Drama]</td>\n",
       "    </tr>\n",
       "    <tr>\n",
       "      <th>58</th>\n",
       "      <td>Jeene Do</td>\n",
       "      <td>NaN</td>\n",
       "      <td>Sanjay Dutt, Jackie Shroff, Farha Naaz</td>\n",
       "      <td>[Action, Drama, Action Drama]</td>\n",
       "    </tr>\n",
       "    <tr>\n",
       "      <th>70</th>\n",
       "      <td>Khatarnaak</td>\n",
       "      <td>NaN</td>\n",
       "      <td>Sanjay Dutt, Anita Raj, Farha Naaz</td>\n",
       "      <td>[Action, Crime, Drama, Action Crime Drama]</td>\n",
       "    </tr>\n",
       "    <tr>\n",
       "      <th>85</th>\n",
       "      <td>Pyasi Nigahen</td>\n",
       "      <td>NaN</td>\n",
       "      <td>Birbal, Sahila Chaddha, Ajinkya Deo</td>\n",
       "      <td>[Thriller, Thriller]</td>\n",
       "    </tr>\n",
       "    <tr>\n",
       "      <th>86</th>\n",
       "      <td>Qatil Jawani</td>\n",
       "      <td>NaN</td>\n",
       "      <td>Babloo, Hari, Harish Kumar</td>\n",
       "      <td>[Crime, Drama, Thriller, Crime Drama Thriller]</td>\n",
       "    </tr>\n",
       "    <tr>\n",
       "      <th>94</th>\n",
       "      <td>Shandaar</td>\n",
       "      <td>NaN</td>\n",
       "      <td>Mithun Chakraborty, Meenakshi Seshadri, Juhi C...</td>\n",
       "      <td>[Drama, Drama]</td>\n",
       "    </tr>\n",
       "    <tr>\n",
       "      <th>95</th>\n",
       "      <td>Shararat</td>\n",
       "      <td>NaN</td>\n",
       "      <td>Rakesh Roshan, Shubha</td>\n",
       "      <td>[Comedy, Fantasy, Romance, Comedy Fantasy Roma...</td>\n",
       "    </tr>\n",
       "    <tr>\n",
       "      <th>100</th>\n",
       "      <td>Sun Sajna</td>\n",
       "      <td>NaN</td>\n",
       "      <td>NaN</td>\n",
       "      <td>[Drama, Family, Romance, Drama Family Romance]</td>\n",
       "    </tr>\n",
       "    <tr>\n",
       "      <th>102</th>\n",
       "      <td>Tadap</td>\n",
       "      <td>NaN</td>\n",
       "      <td>Chunky Pandey, Meenakshi Seshadri, Nana Patekar</td>\n",
       "      <td>[Thriller, Thriller]</td>\n",
       "    </tr>\n",
       "    <tr>\n",
       "      <th>105</th>\n",
       "      <td>Teri Talash Mein</td>\n",
       "      <td>NaN</td>\n",
       "      <td>Amala, Rana Jung Bahadur, Rita Bhaduri</td>\n",
       "      <td>[Drama, Family, Mystery, Drama Family Mystery]</td>\n",
       "    </tr>\n",
       "  </tbody>\n",
       "</table>\n",
       "</div>"
      ],
      "text/plain": [
       "                           Title Director  \\\n",
       "8                      Agneekaal      NaN   \n",
       "24   Baap Numbri Beta Dus Numbri      NaN   \n",
       "29                   Chingariyan      NaN   \n",
       "32                  College Girl      NaN   \n",
       "41             Ek Doctor Ki Maut      NaN   \n",
       "44                 Ghar Ki Laxmi      NaN   \n",
       "54                        Jagira      NaN   \n",
       "58                      Jeene Do      NaN   \n",
       "70                    Khatarnaak      NaN   \n",
       "85                 Pyasi Nigahen      NaN   \n",
       "86                  Qatil Jawani      NaN   \n",
       "94                      Shandaar      NaN   \n",
       "95                      Shararat      NaN   \n",
       "100                    Sun Sajna      NaN   \n",
       "102                        Tadap      NaN   \n",
       "105             Teri Talash Mein      NaN   \n",
       "\n",
       "                                                  Cast  \\\n",
       "8         Sadashiv Amrapurkar, Tinnu Anand, Raj Babbar   \n",
       "24   Kader Khan, Shakti Kapoor, Jackie Shroff, Fara...   \n",
       "29                                     Danny Denzongpa   \n",
       "32         Amita Nangia, Pankaj Berry, Veerendra Singh   \n",
       "41                                                 NaN   \n",
       "44                                    Shilpa Shirodkar   \n",
       "54                                     Danny Denzongpa   \n",
       "58              Sanjay Dutt, Jackie Shroff, Farha Naaz   \n",
       "70                  Sanjay Dutt, Anita Raj, Farha Naaz   \n",
       "85                 Birbal, Sahila Chaddha, Ajinkya Deo   \n",
       "86                          Babloo, Hari, Harish Kumar   \n",
       "94   Mithun Chakraborty, Meenakshi Seshadri, Juhi C...   \n",
       "95                               Rakesh Roshan, Shubha   \n",
       "100                                                NaN   \n",
       "102    Chunky Pandey, Meenakshi Seshadri, Nana Patekar   \n",
       "105             Amala, Rana Jung Bahadur, Rita Bhaduri   \n",
       "\n",
       "                                                 genre  \n",
       "8           [Action, Crime, Drama, Action Crime Drama]  \n",
       "24        [Action, Comedy, Crime, Action Comedy Crime]  \n",
       "29                                    [Action, Action]  \n",
       "32                                  [Romance, Romance]  \n",
       "41                 [Biography, Drama, Biography Drama]  \n",
       "44                                                None  \n",
       "54          [Action, Crime, Drama, Action Crime Drama]  \n",
       "58                       [Action, Drama, Action Drama]  \n",
       "70          [Action, Crime, Drama, Action Crime Drama]  \n",
       "85                                [Thriller, Thriller]  \n",
       "86      [Crime, Drama, Thriller, Crime Drama Thriller]  \n",
       "94                                      [Drama, Drama]  \n",
       "95   [Comedy, Fantasy, Romance, Comedy Fantasy Roma...  \n",
       "100     [Drama, Family, Romance, Drama Family Romance]  \n",
       "102                               [Thriller, Thriller]  \n",
       "105     [Drama, Family, Mystery, Drama Family Mystery]  "
      ]
     },
     "execution_count": 21,
     "metadata": {},
     "output_type": "execute_result"
    }
   ],
   "source": [
    "df[df['Director'].isnull()]"
   ]
  },
  {
   "cell_type": "code",
   "execution_count": 26,
   "metadata": {},
   "outputs": [
    {
     "data": {
      "text/plain": [
       "False"
      ]
     },
     "execution_count": 26,
     "metadata": {},
     "output_type": "execute_result"
    }
   ],
   "source": [
    "df.iloc[8,1]=' Mustan Burmawalla'\n",
    "df.iloc[24,1]='Aziz Sejawal'\n",
    "df.iloc[32,1]='Surendra Gupta'\n",
    "df.iloc[41,1]='Tapan Sinha'\n",
    "df.iloc[41,2]='Shabana Azmi,Pankaj Kapur,irfan khan'\n",
    "df.iloc[54,1]='Kanti Shah'\n",
    "df.iloc[58,1]='Rajesh Seth'\n",
    "df.iloc[70,1]='Bharat Rangachary'\n",
    "df.iloc[85,1]='Sardar Sohi'\n",
    "df.iloc[86,1]=' Mohan'\n",
    "df.iloc[94,1]='Vinod Dewan'\n",
    "df.iloc[100,1]='Chander H. Bahl'\n",
    "df.iloc[100,2]=' Mithun Chakraborty,Ranjeeta Kaur,Iftekhar. '\n",
    "df.iloc[102,1]='Milan Luthria'\n",
    "df.iloc[105,1]=='Vinod Talwar'\n",
    "\n",
    "  "
   ]
  },
  {
   "cell_type": "code",
   "execution_count": 27,
   "metadata": {},
   "outputs": [
    {
     "data": {
      "text/plain": [
       "' Mustan Burmawalla'"
      ]
     },
     "execution_count": 27,
     "metadata": {},
     "output_type": "execute_result"
    }
   ],
   "source": [
    "df.iloc[8,1]"
   ]
  },
  {
   "cell_type": "code",
   "execution_count": 28,
   "metadata": {},
   "outputs": [
    {
     "data": {
      "text/plain": [
       "Title       0\n",
       "Director    4\n",
       "Cast        7\n",
       "genre       3\n",
       "dtype: int64"
      ]
     },
     "execution_count": 28,
     "metadata": {},
     "output_type": "execute_result"
    }
   ],
   "source": [
    "df.isnull().sum()"
   ]
  },
  {
   "cell_type": "code",
   "execution_count": 30,
   "metadata": {},
   "outputs": [],
   "source": [
    "df=df.dropna()"
   ]
  },
  {
   "cell_type": "code",
   "execution_count": 31,
   "metadata": {},
   "outputs": [
    {
     "name": "stdout",
     "output_type": "stream",
     "text": [
      "/Users/pradeepvaddigadda/Desktop\n"
     ]
    }
   ],
   "source": [
    "cd /Users/pradeepvaddigadda/desktop"
   ]
  },
  {
   "cell_type": "code",
   "execution_count": null,
   "metadata": {},
   "outputs": [],
   "source": [
    "df.to_csv('cleanedfilm_1.csv', header=True, index=True)"
   ]
  }
 ],
 "metadata": {
  "kernelspec": {
   "display_name": "Python 3",
   "language": "python",
   "name": "python3"
  },
  "language_info": {
   "codemirror_mode": {
    "name": "ipython",
    "version": 3
   },
   "file_extension": ".py",
   "mimetype": "text/x-python",
   "name": "python",
   "nbconvert_exporter": "python",
   "pygments_lexer": "ipython3",
   "version": "3.8.3"
  }
 },
 "nbformat": 4,
 "nbformat_minor": 4
}
