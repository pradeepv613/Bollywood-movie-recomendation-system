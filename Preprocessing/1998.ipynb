{
 "cells": [
  {
   "cell_type": "code",
   "execution_count": 1,
   "metadata": {},
   "outputs": [],
   "source": [
    "import pandas as pd\n",
    "import numpy as np\n",
    "import requests\n",
    "import bs4 as bs\n",
    "import urllib.request"
   ]
  },
  {
   "cell_type": "code",
   "execution_count": 2,
   "metadata": {},
   "outputs": [],
   "source": [
    "#pip install requests[security]"
   ]
  },
  {
   "cell_type": "code",
   "execution_count": 3,
   "metadata": {},
   "outputs": [],
   "source": [
    "link = \"https://en.wikipedia.org/wiki/List_of_Bollywood_films_of_1998\""
   ]
  },
  {
   "cell_type": "code",
   "execution_count": 4,
   "metadata": {},
   "outputs": [],
   "source": [
    "source = urllib.request.urlopen(link).read()\n",
    "soup = bs.BeautifulSoup(source,'lxml')"
   ]
  },
  {
   "cell_type": "code",
   "execution_count": 5,
   "metadata": {},
   "outputs": [],
   "source": [
    "tables = soup.find_all('table',class_='wikitable')"
   ]
  },
  {
   "cell_type": "code",
   "execution_count": 6,
   "metadata": {},
   "outputs": [
    {
     "data": {
      "text/plain": [
       "3"
      ]
     },
     "execution_count": 6,
     "metadata": {},
     "output_type": "execute_result"
    }
   ],
   "source": [
    "\n",
    "len(tables)"
   ]
  },
  {
   "cell_type": "code",
   "execution_count": 7,
   "metadata": {},
   "outputs": [],
   "source": [
    "\n",
    "df3 = pd.read_html(str(tables[1]))[0]\n",
    " # avoided \"ValueError: invalid literal for int() with base 10: '1\"'"
   ]
  },
  {
   "cell_type": "code",
   "execution_count": 8,
   "metadata": {},
   "outputs": [
    {
     "name": "stdout",
     "output_type": "stream",
     "text": [
      "                 Title         Director  \\\n",
      "0             Bada Din              NaN   \n",
      "1   2001: Do Hazaar Ek     Raj N. Sippy   \n",
      "2              Aakrosh     Lateef Binny   \n",
      "3              Achanak  Naresh Malhotra   \n",
      "4          Aunty No. 1      Kirti Kumar   \n",
      "..                 ...              ...   \n",
      "66           Yugpurush     Partho Ghosh   \n",
      "67               Zakhm     Mahesh Bhatt   \n",
      "68             Zanjeer       Yusuf Bhat   \n",
      "69                 Zor   Sangeeth Sivan   \n",
      "70        Zulm-O-Sitam    K. C. Bokadia   \n",
      "\n",
      "                                                 Cast  \\\n",
      "0   Anjan Dutt, Marc Robinson, Shabana Azmi, Tara ...   \n",
      "1                 Jackie Shroff, Dimple Kapadia, Tabu   \n",
      "2                         Sunil Shetty, Shilpa Shetty   \n",
      "3              Govinda, Manisha Koirala, Paresh Rawal   \n",
      "4   Govinda, Raveena Tandon, Kader Khan, Harish Kumar   \n",
      "..                                                ...   \n",
      "66       Nana Patekar, Jackie Shroff, Manisha Koirala   \n",
      "67  Ajay Devgn, Sonali Bendre, Pooja Bhatt, Akkine...   \n",
      "68  Aditya Pancholi, Sakshi Shivanand, Monica Bedi...   \n",
      "69                           Sunny Deol, Sushmita Sen   \n",
      "70  Mahesh Anand, Vikas Anand, Kishore Anand Bhanu...   \n",
      "\n",
      "                             Genre  \n",
      "0                              NaN  \n",
      "1            Crime, Drama, Mystery  \n",
      "2   Action, Crime, Drama, Thriller  \n",
      "3                            Drama  \n",
      "4                           Comedy  \n",
      "..                             ...  \n",
      "66                           Drama  \n",
      "67                  Nadeem-Shravan  \n",
      "68                          Action  \n",
      "69            Action, Crime, Drama  \n",
      "70                          Action  \n",
      "\n",
      "[71 rows x 4 columns]\n"
     ]
    }
   ],
   "source": [
    "print(df3)"
   ]
  },
  {
   "cell_type": "code",
   "execution_count": 9,
   "metadata": {},
   "outputs": [],
   "source": [
    "df = df3"
   ]
  },
  {
   "cell_type": "code",
   "execution_count": 10,
   "metadata": {},
   "outputs": [
    {
     "data": {
      "text/html": [
       "<div>\n",
       "<style scoped>\n",
       "    .dataframe tbody tr th:only-of-type {\n",
       "        vertical-align: middle;\n",
       "    }\n",
       "\n",
       "    .dataframe tbody tr th {\n",
       "        vertical-align: top;\n",
       "    }\n",
       "\n",
       "    .dataframe thead th {\n",
       "        text-align: right;\n",
       "    }\n",
       "</style>\n",
       "<table border=\"1\" class=\"dataframe\">\n",
       "  <thead>\n",
       "    <tr style=\"text-align: right;\">\n",
       "      <th></th>\n",
       "      <th>Title</th>\n",
       "      <th>Director</th>\n",
       "      <th>Cast</th>\n",
       "      <th>Genre</th>\n",
       "    </tr>\n",
       "  </thead>\n",
       "  <tbody>\n",
       "    <tr>\n",
       "      <th>0</th>\n",
       "      <td>Bada Din</td>\n",
       "      <td>NaN</td>\n",
       "      <td>Anjan Dutt, Marc Robinson, Shabana Azmi, Tara ...</td>\n",
       "      <td>NaN</td>\n",
       "    </tr>\n",
       "    <tr>\n",
       "      <th>1</th>\n",
       "      <td>2001: Do Hazaar Ek</td>\n",
       "      <td>Raj N. Sippy</td>\n",
       "      <td>Jackie Shroff, Dimple Kapadia, Tabu</td>\n",
       "      <td>Crime, Drama, Mystery</td>\n",
       "    </tr>\n",
       "    <tr>\n",
       "      <th>2</th>\n",
       "      <td>Aakrosh</td>\n",
       "      <td>Lateef Binny</td>\n",
       "      <td>Sunil Shetty, Shilpa Shetty</td>\n",
       "      <td>Action, Crime, Drama, Thriller</td>\n",
       "    </tr>\n",
       "    <tr>\n",
       "      <th>3</th>\n",
       "      <td>Achanak</td>\n",
       "      <td>Naresh Malhotra</td>\n",
       "      <td>Govinda, Manisha Koirala, Paresh Rawal</td>\n",
       "      <td>Drama</td>\n",
       "    </tr>\n",
       "    <tr>\n",
       "      <th>4</th>\n",
       "      <td>Aunty No. 1</td>\n",
       "      <td>Kirti Kumar</td>\n",
       "      <td>Govinda, Raveena Tandon, Kader Khan, Harish Kumar</td>\n",
       "      <td>Comedy</td>\n",
       "    </tr>\n",
       "    <tr>\n",
       "      <th>...</th>\n",
       "      <td>...</td>\n",
       "      <td>...</td>\n",
       "      <td>...</td>\n",
       "      <td>...</td>\n",
       "    </tr>\n",
       "    <tr>\n",
       "      <th>66</th>\n",
       "      <td>Yugpurush</td>\n",
       "      <td>Partho Ghosh</td>\n",
       "      <td>Nana Patekar, Jackie Shroff, Manisha Koirala</td>\n",
       "      <td>Drama</td>\n",
       "    </tr>\n",
       "    <tr>\n",
       "      <th>67</th>\n",
       "      <td>Zakhm</td>\n",
       "      <td>Mahesh Bhatt</td>\n",
       "      <td>Ajay Devgn, Sonali Bendre, Pooja Bhatt, Akkine...</td>\n",
       "      <td>Nadeem-Shravan</td>\n",
       "    </tr>\n",
       "    <tr>\n",
       "      <th>68</th>\n",
       "      <td>Zanjeer</td>\n",
       "      <td>Yusuf Bhat</td>\n",
       "      <td>Aditya Pancholi, Sakshi Shivanand, Monica Bedi...</td>\n",
       "      <td>Action</td>\n",
       "    </tr>\n",
       "    <tr>\n",
       "      <th>69</th>\n",
       "      <td>Zor</td>\n",
       "      <td>Sangeeth Sivan</td>\n",
       "      <td>Sunny Deol, Sushmita Sen</td>\n",
       "      <td>Action, Crime, Drama</td>\n",
       "    </tr>\n",
       "    <tr>\n",
       "      <th>70</th>\n",
       "      <td>Zulm-O-Sitam</td>\n",
       "      <td>K. C. Bokadia</td>\n",
       "      <td>Mahesh Anand, Vikas Anand, Kishore Anand Bhanu...</td>\n",
       "      <td>Action</td>\n",
       "    </tr>\n",
       "  </tbody>\n",
       "</table>\n",
       "<p>71 rows × 4 columns</p>\n",
       "</div>"
      ],
      "text/plain": [
       "                 Title         Director  \\\n",
       "0             Bada Din              NaN   \n",
       "1   2001: Do Hazaar Ek     Raj N. Sippy   \n",
       "2              Aakrosh     Lateef Binny   \n",
       "3              Achanak  Naresh Malhotra   \n",
       "4          Aunty No. 1      Kirti Kumar   \n",
       "..                 ...              ...   \n",
       "66           Yugpurush     Partho Ghosh   \n",
       "67               Zakhm     Mahesh Bhatt   \n",
       "68             Zanjeer       Yusuf Bhat   \n",
       "69                 Zor   Sangeeth Sivan   \n",
       "70        Zulm-O-Sitam    K. C. Bokadia   \n",
       "\n",
       "                                                 Cast  \\\n",
       "0   Anjan Dutt, Marc Robinson, Shabana Azmi, Tara ...   \n",
       "1                 Jackie Shroff, Dimple Kapadia, Tabu   \n",
       "2                         Sunil Shetty, Shilpa Shetty   \n",
       "3              Govinda, Manisha Koirala, Paresh Rawal   \n",
       "4   Govinda, Raveena Tandon, Kader Khan, Harish Kumar   \n",
       "..                                                ...   \n",
       "66       Nana Patekar, Jackie Shroff, Manisha Koirala   \n",
       "67  Ajay Devgn, Sonali Bendre, Pooja Bhatt, Akkine...   \n",
       "68  Aditya Pancholi, Sakshi Shivanand, Monica Bedi...   \n",
       "69                           Sunny Deol, Sushmita Sen   \n",
       "70  Mahesh Anand, Vikas Anand, Kishore Anand Bhanu...   \n",
       "\n",
       "                             Genre  \n",
       "0                              NaN  \n",
       "1            Crime, Drama, Mystery  \n",
       "2   Action, Crime, Drama, Thriller  \n",
       "3                            Drama  \n",
       "4                           Comedy  \n",
       "..                             ...  \n",
       "66                           Drama  \n",
       "67                  Nadeem-Shravan  \n",
       "68                          Action  \n",
       "69            Action, Crime, Drama  \n",
       "70                          Action  \n",
       "\n",
       "[71 rows x 4 columns]"
      ]
     },
     "execution_count": 10,
     "metadata": {},
     "output_type": "execute_result"
    }
   ],
   "source": [
    "df"
   ]
  },
  {
   "cell_type": "code",
   "execution_count": 11,
   "metadata": {},
   "outputs": [
    {
     "name": "stdout",
     "output_type": "stream",
     "text": [
      "[Errno 2] No such file or directory: 'Users/pradeepvaddigadda/desktop'\n",
      "/Users/pradeepvaddigadda\n"
     ]
    }
   ],
   "source": [
    "cd Users/pradeepvaddigadda/desktop"
   ]
  },
  {
   "cell_type": "code",
   "execution_count": 12,
   "metadata": {},
   "outputs": [],
   "source": [
    "df.to_csv('film_1998.csv', header=False, index=False)"
   ]
  },
  {
   "cell_type": "code",
   "execution_count": 11,
   "metadata": {},
   "outputs": [
    {
     "data": {
      "text/plain": [
       "Title        0\n",
       "Director     2\n",
       "Cast         0\n",
       "Genre       11\n",
       "dtype: int64"
      ]
     },
     "execution_count": 11,
     "metadata": {},
     "output_type": "execute_result"
    }
   ],
   "source": [
    "df.isnull().sum()"
   ]
  },
  {
   "cell_type": "code",
   "execution_count": null,
   "metadata": {},
   "outputs": [],
   "source": []
  }
 ],
 "metadata": {
  "kernelspec": {
   "display_name": "Python 3",
   "language": "python",
   "name": "python3"
  },
  "language_info": {
   "codemirror_mode": {
    "name": "ipython",
    "version": 3
   },
   "file_extension": ".py",
   "mimetype": "text/x-python",
   "name": "python",
   "nbconvert_exporter": "python",
   "pygments_lexer": "ipython3",
   "version": "3.8.3"
  }
 },
 "nbformat": 4,
 "nbformat_minor": 4
}
