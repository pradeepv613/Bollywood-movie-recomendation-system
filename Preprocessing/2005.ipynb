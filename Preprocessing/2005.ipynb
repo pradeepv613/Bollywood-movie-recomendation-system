{
 "cells": [
  {
   "cell_type": "code",
   "execution_count": 1,
   "metadata": {},
   "outputs": [
    {
     "data": {
      "text/plain": [
       "2"
      ]
     },
     "execution_count": 1,
     "metadata": {},
     "output_type": "execute_result"
    }
   ],
   "source": [
    "import pandas as pd\n",
    "import numpy as np\n",
    "import requests\n",
    "import bs4 as bs\n",
    "import urllib.request\n",
    "\n",
    "link = \"https://en.wikipedia.org/wiki/List_of_Bollywood_films_of_2005\"\n",
    "source = urllib.request.urlopen(link).read()\n",
    "\n",
    "soup = bs.BeautifulSoup(source,'lxml')\n",
    "\n",
    "\n",
    "\n",
    "tables = soup.find_all('table',class_='wikitable')\n",
    "\n",
    "len(tables)"
   ]
  },
  {
   "cell_type": "code",
   "execution_count": 3,
   "metadata": {},
   "outputs": [],
   "source": [
    "#df1 = pd.read_html(str(tables[0]))[0]\n",
    "#df2 = pd.read_html(str(tables[1]))[0]\n",
    "#df3 = pd.read_html(str(tables[2]))[0]\n",
    "#df4 = pd.read_html(str(tables[3]).replace(\"'1\\\"\\'\",'\"1\"'))[0] # avoided \"ValueError: invalid literal for int() with base 10: '1\"'\n"
   ]
  },
  {
   "cell_type": "code",
   "execution_count": 2,
   "metadata": {},
   "outputs": [
    {
     "name": "stdout",
     "output_type": "stream",
     "text": [
      "                           Title            Director  \\\n",
      "0                       7½ Phere       Ishaan Trvedi   \n",
      "1                       99.9 FM,       Sanjay Bhatia   \n",
      "2            Aashiq Banaya Aapne         Aditya Datt   \n",
      "3                         Amavas                 NaN   \n",
      "4                        Anjaane  Harry W. Fernandes   \n",
      "..                           ...                 ...   \n",
      "119  Waqt: The Race Against Time          Vipul Shah   \n",
      "120                       Yahaan                 NaN   \n",
      "121                       Yakeen                 NaN   \n",
      "122      Zameer: The Fire Within               Kamal   \n",
      "123                        Zeher          Mohit Suri   \n",
      "\n",
      "                                                  Cast  \\\n",
      "0                             Juhi Chawla, Irrfan Khan   \n",
      "1              Shawar Ali, Raima Sen, Dipannita Sharma   \n",
      "2            Emraan Hashmi, Tanushree Dutta, Sonu Sood   \n",
      "3                                                  NaN   \n",
      "4                       Manisha Koirala, Sanjay Kapoor   \n",
      "..                                                 ...   \n",
      "119  Amitabh Bachchan, Akshay Kumar, Shefali Shah, ...   \n",
      "120                     Jimmy Shergill, Minissha Lamba   \n",
      "121          Arjun Rampal, Priyanka Chopra, Kim Sharma   \n",
      "122         Ajay Devgn, Ameesha Patel, Mahima Chaudhry   \n",
      "123       Shamita Shetty, Emraan Hashmi, Udita Goswami   \n",
      "\n",
      "                         Genre  \n",
      "0                       Comedy  \n",
      "1             Crime / Thriller  \n",
      "2    Romance, Drama / Thriller  \n",
      "3                          NaN  \n",
      "4                     Thriller  \n",
      "..                         ...  \n",
      "119                      Drama  \n",
      "120                    Romance  \n",
      "121                      Drama  \n",
      "122                      Drama  \n",
      "123            Drama, Thriller  \n",
      "\n",
      "[124 rows x 4 columns]\n"
     ]
    }
   ],
   "source": [
    "df3 = pd.read_html(str(tables[1]))[0]\n",
    " # avoided \"ValueError: invalid literal for int() with base 10: '1\"'\n",
    "print(df3)"
   ]
  },
  {
   "cell_type": "code",
   "execution_count": 3,
   "metadata": {},
   "outputs": [
    {
     "data": {
      "text/plain": [
       "Title        0\n",
       "Director    55\n",
       "Cast         3\n",
       "Genre       27\n",
       "dtype: int64"
      ]
     },
     "execution_count": 3,
     "metadata": {},
     "output_type": "execute_result"
    }
   ],
   "source": [
    "df3.isnull().sum()"
   ]
  },
  {
   "cell_type": "code",
   "execution_count": 6,
   "metadata": {},
   "outputs": [],
   "source": [
    "df3.to_csv('film_2005.csv', header=False, index=False)"
   ]
  },
  {
   "cell_type": "code",
   "execution_count": 6,
   "metadata": {},
   "outputs": [],
   "source": [
    "import imdb\n",
    "\n",
    "moviesDB = imdb.IMDb()\n",
    "\n",
    "# # Help?\n",
    "# print(dir(moviesDB))\n",
    "# ----------------------------------------\n",
    "# 1) Search for a title\n",
    "movies = moviesDB.search_movie('inception')\n",
    "\n",
    "# print('Searching for \"inception\":')\n",
    "# for movie in movies:\n",
    "#     title = movie['title']\n",
    "#     year = movie['year']\n",
    "#     print(f'{title} - {year}')\n",
    "\n",
    "## Help?\n",
    "#print(movies[0].keys())\n",
    "    \n"
   ]
  },
  {
   "cell_type": "code",
   "execution_count": 9,
   "metadata": {},
   "outputs": [],
   "source": [
    "#getting director for 2020 movies using imdb API\n",
    "def get_genre(x):\n",
    "  genres = []\n",
    "  try:\n",
    "     movies = moviesDB.search_movie(x)\n",
    "     id = movies[0].getID()\n",
    "     movie = moviesDB.get_movie(id)  \n",
    "     directors = movie['directors'] \n",
    "     direcStr = ' '.join(map(str,directors))\n",
    "     genres.append(direcStr)\n",
    "     return genres\n",
    "  except:\n",
    "    print(\"An exception occurred\")\n"
   ]
  },
  {
   "cell_type": "code",
   "execution_count": 10,
   "metadata": {},
   "outputs": [
    {
     "name": "stdout",
     "output_type": "stream",
     "text": [
      "An exception occurred\n",
      "An exception occurred\n",
      "An exception occurred\n",
      "An exception occurred\n",
      "An exception occurred\n",
      "An exception occurred\n",
      "An exception occurred\n",
      "An exception occurred\n"
     ]
    }
   ],
   "source": [
    "df3['director'] = df3['Title'].map(lambda x: get_genre(str(x)))"
   ]
  },
  {
   "cell_type": "code",
   "execution_count": 11,
   "metadata": {},
   "outputs": [
    {
     "data": {
      "text/plain": [
       "Title        0\n",
       "Director    55\n",
       "Cast         3\n",
       "Genre       27\n",
       "director     8\n",
       "dtype: int64"
      ]
     },
     "execution_count": 11,
     "metadata": {},
     "output_type": "execute_result"
    }
   ],
   "source": [
    "df3.isnull().sum()"
   ]
  },
  {
   "cell_type": "code",
   "execution_count": 38,
   "metadata": {},
   "outputs": [],
   "source": [
    "def get_genre(x):\n",
    "  genres = []\n",
    "  try:\n",
    "        movies = moviesDB.search_movie(x)\n",
    "        id = movies[0].getID()\n",
    "        movie = moviesDB.get_movie(id) \n",
    "        genres = movie['genres'] \n",
    "        direcStr= ' '.join(map(str,genres))\n",
    "        genres.append(direcStr)\n",
    "        return genres\n",
    "  except:\n",
    "    print(\"An exception occurred\")\n"
   ]
  },
  {
   "cell_type": "code",
   "execution_count": 17,
   "metadata": {},
   "outputs": [
    {
     "name": "stdout",
     "output_type": "stream",
     "text": [
      "An exception occurred\n",
      "An exception occurred\n",
      "An exception occurred\n",
      "An exception occurred\n"
     ]
    }
   ],
   "source": [
    "df3['genre'] = df3['Title'].map(lambda x: get_genre(str(x)))"
   ]
  },
  {
   "cell_type": "code",
   "execution_count": 18,
   "metadata": {},
   "outputs": [
    {
     "data": {
      "text/plain": [
       "Title        0\n",
       "Director    55\n",
       "Cast         3\n",
       "Genre       27\n",
       "director     8\n",
       "genre        4\n",
       "dtype: int64"
      ]
     },
     "execution_count": 18,
     "metadata": {},
     "output_type": "execute_result"
    }
   ],
   "source": [
    "df3.isnull().sum()"
   ]
  },
  {
   "cell_type": "code",
   "execution_count": 19,
   "metadata": {},
   "outputs": [],
   "source": [
    "df3.drop(['Director','Genre'],axis=1,inplace=True)"
   ]
  },
  {
   "cell_type": "code",
   "execution_count": 20,
   "metadata": {},
   "outputs": [
    {
     "data": {
      "text/plain": [
       "Title       0\n",
       "Cast        3\n",
       "director    8\n",
       "genre       4\n",
       "dtype: int64"
      ]
     },
     "execution_count": 20,
     "metadata": {},
     "output_type": "execute_result"
    }
   ],
   "source": [
    "df3.isnull().sum()"
   ]
  },
  {
   "cell_type": "code",
   "execution_count": null,
   "metadata": {},
   "outputs": [],
   "source": [
    "df3.isnull().sum()"
   ]
  },
  {
   "cell_type": "code",
   "execution_count": 37,
   "metadata": {},
   "outputs": [
    {
     "data": {
      "text/html": [
       "<div>\n",
       "<style scoped>\n",
       "    .dataframe tbody tr th:only-of-type {\n",
       "        vertical-align: middle;\n",
       "    }\n",
       "\n",
       "    .dataframe tbody tr th {\n",
       "        vertical-align: top;\n",
       "    }\n",
       "\n",
       "    .dataframe thead th {\n",
       "        text-align: right;\n",
       "    }\n",
       "</style>\n",
       "<table border=\"1\" class=\"dataframe\">\n",
       "  <thead>\n",
       "    <tr style=\"text-align: right;\">\n",
       "      <th></th>\n",
       "      <th>Title</th>\n",
       "      <th>Cast</th>\n",
       "      <th>director</th>\n",
       "      <th>genre</th>\n",
       "    </tr>\n",
       "  </thead>\n",
       "  <tbody>\n",
       "    <tr>\n",
       "      <th>113</th>\n",
       "      <td>Topless</td>\n",
       "      <td>Shweta Menon, Tarun Khanna, Sardar Sohi</td>\n",
       "      <td>None</td>\n",
       "      <td>None</td>\n",
       "    </tr>\n",
       "    <tr>\n",
       "      <th>117</th>\n",
       "      <td>Vidyaarthi</td>\n",
       "      <td>Jackie Shroff, Paresh Rawal, Rahul Roy</td>\n",
       "      <td>[Sasikumar]</td>\n",
       "      <td>None</td>\n",
       "    </tr>\n",
       "    <tr>\n",
       "      <th>122</th>\n",
       "      <td>Zameer: The Fire Within</td>\n",
       "      <td>Ajay Devgn, Ameesha Patel, Mahima Chaudhry</td>\n",
       "      <td>None</td>\n",
       "      <td>None</td>\n",
       "    </tr>\n",
       "  </tbody>\n",
       "</table>\n",
       "</div>"
      ],
      "text/plain": [
       "                       Title                                        Cast  \\\n",
       "113                  Topless     Shweta Menon, Tarun Khanna, Sardar Sohi   \n",
       "117               Vidyaarthi      Jackie Shroff, Paresh Rawal, Rahul Roy   \n",
       "122  Zameer: The Fire Within  Ajay Devgn, Ameesha Patel, Mahima Chaudhry   \n",
       "\n",
       "        director genre  \n",
       "113         None  None  \n",
       "117  [Sasikumar]  None  \n",
       "122         None  None  "
      ]
     },
     "execution_count": 37,
     "metadata": {},
     "output_type": "execute_result"
    }
   ],
   "source": [
    "df3[df3['genre'].isnull()]"
   ]
  },
  {
   "cell_type": "code",
   "execution_count": 36,
   "metadata": {},
   "outputs": [],
   "source": [
    "df3.iloc[110,3]='Drama'"
   ]
  },
  {
   "cell_type": "code",
   "execution_count": 44,
   "metadata": {},
   "outputs": [],
   "source": [
    "df3.iloc[113,3]='Drama,romance'"
   ]
  },
  {
   "cell_type": "code",
   "execution_count": 41,
   "metadata": {},
   "outputs": [
    {
     "data": {
      "text/html": [
       "<div>\n",
       "<style scoped>\n",
       "    .dataframe tbody tr th:only-of-type {\n",
       "        vertical-align: middle;\n",
       "    }\n",
       "\n",
       "    .dataframe tbody tr th {\n",
       "        vertical-align: top;\n",
       "    }\n",
       "\n",
       "    .dataframe thead th {\n",
       "        text-align: right;\n",
       "    }\n",
       "</style>\n",
       "<table border=\"1\" class=\"dataframe\">\n",
       "  <thead>\n",
       "    <tr style=\"text-align: right;\">\n",
       "      <th></th>\n",
       "      <th>Title</th>\n",
       "      <th>Cast</th>\n",
       "      <th>director</th>\n",
       "      <th>genre</th>\n",
       "    </tr>\n",
       "  </thead>\n",
       "  <tbody>\n",
       "    <tr>\n",
       "      <th>117</th>\n",
       "      <td>Vidyaarthi</td>\n",
       "      <td>Jackie Shroff, Paresh Rawal, Rahul Roy</td>\n",
       "      <td>[Sasikumar]</td>\n",
       "      <td>None</td>\n",
       "    </tr>\n",
       "    <tr>\n",
       "      <th>122</th>\n",
       "      <td>Zameer: The Fire Within</td>\n",
       "      <td>Ajay Devgn, Ameesha Patel, Mahima Chaudhry</td>\n",
       "      <td>None</td>\n",
       "      <td>None</td>\n",
       "    </tr>\n",
       "  </tbody>\n",
       "</table>\n",
       "</div>"
      ],
      "text/plain": [
       "                       Title                                        Cast  \\\n",
       "117               Vidyaarthi      Jackie Shroff, Paresh Rawal, Rahul Roy   \n",
       "122  Zameer: The Fire Within  Ajay Devgn, Ameesha Patel, Mahima Chaudhry   \n",
       "\n",
       "        director genre  \n",
       "117  [Sasikumar]  None  \n",
       "122         None  None  "
      ]
     },
     "execution_count": 41,
     "metadata": {},
     "output_type": "execute_result"
    }
   ],
   "source": [
    "df3[df3['genre'].isnull()]"
   ]
  },
  {
   "cell_type": "code",
   "execution_count": 45,
   "metadata": {},
   "outputs": [],
   "source": [
    "df3.iloc[117,3]='Action'"
   ]
  },
  {
   "cell_type": "code",
   "execution_count": 46,
   "metadata": {},
   "outputs": [],
   "source": [
    "df3.iloc[122,3]=' Drama,Romance'"
   ]
  },
  {
   "cell_type": "code",
   "execution_count": 47,
   "metadata": {},
   "outputs": [],
   "source": [
    "df3.iloc[122,2]='Kamal'"
   ]
  },
  {
   "cell_type": "code",
   "execution_count": 48,
   "metadata": {},
   "outputs": [
    {
     "data": {
      "text/plain": [
       "Title       0\n",
       "Cast        3\n",
       "director    7\n",
       "genre       0\n",
       "dtype: int64"
      ]
     },
     "execution_count": 48,
     "metadata": {},
     "output_type": "execute_result"
    }
   ],
   "source": [
    "df3.isnull().sum()"
   ]
  },
  {
   "cell_type": "code",
   "execution_count": 49,
   "metadata": {},
   "outputs": [
    {
     "data": {
      "text/html": [
       "<div>\n",
       "<style scoped>\n",
       "    .dataframe tbody tr th:only-of-type {\n",
       "        vertical-align: middle;\n",
       "    }\n",
       "\n",
       "    .dataframe tbody tr th {\n",
       "        vertical-align: top;\n",
       "    }\n",
       "\n",
       "    .dataframe thead th {\n",
       "        text-align: right;\n",
       "    }\n",
       "</style>\n",
       "<table border=\"1\" class=\"dataframe\">\n",
       "  <thead>\n",
       "    <tr style=\"text-align: right;\">\n",
       "      <th></th>\n",
       "      <th>Title</th>\n",
       "      <th>Cast</th>\n",
       "      <th>director</th>\n",
       "      <th>genre</th>\n",
       "    </tr>\n",
       "  </thead>\n",
       "  <tbody>\n",
       "    <tr>\n",
       "      <th>5</th>\n",
       "      <td>Apaharan</td>\n",
       "      <td>Ajay Devgn, Bipasha Basu, Nana Patekar</td>\n",
       "      <td>None</td>\n",
       "      <td>[Action, Thriller, Action Thriller]</td>\n",
       "    </tr>\n",
       "    <tr>\n",
       "      <th>11</th>\n",
       "      <td>Black</td>\n",
       "      <td>Amitabh Bachchan, Rani Mukherji, Ayesha Kapur,...</td>\n",
       "      <td>None</td>\n",
       "      <td>[Crime, Drama, Fantasy, Romance, Thriller, Cri...</td>\n",
       "    </tr>\n",
       "    <tr>\n",
       "      <th>36</th>\n",
       "      <td>Fareb</td>\n",
       "      <td>Shilpa Shetty, Manoj Bajpai, Shamita Shetty</td>\n",
       "      <td>None</td>\n",
       "      <td>[Thriller, Thriller]</td>\n",
       "    </tr>\n",
       "    <tr>\n",
       "      <th>49</th>\n",
       "      <td>James</td>\n",
       "      <td>Mohit Ahlawat, Nisha Kothari</td>\n",
       "      <td>None</td>\n",
       "      <td>[Drama, Drama]</td>\n",
       "    </tr>\n",
       "    <tr>\n",
       "      <th>55</th>\n",
       "      <td>Kasak</td>\n",
       "      <td>Lucky Ali, Meera</td>\n",
       "      <td>None</td>\n",
       "      <td>[Drama, Drama]</td>\n",
       "    </tr>\n",
       "    <tr>\n",
       "      <th>110</th>\n",
       "      <td>Tezaab – The Acid of Love</td>\n",
       "      <td>Mighty Khan, Parvin Dabas, Shruti Sharma</td>\n",
       "      <td>None</td>\n",
       "      <td>Drama</td>\n",
       "    </tr>\n",
       "    <tr>\n",
       "      <th>113</th>\n",
       "      <td>Topless</td>\n",
       "      <td>Shweta Menon, Tarun Khanna, Sardar Sohi</td>\n",
       "      <td>None</td>\n",
       "      <td>Drama,romance</td>\n",
       "    </tr>\n",
       "  </tbody>\n",
       "</table>\n",
       "</div>"
      ],
      "text/plain": [
       "                         Title  \\\n",
       "5                     Apaharan   \n",
       "11                       Black   \n",
       "36                       Fareb   \n",
       "49                       James   \n",
       "55                       Kasak   \n",
       "110  Tezaab – The Acid of Love   \n",
       "113                    Topless   \n",
       "\n",
       "                                                  Cast director  \\\n",
       "5               Ajay Devgn, Bipasha Basu, Nana Patekar     None   \n",
       "11   Amitabh Bachchan, Rani Mukherji, Ayesha Kapur,...     None   \n",
       "36         Shilpa Shetty, Manoj Bajpai, Shamita Shetty     None   \n",
       "49                        Mohit Ahlawat, Nisha Kothari     None   \n",
       "55                                    Lucky Ali, Meera     None   \n",
       "110           Mighty Khan, Parvin Dabas, Shruti Sharma     None   \n",
       "113            Shweta Menon, Tarun Khanna, Sardar Sohi     None   \n",
       "\n",
       "                                                 genre  \n",
       "5                  [Action, Thriller, Action Thriller]  \n",
       "11   [Crime, Drama, Fantasy, Romance, Thriller, Cri...  \n",
       "36                                [Thriller, Thriller]  \n",
       "49                                      [Drama, Drama]  \n",
       "55                                      [Drama, Drama]  \n",
       "110                                              Drama  \n",
       "113                                      Drama,romance  "
      ]
     },
     "execution_count": 49,
     "metadata": {},
     "output_type": "execute_result"
    }
   ],
   "source": [
    "df3[df3['director'].isnull()]"
   ]
  },
  {
   "cell_type": "code",
   "execution_count": 50,
   "metadata": {},
   "outputs": [],
   "source": [
    "df3.iloc[5,2]='Prakash Jha'\n",
    "df3.iloc[11,2]='Sanjay Leela Bhansali'\n",
    "df3.iloc[36,2]='Vikram Bhatt'\n",
    "df3.iloc[49,2]='Rohit Jugraj Chauhan'\n",
    "df3.iloc[55,2]='Rajiv Babbar'\n",
    "df3.iloc[110,2]='Shakeel Noorani'\n",
    "df3.iloc[113,2]='Nabh Kumar'\n"
   ]
  },
  {
   "cell_type": "code",
   "execution_count": 51,
   "metadata": {},
   "outputs": [
    {
     "data": {
      "text/plain": [
       "Title       0\n",
       "Cast        3\n",
       "director    0\n",
       "genre       0\n",
       "dtype: int64"
      ]
     },
     "execution_count": 51,
     "metadata": {},
     "output_type": "execute_result"
    }
   ],
   "source": [
    "df3.isnull().sum()"
   ]
  },
  {
   "cell_type": "code",
   "execution_count": 53,
   "metadata": {},
   "outputs": [
    {
     "data": {
      "text/html": [
       "<div>\n",
       "<style scoped>\n",
       "    .dataframe tbody tr th:only-of-type {\n",
       "        vertical-align: middle;\n",
       "    }\n",
       "\n",
       "    .dataframe tbody tr th {\n",
       "        vertical-align: top;\n",
       "    }\n",
       "\n",
       "    .dataframe thead th {\n",
       "        text-align: right;\n",
       "    }\n",
       "</style>\n",
       "<table border=\"1\" class=\"dataframe\">\n",
       "  <thead>\n",
       "    <tr style=\"text-align: right;\">\n",
       "      <th></th>\n",
       "      <th>Title</th>\n",
       "      <th>Cast</th>\n",
       "      <th>director</th>\n",
       "      <th>genre</th>\n",
       "    </tr>\n",
       "  </thead>\n",
       "  <tbody>\n",
       "    <tr>\n",
       "      <th>3</th>\n",
       "      <td>Amavas</td>\n",
       "      <td>NaN</td>\n",
       "      <td>[Bhushan Patel]</td>\n",
       "      <td>[Horror, Thriller, Horror Thriller]</td>\n",
       "    </tr>\n",
       "    <tr>\n",
       "      <th>19</th>\n",
       "      <td>Chausar</td>\n",
       "      <td>NaN</td>\n",
       "      <td>[Sagar Sarhadi]</td>\n",
       "      <td>[Drama, Drama]</td>\n",
       "    </tr>\n",
       "    <tr>\n",
       "      <th>40</th>\n",
       "      <td>Hanuman</td>\n",
       "      <td>NaN</td>\n",
       "      <td>[V.G. Samant Milind Ukey]</td>\n",
       "      <td>[Animation, Animation]</td>\n",
       "    </tr>\n",
       "  </tbody>\n",
       "</table>\n",
       "</div>"
      ],
      "text/plain": [
       "      Title Cast                   director  \\\n",
       "3    Amavas  NaN            [Bhushan Patel]   \n",
       "19  Chausar  NaN            [Sagar Sarhadi]   \n",
       "40  Hanuman  NaN  [V.G. Samant Milind Ukey]   \n",
       "\n",
       "                                  genre  \n",
       "3   [Horror, Thriller, Horror Thriller]  \n",
       "19                       [Drama, Drama]  \n",
       "40               [Animation, Animation]  "
      ]
     },
     "execution_count": 53,
     "metadata": {},
     "output_type": "execute_result"
    }
   ],
   "source": [
    "df3[df3['Cast'].isnull()]"
   ]
  },
  {
   "cell_type": "code",
   "execution_count": 54,
   "metadata": {},
   "outputs": [],
   "source": [
    "df3.iloc[3,1]='Sachiin Joshi,Nargis Fakhri,Vivan Bhatena'\n",
    "df3.iloc[19,1]='anil kapoor,ashok kumar'\n",
    "df3.iloc[40,1]='mukesh kanna,mona gosh shetty'"
   ]
  },
  {
   "cell_type": "code",
   "execution_count": 55,
   "metadata": {},
   "outputs": [
    {
     "name": "stdout",
     "output_type": "stream",
     "text": [
      "/Users/pradeepvaddigadda/Desktop\n"
     ]
    }
   ],
   "source": [
    "cd /Users/pradeepvaddigadda/desktop"
   ]
  },
  {
   "cell_type": "code",
   "execution_count": 56,
   "metadata": {},
   "outputs": [],
   "source": [
    "df3.to_csv('cleanedfilm_2005.csv', header=True, index=True)"
   ]
  },
  {
   "cell_type": "code",
   "execution_count": null,
   "metadata": {},
   "outputs": [],
   "source": []
  }
 ],
 "metadata": {
  "kernelspec": {
   "display_name": "Python 3",
   "language": "python",
   "name": "python3"
  },
  "language_info": {
   "codemirror_mode": {
    "name": "ipython",
    "version": 3
   },
   "file_extension": ".py",
   "mimetype": "text/x-python",
   "name": "python",
   "nbconvert_exporter": "python",
   "pygments_lexer": "ipython3",
   "version": "3.8.3"
  }
 },
 "nbformat": 4,
 "nbformat_minor": 4
}
