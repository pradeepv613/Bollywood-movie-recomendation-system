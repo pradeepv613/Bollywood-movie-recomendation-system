{
 "cells": [
  {
   "cell_type": "code",
   "execution_count": 1,
   "metadata": {},
   "outputs": [],
   "source": [
    "import pandas as pd\n",
    "import numpy as np\n",
    "import requests\n",
    "import bs4 as bs\n",
    "import urllib.request"
   ]
  },
  {
   "cell_type": "code",
   "execution_count": 2,
   "metadata": {},
   "outputs": [],
   "source": [
    "#pip install requests[security]"
   ]
  },
  {
   "cell_type": "code",
   "execution_count": 3,
   "metadata": {},
   "outputs": [],
   "source": [
    "link = \"https://en.wikipedia.org/wiki/List_of_Bollywood_films_of_1996\""
   ]
  },
  {
   "cell_type": "code",
   "execution_count": 4,
   "metadata": {},
   "outputs": [],
   "source": [
    "source = urllib.request.urlopen(link).read()\n",
    "soup = bs.BeautifulSoup(source,'lxml')"
   ]
  },
  {
   "cell_type": "code",
   "execution_count": 5,
   "metadata": {},
   "outputs": [],
   "source": [
    "tables = soup.find_all('table',class_='wikitable')"
   ]
  },
  {
   "cell_type": "code",
   "execution_count": 6,
   "metadata": {},
   "outputs": [
    {
     "data": {
      "text/plain": [
       "3"
      ]
     },
     "execution_count": 6,
     "metadata": {},
     "output_type": "execute_result"
    }
   ],
   "source": [
    "\n",
    "len(tables)"
   ]
  },
  {
   "cell_type": "code",
   "execution_count": 7,
   "metadata": {},
   "outputs": [],
   "source": [
    "\n",
    "df3 = pd.read_html(str(tables[1]))[0]\n",
    " # avoided \"ValueError: invalid literal for int() with base 10: '1\"'"
   ]
  },
  {
   "cell_type": "code",
   "execution_count": 8,
   "metadata": {},
   "outputs": [
    {
     "name": "stdout",
     "output_type": "stream",
     "text": [
      "                     Title             Director  \\\n",
      "0                   Aatank         Prem Lalwani   \n",
      "1              Agni Sakshi         Partho Ghosh   \n",
      "2   Aisi Bhi Kya Jaldi Hai    Sachin Pilgaonkar   \n",
      "3                     Ajay       Suneel Darshan   \n",
      "4                  Angaara         Anil Ganguly   \n",
      "..                     ...                  ...   \n",
      "95                  Vijeta  K. Murali Mohan Rao   \n",
      "96            Vishwasghaat  Himanshu Brahmbhatt   \n",
      "97          Yaaron Ka Yaar                  NaN   \n",
      "98                    Yash        Sharad Sharan   \n",
      "99                 Zordaar         Ajay Kashyap   \n",
      "\n",
      "                                                 Cast            Genre  \\\n",
      "0   Dharmendra, Girish Karnad, Nafisa Ali, Hema Ma...           Action   \n",
      "1        Jackie Shroff, Nana Patekar, Manisha Koirala  Thriller, Drama   \n",
      "2   Sachin Pilgaonkar, Vivek Mushran, Ashok Saraf,...  Comedy, Romance   \n",
      "3   Sunny Deol, Karishma Kapoor, Reena Roy, Sharat...           Action   \n",
      "4   Sadashiv Amrapurkar, Suresh Bhagwat, Hemant Birje              NaN   \n",
      "..                                                ...              ...   \n",
      "95          Sanjay Dutt, Raveena Tandon, Paresh Rawal           Action   \n",
      "96           Sunil Shetty, Anjali Jathar, Anupam Kher           Action   \n",
      "97                                        Baba Sehgal              NaN   \n",
      "98                          Bijay Anand, Kartika Rane          Musical   \n",
      "99  Govinda, Aditya Pancholi, Mandikini, Neelam Ko...              NaN   \n",
      "\n",
      "        Music Director  \n",
      "0   Laxmikant-Pyarelal  \n",
      "1       Nadeem-Shravan  \n",
      "2                  NaN  \n",
      "3         Anand Milind  \n",
      "4                  NaN  \n",
      "..                 ...  \n",
      "95        Anand Milind  \n",
      "96                 NaN  \n",
      "97                 NaN  \n",
      "98                 NaN  \n",
      "99                 NaN  \n",
      "\n",
      "[100 rows x 5 columns]\n"
     ]
    }
   ],
   "source": [
    "print(df3)"
   ]
  },
  {
   "cell_type": "code",
   "execution_count": 9,
   "metadata": {},
   "outputs": [],
   "source": [
    "df = df3"
   ]
  },
  {
   "cell_type": "code",
   "execution_count": 10,
   "metadata": {},
   "outputs": [
    {
     "data": {
      "text/html": [
       "<div>\n",
       "<style scoped>\n",
       "    .dataframe tbody tr th:only-of-type {\n",
       "        vertical-align: middle;\n",
       "    }\n",
       "\n",
       "    .dataframe tbody tr th {\n",
       "        vertical-align: top;\n",
       "    }\n",
       "\n",
       "    .dataframe thead th {\n",
       "        text-align: right;\n",
       "    }\n",
       "</style>\n",
       "<table border=\"1\" class=\"dataframe\">\n",
       "  <thead>\n",
       "    <tr style=\"text-align: right;\">\n",
       "      <th></th>\n",
       "      <th>Title</th>\n",
       "      <th>Director</th>\n",
       "      <th>Cast</th>\n",
       "      <th>Genre</th>\n",
       "      <th>Music Director</th>\n",
       "    </tr>\n",
       "  </thead>\n",
       "  <tbody>\n",
       "    <tr>\n",
       "      <th>0</th>\n",
       "      <td>Aatank</td>\n",
       "      <td>Prem Lalwani</td>\n",
       "      <td>Dharmendra, Girish Karnad, Nafisa Ali, Hema Ma...</td>\n",
       "      <td>Action</td>\n",
       "      <td>Laxmikant-Pyarelal</td>\n",
       "    </tr>\n",
       "    <tr>\n",
       "      <th>1</th>\n",
       "      <td>Agni Sakshi</td>\n",
       "      <td>Partho Ghosh</td>\n",
       "      <td>Jackie Shroff, Nana Patekar, Manisha Koirala</td>\n",
       "      <td>Thriller, Drama</td>\n",
       "      <td>Nadeem-Shravan</td>\n",
       "    </tr>\n",
       "    <tr>\n",
       "      <th>2</th>\n",
       "      <td>Aisi Bhi Kya Jaldi Hai</td>\n",
       "      <td>Sachin Pilgaonkar</td>\n",
       "      <td>Sachin Pilgaonkar, Vivek Mushran, Ashok Saraf,...</td>\n",
       "      <td>Comedy, Romance</td>\n",
       "      <td>NaN</td>\n",
       "    </tr>\n",
       "    <tr>\n",
       "      <th>3</th>\n",
       "      <td>Ajay</td>\n",
       "      <td>Suneel Darshan</td>\n",
       "      <td>Sunny Deol, Karishma Kapoor, Reena Roy, Sharat...</td>\n",
       "      <td>Action</td>\n",
       "      <td>Anand Milind</td>\n",
       "    </tr>\n",
       "    <tr>\n",
       "      <th>4</th>\n",
       "      <td>Angaara</td>\n",
       "      <td>Anil Ganguly</td>\n",
       "      <td>Sadashiv Amrapurkar, Suresh Bhagwat, Hemant Birje</td>\n",
       "      <td>NaN</td>\n",
       "      <td>NaN</td>\n",
       "    </tr>\n",
       "    <tr>\n",
       "      <th>...</th>\n",
       "      <td>...</td>\n",
       "      <td>...</td>\n",
       "      <td>...</td>\n",
       "      <td>...</td>\n",
       "      <td>...</td>\n",
       "    </tr>\n",
       "    <tr>\n",
       "      <th>95</th>\n",
       "      <td>Vijeta</td>\n",
       "      <td>K. Murali Mohan Rao</td>\n",
       "      <td>Sanjay Dutt, Raveena Tandon, Paresh Rawal</td>\n",
       "      <td>Action</td>\n",
       "      <td>Anand Milind</td>\n",
       "    </tr>\n",
       "    <tr>\n",
       "      <th>96</th>\n",
       "      <td>Vishwasghaat</td>\n",
       "      <td>Himanshu Brahmbhatt</td>\n",
       "      <td>Sunil Shetty, Anjali Jathar, Anupam Kher</td>\n",
       "      <td>Action</td>\n",
       "      <td>NaN</td>\n",
       "    </tr>\n",
       "    <tr>\n",
       "      <th>97</th>\n",
       "      <td>Yaaron Ka Yaar</td>\n",
       "      <td>NaN</td>\n",
       "      <td>Baba Sehgal</td>\n",
       "      <td>NaN</td>\n",
       "      <td>NaN</td>\n",
       "    </tr>\n",
       "    <tr>\n",
       "      <th>98</th>\n",
       "      <td>Yash</td>\n",
       "      <td>Sharad Sharan</td>\n",
       "      <td>Bijay Anand, Kartika Rane</td>\n",
       "      <td>Musical</td>\n",
       "      <td>NaN</td>\n",
       "    </tr>\n",
       "    <tr>\n",
       "      <th>99</th>\n",
       "      <td>Zordaar</td>\n",
       "      <td>Ajay Kashyap</td>\n",
       "      <td>Govinda, Aditya Pancholi, Mandikini, Neelam Ko...</td>\n",
       "      <td>NaN</td>\n",
       "      <td>NaN</td>\n",
       "    </tr>\n",
       "  </tbody>\n",
       "</table>\n",
       "<p>100 rows × 5 columns</p>\n",
       "</div>"
      ],
      "text/plain": [
       "                     Title             Director  \\\n",
       "0                   Aatank         Prem Lalwani   \n",
       "1              Agni Sakshi         Partho Ghosh   \n",
       "2   Aisi Bhi Kya Jaldi Hai    Sachin Pilgaonkar   \n",
       "3                     Ajay       Suneel Darshan   \n",
       "4                  Angaara         Anil Ganguly   \n",
       "..                     ...                  ...   \n",
       "95                  Vijeta  K. Murali Mohan Rao   \n",
       "96            Vishwasghaat  Himanshu Brahmbhatt   \n",
       "97          Yaaron Ka Yaar                  NaN   \n",
       "98                    Yash        Sharad Sharan   \n",
       "99                 Zordaar         Ajay Kashyap   \n",
       "\n",
       "                                                 Cast            Genre  \\\n",
       "0   Dharmendra, Girish Karnad, Nafisa Ali, Hema Ma...           Action   \n",
       "1        Jackie Shroff, Nana Patekar, Manisha Koirala  Thriller, Drama   \n",
       "2   Sachin Pilgaonkar, Vivek Mushran, Ashok Saraf,...  Comedy, Romance   \n",
       "3   Sunny Deol, Karishma Kapoor, Reena Roy, Sharat...           Action   \n",
       "4   Sadashiv Amrapurkar, Suresh Bhagwat, Hemant Birje              NaN   \n",
       "..                                                ...              ...   \n",
       "95          Sanjay Dutt, Raveena Tandon, Paresh Rawal           Action   \n",
       "96           Sunil Shetty, Anjali Jathar, Anupam Kher           Action   \n",
       "97                                        Baba Sehgal              NaN   \n",
       "98                          Bijay Anand, Kartika Rane          Musical   \n",
       "99  Govinda, Aditya Pancholi, Mandikini, Neelam Ko...              NaN   \n",
       "\n",
       "        Music Director  \n",
       "0   Laxmikant-Pyarelal  \n",
       "1       Nadeem-Shravan  \n",
       "2                  NaN  \n",
       "3         Anand Milind  \n",
       "4                  NaN  \n",
       "..                 ...  \n",
       "95        Anand Milind  \n",
       "96                 NaN  \n",
       "97                 NaN  \n",
       "98                 NaN  \n",
       "99                 NaN  \n",
       "\n",
       "[100 rows x 5 columns]"
      ]
     },
     "execution_count": 10,
     "metadata": {},
     "output_type": "execute_result"
    }
   ],
   "source": [
    "df"
   ]
  },
  {
   "cell_type": "code",
   "execution_count": 11,
   "metadata": {},
   "outputs": [
    {
     "name": "stdout",
     "output_type": "stream",
     "text": [
      "[Errno 2] No such file or directory: 'Users/pradeepvaddigadda/desktop'\n",
      "/Users/pradeepvaddigadda\n"
     ]
    }
   ],
   "source": [
    "cd Users/pradeepvaddigadda/desktop"
   ]
  },
  {
   "cell_type": "code",
   "execution_count": 12,
   "metadata": {},
   "outputs": [],
   "source": [
    "df.to_csv('film_1996.csv', header=False, index=False)"
   ]
  },
  {
   "cell_type": "code",
   "execution_count": 11,
   "metadata": {},
   "outputs": [
    {
     "data": {
      "text/plain": [
       "Title              0\n",
       "Director          12\n",
       "Cast               0\n",
       "Genre             27\n",
       "Music Director    61\n",
       "dtype: int64"
      ]
     },
     "execution_count": 11,
     "metadata": {},
     "output_type": "execute_result"
    }
   ],
   "source": [
    "df.isnull().sum()"
   ]
  },
  {
   "cell_type": "code",
   "execution_count": 12,
   "metadata": {},
   "outputs": [],
   "source": [
    "import imdb\n",
    "\n",
    "moviesDB = imdb.IMDb()\n",
    "\n",
    "# # Help?\n",
    "# print(dir(moviesDB))\n",
    "# ----------------------------------------\n",
    "# 1) Search for a title\n",
    "movies = moviesDB.search_movie('inception')\n",
    "#\n",
    "# print('Searching for \"inception\":')\n",
    "# for movie in movies:\n",
    "#     title = movie['title']\n",
    "#     year = movie['year']\n",
    "#     print(f'{title} - {year}')\n",
    "\n",
    "## Help?\n",
    "#print(movies[0].keys())\n",
    "import imdb\n",
    "\n",
    "moviesDB = imdb.IMDb()\n",
    "def get_genre(x):\n",
    "  genres = []\n",
    "  try:\n",
    "        movies = moviesDB.search_movie(x)\n",
    "        id = movies[0].getID()\n",
    "        movie = moviesDB.get_movie(id) \n",
    "        genres = movie['genres'] \n",
    "        direcStr= ' '.join(map(str,genres))\n",
    "        genres.append(direcStr)\n",
    "        return genres\n",
    "  except:\n",
    "    print(\"An exception occurred\")"
   ]
  },
  {
   "cell_type": "code",
   "execution_count": 13,
   "metadata": {},
   "outputs": [
    {
     "name": "stdout",
     "output_type": "stream",
     "text": [
      "An exception occurred\n"
     ]
    }
   ],
   "source": [
    "df['genre'] = df['Title'].map(lambda x: get_genre(str(x)))"
   ]
  },
  {
   "cell_type": "code",
   "execution_count": 14,
   "metadata": {},
   "outputs": [
    {
     "data": {
      "text/plain": [
       "Title              0\n",
       "Director          12\n",
       "Cast               0\n",
       "Genre             27\n",
       "Music Director    61\n",
       "genre              1\n",
       "dtype: int64"
      ]
     },
     "execution_count": 14,
     "metadata": {},
     "output_type": "execute_result"
    }
   ],
   "source": [
    "df.isnull().sum()"
   ]
  },
  {
   "cell_type": "code",
   "execution_count": 16,
   "metadata": {},
   "outputs": [],
   "source": [
    "df.drop(['Music Director','Genre'],1,inplace=True)"
   ]
  },
  {
   "cell_type": "code",
   "execution_count": null,
   "metadata": {},
   "outputs": [],
   "source": [
    "df=df.dropna9"
   ]
  }
 ],
 "metadata": {
  "kernelspec": {
   "display_name": "Python 3",
   "language": "python",
   "name": "python3"
  },
  "language_info": {
   "codemirror_mode": {
    "name": "ipython",
    "version": 3
   },
   "file_extension": ".py",
   "mimetype": "text/x-python",
   "name": "python",
   "nbconvert_exporter": "python",
   "pygments_lexer": "ipython3",
   "version": "3.8.3"
  }
 },
 "nbformat": 4,
 "nbformat_minor": 4
}
