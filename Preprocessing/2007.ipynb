{
 "cells": [
  {
   "cell_type": "code",
   "execution_count": 1,
   "metadata": {},
   "outputs": [
    {
     "data": {
      "text/plain": [
       "2"
      ]
     },
     "execution_count": 1,
     "metadata": {},
     "output_type": "execute_result"
    }
   ],
   "source": [
    "import pandas as pd\n",
    "import numpy as np\n",
    "import requests\n",
    "import bs4 as bs\n",
    "import urllib.request\n",
    "\n",
    "link = \"https://en.wikipedia.org/wiki/List_of_Bollywood_films_of_2007\"\n",
    "source = urllib.request.urlopen(link).read()\n",
    "\n",
    "soup = bs.BeautifulSoup(source,'lxml')\n",
    "\n",
    "\n",
    "\n",
    "tables = soup.find_all('table',class_='wikitable')\n",
    "\n",
    "len(tables)"
   ]
  },
  {
   "cell_type": "code",
   "execution_count": 2,
   "metadata": {},
   "outputs": [],
   "source": [
    "#df1 = pd.read_html(str(tables[0]))[0]\n",
    "#df2 = pd.read_html(str(tables[1]))[0]\n",
    "#df3 = pd.read_html(str(tables[2]))[0]\n",
    "#df4 = pd.read_html(str(tables[3]).replace(\"'1\\\"\\'\",'\"1\"'))[0] # avoided \"ValueError: invalid literal for int() with base 10: '1\"'\n"
   ]
  },
  {
   "cell_type": "code",
   "execution_count": 3,
   "metadata": {},
   "outputs": [
    {
     "name": "stdout",
     "output_type": "stream",
     "text": [
      "                Title                              Director  \\\n",
      "0                1971                           Amrit Sagar   \n",
      "1             50 Lakh                 Chandra Sekhar Yeleti   \n",
      "2            68 Pages                      Sridhar Rangayan   \n",
      "3                 Aag                       Ram Gopal Varma   \n",
      "4         Aaja Nachle                            Anil Mehta   \n",
      "..                ...                                   ...   \n",
      "102         The Train  Hasnain Hyderabadwala, Raksha Mistry   \n",
      "103  Victoria No. 203                       Anant Mahadevan   \n",
      "104           Welcome                          Anees Bazmee   \n",
      "105             Yatra                          Gautam Ghose   \n",
      "106          Zamaanat                         S. Ramanathan   \n",
      "\n",
      "                                                  Cast             Genre  \n",
      "0                            Manoj Bajpai, Ravi Kishan               War  \n",
      "1                         Pawan Malhotra, Mohit Chadda               NaN  \n",
      "2           Mouli Ganguly, Joy Sengupta, Jayati Bhatia               NaN  \n",
      "3    Amitabh Bachchan, Ajay Devgn, Sushmita Sen, Ni...  Action, Thriller  \n",
      "4    Madhuri Dixit, Akshaye Khanna, Kunal Kapoor, K...           Musical  \n",
      "..                                                 ...               ...  \n",
      "102          Emraan Hashmi, Geeta Basra, Sayali Bhagat               NaN  \n",
      "103  Om Puri, Anupam Kher, Jimmy Sheirgill, Preeti ...            Comedy  \n",
      "104  Akshay Kumar, Nana Patekar, Anil Kapoor, Katri...            Comedy  \n",
      "105                  Rekha, Nana Patekar, Deepti Naval               NaN  \n",
      "106     Amitabh Bachchan, Arshad Warsi, Karisma Kapoor             Drama  \n",
      "\n",
      "[107 rows x 4 columns]\n"
     ]
    }
   ],
   "source": [
    "df3 = pd.read_html(str(tables[1]))[0]\n",
    " # avoided \"ValueError: invalid literal for int() with base 10: '1\"'\n",
    "print(df3)"
   ]
  },
  {
   "cell_type": "code",
   "execution_count": 3,
   "metadata": {},
   "outputs": [],
   "source": [
    "#df3.to_csv('film_2007.csv', header=False, index=False)"
   ]
  },
  {
   "cell_type": "code",
   "execution_count": 4,
   "metadata": {},
   "outputs": [
    {
     "data": {
      "text/plain": [
       "Title        0\n",
       "Director     0\n",
       "Cast         0\n",
       "Genre       19\n",
       "dtype: int64"
      ]
     },
     "execution_count": 4,
     "metadata": {},
     "output_type": "execute_result"
    }
   ],
   "source": [
    "df3.isnull().sum()"
   ]
  },
  {
   "cell_type": "code",
   "execution_count": 6,
   "metadata": {},
   "outputs": [
    {
     "data": {
      "text/html": [
       "<div>\n",
       "<style scoped>\n",
       "    .dataframe tbody tr th:only-of-type {\n",
       "        vertical-align: middle;\n",
       "    }\n",
       "\n",
       "    .dataframe tbody tr th {\n",
       "        vertical-align: top;\n",
       "    }\n",
       "\n",
       "    .dataframe thead th {\n",
       "        text-align: right;\n",
       "    }\n",
       "</style>\n",
       "<table border=\"1\" class=\"dataframe\">\n",
       "  <thead>\n",
       "    <tr style=\"text-align: right;\">\n",
       "      <th></th>\n",
       "      <th>Title</th>\n",
       "      <th>Director</th>\n",
       "      <th>Cast</th>\n",
       "      <th>Genre</th>\n",
       "    </tr>\n",
       "  </thead>\n",
       "  <tbody>\n",
       "    <tr>\n",
       "      <th>1</th>\n",
       "      <td>50 Lakh</td>\n",
       "      <td>Chandra Sekhar Yeleti</td>\n",
       "      <td>Pawan Malhotra, Mohit Chadda</td>\n",
       "      <td>NaN</td>\n",
       "    </tr>\n",
       "    <tr>\n",
       "      <th>2</th>\n",
       "      <td>68 Pages</td>\n",
       "      <td>Sridhar Rangayan</td>\n",
       "      <td>Mouli Ganguly, Joy Sengupta, Jayati Bhatia</td>\n",
       "      <td>NaN</td>\n",
       "    </tr>\n",
       "    <tr>\n",
       "      <th>9</th>\n",
       "      <td>Apna Asmaan</td>\n",
       "      <td>Kaushik Roy</td>\n",
       "      <td>Irrfan Khan, Shobana</td>\n",
       "      <td>NaN</td>\n",
       "    </tr>\n",
       "    <tr>\n",
       "      <th>11</th>\n",
       "      <td>Aur Pappu Paas Ho Gaya</td>\n",
       "      <td>S. Soni</td>\n",
       "      <td>Krishna Abhishek, Kashmira Shah, Jackie Shroff</td>\n",
       "      <td>NaN</td>\n",
       "    </tr>\n",
       "    <tr>\n",
       "      <th>21</th>\n",
       "      <td>The Blue Umbrella</td>\n",
       "      <td>Vishal Bhardwaj</td>\n",
       "      <td>Shreya Sharma, Pankaj Kapur</td>\n",
       "      <td>NaN</td>\n",
       "    </tr>\n",
       "    <tr>\n",
       "      <th>32</th>\n",
       "      <td>Delhii Heights</td>\n",
       "      <td>Anand Kumar</td>\n",
       "      <td>Jimmy Sheirgill, Neha Dhupia, Om Puri</td>\n",
       "      <td>NaN</td>\n",
       "    </tr>\n",
       "    <tr>\n",
       "      <th>35</th>\n",
       "      <td>Dharm</td>\n",
       "      <td>Bhavna Talwar</td>\n",
       "      <td>Pankaj Kapur, Hrishitaa Bhatt, Supriya Pathak</td>\n",
       "      <td>NaN</td>\n",
       "    </tr>\n",
       "    <tr>\n",
       "      <th>36</th>\n",
       "      <td>Dhokha</td>\n",
       "      <td>Pooja Bhatt</td>\n",
       "      <td>Muzammil Ibrahim, Tulip Joshi, Anupam Kher</td>\n",
       "      <td>NaN</td>\n",
       "    </tr>\n",
       "    <tr>\n",
       "      <th>38</th>\n",
       "      <td>Dil Dosti Etc</td>\n",
       "      <td>Manish Tiwary</td>\n",
       "      <td>Shreyas Talpade, Nikita Anand, Imaad Shah, Smr...</td>\n",
       "      <td>NaN</td>\n",
       "    </tr>\n",
       "    <tr>\n",
       "      <th>41</th>\n",
       "      <td>Ek Chalis Ki Last Local</td>\n",
       "      <td>Sanjay Khanduri</td>\n",
       "      <td>Abhay Deol, Neha Dhupia</td>\n",
       "      <td>NaN</td>\n",
       "    </tr>\n",
       "    <tr>\n",
       "      <th>43</th>\n",
       "      <td>Familywala</td>\n",
       "      <td>Neeraj Vora</td>\n",
       "      <td>Arjun Rampal, Dia Mirza</td>\n",
       "      <td>NaN</td>\n",
       "    </tr>\n",
       "    <tr>\n",
       "      <th>48</th>\n",
       "      <td>Go</td>\n",
       "      <td>Manish Shrivastava</td>\n",
       "      <td>Nisha Kothari, Kay Kay Menon, Rajpal Yadav</td>\n",
       "      <td>NaN</td>\n",
       "    </tr>\n",
       "    <tr>\n",
       "      <th>71</th>\n",
       "      <td>Mumbai Salsa</td>\n",
       "      <td>Manoj Tyagi</td>\n",
       "      <td>Vir Das, Linda Arsenio, Manjari Phadnis, Dilip...</td>\n",
       "      <td>NaN</td>\n",
       "    </tr>\n",
       "    <tr>\n",
       "      <th>90</th>\n",
       "      <td>Sambar Salsa</td>\n",
       "      <td>Aditya Raj Kapoor</td>\n",
       "      <td>Rishi Kapoor</td>\n",
       "      <td>NaN</td>\n",
       "    </tr>\n",
       "    <tr>\n",
       "      <th>94</th>\n",
       "      <td>Showbiz</td>\n",
       "      <td>Raju Khan</td>\n",
       "      <td>Tushar Jalota, Mrinalini Sharma</td>\n",
       "      <td>NaN</td>\n",
       "    </tr>\n",
       "    <tr>\n",
       "      <th>96</th>\n",
       "      <td>Strangers</td>\n",
       "      <td>Anand Rai</td>\n",
       "      <td>Jimmy Sheirgill, Kay Kay Menon, Nandana Sen, S...</td>\n",
       "      <td>NaN</td>\n",
       "    </tr>\n",
       "    <tr>\n",
       "      <th>97</th>\n",
       "      <td>Sunglass</td>\n",
       "      <td>Rituparno Ghosh</td>\n",
       "      <td>Konkona Sen Sharma, R. Madhavan, Raima Sen</td>\n",
       "      <td>NaN</td>\n",
       "    </tr>\n",
       "    <tr>\n",
       "      <th>102</th>\n",
       "      <td>The Train</td>\n",
       "      <td>Hasnain Hyderabadwala, Raksha Mistry</td>\n",
       "      <td>Emraan Hashmi, Geeta Basra, Sayali Bhagat</td>\n",
       "      <td>NaN</td>\n",
       "    </tr>\n",
       "    <tr>\n",
       "      <th>105</th>\n",
       "      <td>Yatra</td>\n",
       "      <td>Gautam Ghose</td>\n",
       "      <td>Rekha, Nana Patekar, Deepti Naval</td>\n",
       "      <td>NaN</td>\n",
       "    </tr>\n",
       "  </tbody>\n",
       "</table>\n",
       "</div>"
      ],
      "text/plain": [
       "                       Title                              Director  \\\n",
       "1                    50 Lakh                 Chandra Sekhar Yeleti   \n",
       "2                   68 Pages                      Sridhar Rangayan   \n",
       "9                Apna Asmaan                           Kaushik Roy   \n",
       "11    Aur Pappu Paas Ho Gaya                               S. Soni   \n",
       "21         The Blue Umbrella                       Vishal Bhardwaj   \n",
       "32            Delhii Heights                           Anand Kumar   \n",
       "35                     Dharm                         Bhavna Talwar   \n",
       "36                    Dhokha                           Pooja Bhatt   \n",
       "38             Dil Dosti Etc                         Manish Tiwary   \n",
       "41   Ek Chalis Ki Last Local                       Sanjay Khanduri   \n",
       "43                Familywala                           Neeraj Vora   \n",
       "48                        Go                    Manish Shrivastava   \n",
       "71              Mumbai Salsa                           Manoj Tyagi   \n",
       "90              Sambar Salsa                     Aditya Raj Kapoor   \n",
       "94                   Showbiz                             Raju Khan   \n",
       "96                 Strangers                             Anand Rai   \n",
       "97                  Sunglass                       Rituparno Ghosh   \n",
       "102                The Train  Hasnain Hyderabadwala, Raksha Mistry   \n",
       "105                    Yatra                          Gautam Ghose   \n",
       "\n",
       "                                                  Cast Genre  \n",
       "1                         Pawan Malhotra, Mohit Chadda   NaN  \n",
       "2           Mouli Ganguly, Joy Sengupta, Jayati Bhatia   NaN  \n",
       "9                                 Irrfan Khan, Shobana   NaN  \n",
       "11      Krishna Abhishek, Kashmira Shah, Jackie Shroff   NaN  \n",
       "21                         Shreya Sharma, Pankaj Kapur   NaN  \n",
       "32               Jimmy Sheirgill, Neha Dhupia, Om Puri   NaN  \n",
       "35       Pankaj Kapur, Hrishitaa Bhatt, Supriya Pathak   NaN  \n",
       "36          Muzammil Ibrahim, Tulip Joshi, Anupam Kher   NaN  \n",
       "38   Shreyas Talpade, Nikita Anand, Imaad Shah, Smr...   NaN  \n",
       "41                             Abhay Deol, Neha Dhupia   NaN  \n",
       "43                             Arjun Rampal, Dia Mirza   NaN  \n",
       "48          Nisha Kothari, Kay Kay Menon, Rajpal Yadav   NaN  \n",
       "71   Vir Das, Linda Arsenio, Manjari Phadnis, Dilip...   NaN  \n",
       "90                                        Rishi Kapoor   NaN  \n",
       "94                     Tushar Jalota, Mrinalini Sharma   NaN  \n",
       "96   Jimmy Sheirgill, Kay Kay Menon, Nandana Sen, S...   NaN  \n",
       "97          Konkona Sen Sharma, R. Madhavan, Raima Sen   NaN  \n",
       "102          Emraan Hashmi, Geeta Basra, Sayali Bhagat   NaN  \n",
       "105                  Rekha, Nana Patekar, Deepti Naval   NaN  "
      ]
     },
     "execution_count": 6,
     "metadata": {},
     "output_type": "execute_result"
    }
   ],
   "source": [
    "df3[df3['Genre'].isnull()]"
   ]
  },
  {
   "cell_type": "code",
   "execution_count": 8,
   "metadata": {},
   "outputs": [],
   "source": [
    "df3.loc[1]=df3.loc[1].fillna(' Comedy,Thriller')"
   ]
  },
  {
   "cell_type": "code",
   "execution_count": 9,
   "metadata": {},
   "outputs": [],
   "source": [
    "df3.loc[1]=df3.loc[1].fillna('Comedy,Thriller')\n",
    "df3.loc[2]=df3.loc[2].fillna('Drama')\n",
    "df3.loc[9]=df3.loc[9].fillna('Drama,Sci-Fi')\n",
    "df3.loc[11]=df3.loc[11].fillna(' Comedy')\n",
    "df3.loc[21]=df3.loc[21].fillna('  Comedy,Drama,Family,Fantasy')\n",
    "df3.loc[32]=df3.loc[32].fillna(' Drama,Romance')\n",
    "df3.loc[35]=df3.loc[35].fillna('Drama,HistoricalFiction')\n",
    "df3.loc[38]=df3.loc[38].fillna(' Comedy,Drama')\n",
    "df3.loc[41]=df3.loc[41].fillna(' Drama')\n",
    "df3.loc[43]=df3.loc[43].fillna(' Thriller,Romance ')\n",
    "df3.loc[48]=df3.loc[48].fillna(' Comedy,Thriller')\n",
    "df3.loc[71]=df3.loc[71].fillna(' Comedy,Drama')\n",
    "df3.loc[90]=df3.loc[90].fillna(' Comedy,Drama')\n",
    "df3.loc[94]=df3.loc[94].fillna(' Action,Drama,Music,Romance')\n",
    "df3.loc[96]=df3.loc[96].fillna('  Drama,Romance,Thriller')\n",
    "df3.loc[97]=df3.loc[97].fillna(' Drama')\n",
    "df3.loc[102]=df3.loc[102].fillna('Crime,Drama,Thriller')\n",
    "df3.loc[105]=df3.loc[105].fillna('Drama')\n"
   ]
  },
  {
   "cell_type": "code",
   "execution_count": 10,
   "metadata": {},
   "outputs": [
    {
     "data": {
      "text/plain": [
       "Title       0\n",
       "Director    0\n",
       "Cast        0\n",
       "Genre       1\n",
       "dtype: int64"
      ]
     },
     "execution_count": 10,
     "metadata": {},
     "output_type": "execute_result"
    }
   ],
   "source": [
    "df3.isnull().sum()"
   ]
  },
  {
   "cell_type": "code",
   "execution_count": 11,
   "metadata": {},
   "outputs": [
    {
     "data": {
      "text/html": [
       "<div>\n",
       "<style scoped>\n",
       "    .dataframe tbody tr th:only-of-type {\n",
       "        vertical-align: middle;\n",
       "    }\n",
       "\n",
       "    .dataframe tbody tr th {\n",
       "        vertical-align: top;\n",
       "    }\n",
       "\n",
       "    .dataframe thead th {\n",
       "        text-align: right;\n",
       "    }\n",
       "</style>\n",
       "<table border=\"1\" class=\"dataframe\">\n",
       "  <thead>\n",
       "    <tr style=\"text-align: right;\">\n",
       "      <th></th>\n",
       "      <th>Title</th>\n",
       "      <th>Director</th>\n",
       "      <th>Cast</th>\n",
       "      <th>Genre</th>\n",
       "    </tr>\n",
       "  </thead>\n",
       "  <tbody>\n",
       "    <tr>\n",
       "      <th>36</th>\n",
       "      <td>Dhokha</td>\n",
       "      <td>Pooja Bhatt</td>\n",
       "      <td>Muzammil Ibrahim, Tulip Joshi, Anupam Kher</td>\n",
       "      <td>NaN</td>\n",
       "    </tr>\n",
       "  </tbody>\n",
       "</table>\n",
       "</div>"
      ],
      "text/plain": [
       "     Title     Director                                        Cast Genre\n",
       "36  Dhokha  Pooja Bhatt  Muzammil Ibrahim, Tulip Joshi, Anupam Kher   NaN"
      ]
     },
     "execution_count": 11,
     "metadata": {},
     "output_type": "execute_result"
    }
   ],
   "source": [
    "df3[df3['Genre'].isnull()]"
   ]
  },
  {
   "cell_type": "code",
   "execution_count": 12,
   "metadata": {},
   "outputs": [],
   "source": [
    "df3.loc[105]=df3.loc[105].fillna('Drama,Action')"
   ]
  },
  {
   "cell_type": "code",
   "execution_count": 13,
   "metadata": {},
   "outputs": [
    {
     "name": "stdout",
     "output_type": "stream",
     "text": [
      "/Users/pradeepvaddigadda/Desktop\n"
     ]
    }
   ],
   "source": [
    "cd /Users/pradeepvaddigadda/desktop"
   ]
  },
  {
   "cell_type": "code",
   "execution_count": 2,
   "metadata": {},
   "outputs": [],
   "source": [
    "#df3.to_csv('cleanedfilm_2007.csv', header=True, index=False)"
   ]
  },
  {
   "cell_type": "code",
   "execution_count": null,
   "metadata": {},
   "outputs": [],
   "source": []
  }
 ],
 "metadata": {
  "kernelspec": {
   "display_name": "Python 3",
   "language": "python",
   "name": "python3"
  },
  "language_info": {
   "codemirror_mode": {
    "name": "ipython",
    "version": 3
   },
   "file_extension": ".py",
   "mimetype": "text/x-python",
   "name": "python",
   "nbconvert_exporter": "python",
   "pygments_lexer": "ipython3",
   "version": "3.8.3"
  }
 },
 "nbformat": 4,
 "nbformat_minor": 4
}
