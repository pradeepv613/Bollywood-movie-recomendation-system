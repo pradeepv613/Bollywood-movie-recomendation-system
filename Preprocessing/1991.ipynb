{
 "cells": [
  {
   "cell_type": "code",
   "execution_count": 1,
   "metadata": {},
   "outputs": [],
   "source": [
    "import pandas as pd\n",
    "import numpy as np\n",
    "import requests\n",
    "import bs4 as bs\n",
    "import urllib.request"
   ]
  },
  {
   "cell_type": "code",
   "execution_count": 2,
   "metadata": {},
   "outputs": [],
   "source": [
    "#pip install requests[security]"
   ]
  },
  {
   "cell_type": "code",
   "execution_count": 3,
   "metadata": {},
   "outputs": [],
   "source": [
    "link = \"https://en.wikipedia.org/wiki/List_of_Bollywood_films_of_1991\""
   ]
  },
  {
   "cell_type": "code",
   "execution_count": 4,
   "metadata": {},
   "outputs": [],
   "source": [
    "source = urllib.request.urlopen(link).read()\n",
    "soup = bs.BeautifulSoup(source,'lxml')"
   ]
  },
  {
   "cell_type": "code",
   "execution_count": 5,
   "metadata": {},
   "outputs": [],
   "source": [
    "tables = soup.find_all('table',class_='wikitable')"
   ]
  },
  {
   "cell_type": "code",
   "execution_count": 6,
   "metadata": {},
   "outputs": [
    {
     "data": {
      "text/plain": [
       "2"
      ]
     },
     "execution_count": 6,
     "metadata": {},
     "output_type": "execute_result"
    }
   ],
   "source": [
    "\n",
    "len(tables)"
   ]
  },
  {
   "cell_type": "code",
   "execution_count": 7,
   "metadata": {},
   "outputs": [],
   "source": [
    "\n",
    "df3 = pd.read_html(str(tables[0]))[0]\n",
    " # avoided \"ValueError: invalid literal for int() with base 10: '1\"'"
   ]
  },
  {
   "cell_type": "code",
   "execution_count": 8,
   "metadata": {},
   "outputs": [
    {
     "name": "stdout",
     "output_type": "stream",
     "text": [
      "                    Title         Director  \\\n",
      "0                100 Days     Partho Ghosh   \n",
      "1    Aag Laga Do Sawan Ko       Anup Malik   \n",
      "2           Aaj Ka Samson      Kuku Kapoor   \n",
      "3           Aakhri Cheekh     Kiran Ramsay   \n",
      "4          Afsana Pyar Ka        Shahjahan   \n",
      "..                    ...              ...   \n",
      "108             Vishkanya  Jagmohan Mundra   \n",
      "109          Vishnu-Devaa         K. Pappu   \n",
      "110         Yaara Dildara   Mirza Brothers   \n",
      "111   Yeh Aag Kab Bujhegi       Sunil Dutt   \n",
      "112                 Zaher    Jyoti Swaroop   \n",
      "\n",
      "                                                  Cast            Genre  \\\n",
      "0    Jackie Shroff, Madhuri Dixit, Moon Moon Sen, J...         Thriller   \n",
      "1                                         Harish Patel              NaN   \n",
      "2             Hemant Birje, Sahil Chaddha, Goga Kapoor  Action, Romance   \n",
      "3          Vijay Arora, Anil Dhawan, Vijayendra Ghatge           Horror   \n",
      "4                           Aamir Khan, Neelam Kothari          Romance   \n",
      "..                                                 ...              ...   \n",
      "108              Kunal Goswami, Pooja Bedi, Kabir Bedi           Action   \n",
      "109        Sunny Deol, Aditya Pancholi, Neelam Kothari              NaN   \n",
      "110          Aashif Sheikh, Ruchika Pandey, Amjad Khan   Romance, Drama   \n",
      "111                      Sunil Dutt, Rekha, Kabir Bedi            Drama   \n",
      "112                   Arjun, Iqbal Durrani, Alka Kubal              NaN   \n",
      "\n",
      "    Music Director  \n",
      "0        Ramlaxman  \n",
      "1              NaN  \n",
      "2              NaN  \n",
      "3              NaN  \n",
      "4     Bappi Lahiri  \n",
      "..             ...  \n",
      "108   Bappi Lahiri  \n",
      "109  Rajesh Roshan  \n",
      "110    Jatin-Lalit  \n",
      "111  Ravindra Jain  \n",
      "112            NaN  \n",
      "\n",
      "[113 rows x 5 columns]\n"
     ]
    }
   ],
   "source": [
    "print(df3)"
   ]
  },
  {
   "cell_type": "code",
   "execution_count": 9,
   "metadata": {},
   "outputs": [],
   "source": [
    "df = df3"
   ]
  },
  {
   "cell_type": "code",
   "execution_count": 10,
   "metadata": {},
   "outputs": [
    {
     "data": {
      "text/html": [
       "<div>\n",
       "<style scoped>\n",
       "    .dataframe tbody tr th:only-of-type {\n",
       "        vertical-align: middle;\n",
       "    }\n",
       "\n",
       "    .dataframe tbody tr th {\n",
       "        vertical-align: top;\n",
       "    }\n",
       "\n",
       "    .dataframe thead th {\n",
       "        text-align: right;\n",
       "    }\n",
       "</style>\n",
       "<table border=\"1\" class=\"dataframe\">\n",
       "  <thead>\n",
       "    <tr style=\"text-align: right;\">\n",
       "      <th></th>\n",
       "      <th>Title</th>\n",
       "      <th>Director</th>\n",
       "      <th>Cast</th>\n",
       "      <th>Genre</th>\n",
       "      <th>Music Director</th>\n",
       "    </tr>\n",
       "  </thead>\n",
       "  <tbody>\n",
       "    <tr>\n",
       "      <th>0</th>\n",
       "      <td>100 Days</td>\n",
       "      <td>Partho Ghosh</td>\n",
       "      <td>Jackie Shroff, Madhuri Dixit, Moon Moon Sen, J...</td>\n",
       "      <td>Thriller</td>\n",
       "      <td>Ramlaxman</td>\n",
       "    </tr>\n",
       "    <tr>\n",
       "      <th>1</th>\n",
       "      <td>Aag Laga Do Sawan Ko</td>\n",
       "      <td>Anup Malik</td>\n",
       "      <td>Harish Patel</td>\n",
       "      <td>NaN</td>\n",
       "      <td>NaN</td>\n",
       "    </tr>\n",
       "    <tr>\n",
       "      <th>2</th>\n",
       "      <td>Aaj Ka Samson</td>\n",
       "      <td>Kuku Kapoor</td>\n",
       "      <td>Hemant Birje, Sahil Chaddha, Goga Kapoor</td>\n",
       "      <td>Action, Romance</td>\n",
       "      <td>NaN</td>\n",
       "    </tr>\n",
       "    <tr>\n",
       "      <th>3</th>\n",
       "      <td>Aakhri Cheekh</td>\n",
       "      <td>Kiran Ramsay</td>\n",
       "      <td>Vijay Arora, Anil Dhawan, Vijayendra Ghatge</td>\n",
       "      <td>Horror</td>\n",
       "      <td>NaN</td>\n",
       "    </tr>\n",
       "    <tr>\n",
       "      <th>4</th>\n",
       "      <td>Afsana Pyar Ka</td>\n",
       "      <td>Shahjahan</td>\n",
       "      <td>Aamir Khan, Neelam Kothari</td>\n",
       "      <td>Romance</td>\n",
       "      <td>Bappi Lahiri</td>\n",
       "    </tr>\n",
       "    <tr>\n",
       "      <th>...</th>\n",
       "      <td>...</td>\n",
       "      <td>...</td>\n",
       "      <td>...</td>\n",
       "      <td>...</td>\n",
       "      <td>...</td>\n",
       "    </tr>\n",
       "    <tr>\n",
       "      <th>108</th>\n",
       "      <td>Vishkanya</td>\n",
       "      <td>Jagmohan Mundra</td>\n",
       "      <td>Kunal Goswami, Pooja Bedi, Kabir Bedi</td>\n",
       "      <td>Action</td>\n",
       "      <td>Bappi Lahiri</td>\n",
       "    </tr>\n",
       "    <tr>\n",
       "      <th>109</th>\n",
       "      <td>Vishnu-Devaa</td>\n",
       "      <td>K. Pappu</td>\n",
       "      <td>Sunny Deol, Aditya Pancholi, Neelam Kothari</td>\n",
       "      <td>NaN</td>\n",
       "      <td>Rajesh Roshan</td>\n",
       "    </tr>\n",
       "    <tr>\n",
       "      <th>110</th>\n",
       "      <td>Yaara Dildara</td>\n",
       "      <td>Mirza Brothers</td>\n",
       "      <td>Aashif Sheikh, Ruchika Pandey, Amjad Khan</td>\n",
       "      <td>Romance, Drama</td>\n",
       "      <td>Jatin-Lalit</td>\n",
       "    </tr>\n",
       "    <tr>\n",
       "      <th>111</th>\n",
       "      <td>Yeh Aag Kab Bujhegi</td>\n",
       "      <td>Sunil Dutt</td>\n",
       "      <td>Sunil Dutt, Rekha, Kabir Bedi</td>\n",
       "      <td>Drama</td>\n",
       "      <td>Ravindra Jain</td>\n",
       "    </tr>\n",
       "    <tr>\n",
       "      <th>112</th>\n",
       "      <td>Zaher</td>\n",
       "      <td>Jyoti Swaroop</td>\n",
       "      <td>Arjun, Iqbal Durrani, Alka Kubal</td>\n",
       "      <td>NaN</td>\n",
       "      <td>NaN</td>\n",
       "    </tr>\n",
       "  </tbody>\n",
       "</table>\n",
       "<p>113 rows × 5 columns</p>\n",
       "</div>"
      ],
      "text/plain": [
       "                    Title         Director  \\\n",
       "0                100 Days     Partho Ghosh   \n",
       "1    Aag Laga Do Sawan Ko       Anup Malik   \n",
       "2           Aaj Ka Samson      Kuku Kapoor   \n",
       "3           Aakhri Cheekh     Kiran Ramsay   \n",
       "4          Afsana Pyar Ka        Shahjahan   \n",
       "..                    ...              ...   \n",
       "108             Vishkanya  Jagmohan Mundra   \n",
       "109          Vishnu-Devaa         K. Pappu   \n",
       "110         Yaara Dildara   Mirza Brothers   \n",
       "111   Yeh Aag Kab Bujhegi       Sunil Dutt   \n",
       "112                 Zaher    Jyoti Swaroop   \n",
       "\n",
       "                                                  Cast            Genre  \\\n",
       "0    Jackie Shroff, Madhuri Dixit, Moon Moon Sen, J...         Thriller   \n",
       "1                                         Harish Patel              NaN   \n",
       "2             Hemant Birje, Sahil Chaddha, Goga Kapoor  Action, Romance   \n",
       "3          Vijay Arora, Anil Dhawan, Vijayendra Ghatge           Horror   \n",
       "4                           Aamir Khan, Neelam Kothari          Romance   \n",
       "..                                                 ...              ...   \n",
       "108              Kunal Goswami, Pooja Bedi, Kabir Bedi           Action   \n",
       "109        Sunny Deol, Aditya Pancholi, Neelam Kothari              NaN   \n",
       "110          Aashif Sheikh, Ruchika Pandey, Amjad Khan   Romance, Drama   \n",
       "111                      Sunil Dutt, Rekha, Kabir Bedi            Drama   \n",
       "112                   Arjun, Iqbal Durrani, Alka Kubal              NaN   \n",
       "\n",
       "    Music Director  \n",
       "0        Ramlaxman  \n",
       "1              NaN  \n",
       "2              NaN  \n",
       "3              NaN  \n",
       "4     Bappi Lahiri  \n",
       "..             ...  \n",
       "108   Bappi Lahiri  \n",
       "109  Rajesh Roshan  \n",
       "110    Jatin-Lalit  \n",
       "111  Ravindra Jain  \n",
       "112            NaN  \n",
       "\n",
       "[113 rows x 5 columns]"
      ]
     },
     "execution_count": 10,
     "metadata": {},
     "output_type": "execute_result"
    }
   ],
   "source": [
    "df"
   ]
  },
  {
   "cell_type": "code",
   "execution_count": 41,
   "metadata": {},
   "outputs": [
    {
     "name": "stdout",
     "output_type": "stream",
     "text": [
      "[Errno 2] No such file or directory: 'Users/pradeepvaddigadda/desktop'\n",
      "/Users/pradeepvaddigadda\n"
     ]
    }
   ],
   "source": [
    "cd Users/pradeepvaddigadda/desktop"
   ]
  },
  {
   "cell_type": "code",
   "execution_count": 42,
   "metadata": {},
   "outputs": [],
   "source": [
    "df.to_csv('film_1991.csv', header=False, index=False)"
   ]
  },
  {
   "cell_type": "code",
   "execution_count": 11,
   "metadata": {},
   "outputs": [
    {
     "data": {
      "text/plain": [
       "Title              0\n",
       "Director           6\n",
       "Cast               1\n",
       "Genre             32\n",
       "Music Director    57\n",
       "dtype: int64"
      ]
     },
     "execution_count": 11,
     "metadata": {},
     "output_type": "execute_result"
    }
   ],
   "source": [
    "df.isnull().sum()"
   ]
  },
  {
   "cell_type": "code",
   "execution_count": 14,
   "metadata": {},
   "outputs": [],
   "source": [
    "import imdb\n",
    "\n",
    "moviesDB = imdb.IMDb()\n",
    "\n",
    "# # Help?\n",
    "# print(dir(moviesDB))\n",
    "# ----------------------------------------\n",
    "# 1) Search for a title\n",
    "movies = moviesDB.search_movie('inception')\n",
    "\n",
    "# print('Searching for \"inception\":')\n",
    "# for movie in movies:\n",
    "#     title = movie['title']\n",
    "#     year = movie['year']\n",
    "#     print(f'{title} - {year}')\n",
    "\n",
    "## Help?\n",
    "#print(movies[0].keys())\n",
    "    \n"
   ]
  },
  {
   "cell_type": "code",
   "execution_count": 15,
   "metadata": {},
   "outputs": [],
   "source": [
    "#getting genre for 2020 movies using imdb API\n",
    "def get_genre(x):\n",
    "  genres = []\n",
    "  movies = moviesDB.search_movie(x)\n",
    "  id = movies[0].getID()\n",
    "  movie = moviesDB.get_movie(id) \n",
    "  try:\n",
    "      genres = movie['genres'] \n",
    "      direcStr= ' '.join(map(str,genres))\n",
    "      genres.append(direcStr)\n",
    "      return genres\n",
    "  except:\n",
    "    print(\"An exception occurred\")\n"
   ]
  },
  {
   "cell_type": "code",
   "execution_count": 16,
   "metadata": {},
   "outputs": [
    {
     "name": "stderr",
     "output_type": "stream",
     "text": [
      "2020-09-08 22:20:37,954 CRITICAL [imdbpy] /opt/anaconda3/lib/python3.8/site-packages/imdb/_exceptions.py:33: IMDbDataAccessError exception raised; args: ({'errcode': None, 'errmsg': 'None', 'url': 'https://www.imdb.com/title/tt0359151/reference', 'proxy': '', 'exception type': 'IOError', 'original exception': <HTTPError 500: 'Internal Server Error'>},); kwds: {}\n",
      "Traceback (most recent call last):\n",
      "  File \"/opt/anaconda3/lib/python3.8/site-packages/imdb/parser/http/__init__.py\", line 219, in retrieve_unicode\n",
      "    response = uopener.open(url)\n",
      "  File \"/opt/anaconda3/lib/python3.8/urllib/request.py\", line 531, in open\n",
      "    response = meth(req, response)\n",
      "  File \"/opt/anaconda3/lib/python3.8/urllib/request.py\", line 640, in http_response\n",
      "    response = self.parent.error(\n",
      "  File \"/opt/anaconda3/lib/python3.8/urllib/request.py\", line 569, in error\n",
      "    return self._call_chain(*args)\n",
      "  File \"/opt/anaconda3/lib/python3.8/urllib/request.py\", line 502, in _call_chain\n",
      "    result = func(*args)\n",
      "  File \"/opt/anaconda3/lib/python3.8/urllib/request.py\", line 649, in http_error_default\n",
      "    raise HTTPError(req.full_url, code, msg, hdrs, fp)\n",
      "urllib.error.HTTPError: HTTP Error 500: Internal Server Error\n",
      "2020-09-08 22:20:37,959 CRITICAL [imdbpy] /opt/anaconda3/lib/python3.8/site-packages/imdb/__init__.py:734: caught an exception retrieving or parsing \"main\" info set for mopID \"0359151\" (accessSystem: http)\n",
      "Traceback (most recent call last):\n",
      "  File \"/opt/anaconda3/lib/python3.8/site-packages/imdb/parser/http/__init__.py\", line 219, in retrieve_unicode\n",
      "    response = uopener.open(url)\n",
      "  File \"/opt/anaconda3/lib/python3.8/urllib/request.py\", line 531, in open\n",
      "    response = meth(req, response)\n",
      "  File \"/opt/anaconda3/lib/python3.8/urllib/request.py\", line 640, in http_response\n",
      "    response = self.parent.error(\n",
      "  File \"/opt/anaconda3/lib/python3.8/urllib/request.py\", line 569, in error\n",
      "    return self._call_chain(*args)\n",
      "  File \"/opt/anaconda3/lib/python3.8/urllib/request.py\", line 502, in _call_chain\n",
      "    result = func(*args)\n",
      "  File \"/opt/anaconda3/lib/python3.8/urllib/request.py\", line 649, in http_error_default\n",
      "    raise HTTPError(req.full_url, code, msg, hdrs, fp)\n",
      "urllib.error.HTTPError: HTTP Error 500: Internal Server Error\n",
      "\n",
      "During handling of the above exception, another exception occurred:\n",
      "\n",
      "Traceback (most recent call last):\n",
      "  File \"/opt/anaconda3/lib/python3.8/site-packages/imdb/__init__.py\", line 732, in update\n",
      "    ret = method(mopID)\n",
      "  File \"/opt/anaconda3/lib/python3.8/site-packages/imdb/parser/http/__init__.py\", line 439, in get_movie_main\n",
      "    cont = self._retrieve(self.urls['movie_main'] % movieID + 'reference')\n",
      "  File \"/opt/anaconda3/lib/python3.8/site-packages/imdb/parser/http/__init__.py\", line 376, in _retrieve\n",
      "    ret = self.urlOpener.retrieve_unicode(url, size=size)\n",
      "  File \"/opt/anaconda3/lib/python3.8/site-packages/imdb/parser/http/__init__.py\", line 247, in retrieve_unicode\n",
      "    raise IMDbDataAccessError(\n",
      "imdb._exceptions.IMDbDataAccessError: {'errcode': None, 'errmsg': 'None', 'url': 'https://www.imdb.com/title/tt0359151/reference', 'proxy': '', 'exception type': 'IOError', 'original exception': <HTTPError 500: 'Internal Server Error'>}\n"
     ]
    },
    {
     "name": "stdout",
     "output_type": "stream",
     "text": [
      "An exception occurred\n",
      "An exception occurred\n",
      "An exception occurred\n",
      "An exception occurred\n"
     ]
    }
   ],
   "source": [
    "df['genre'] = df['Title'].map(lambda x: get_genre(str(x)))"
   ]
  },
  {
   "cell_type": "code",
   "execution_count": 17,
   "metadata": {},
   "outputs": [
    {
     "name": "stdout",
     "output_type": "stream",
     "text": [
      "/Users/pradeepvaddigadda/Desktop\n"
     ]
    }
   ],
   "source": [
    "cd /Users/pradeepvaddigadda/desktop"
   ]
  },
  {
   "cell_type": "code",
   "execution_count": 18,
   "metadata": {},
   "outputs": [
    {
     "data": {
      "text/plain": [
       "Title              0\n",
       "Director           6\n",
       "Cast               1\n",
       "Genre             32\n",
       "Music Director    57\n",
       "genre              4\n",
       "dtype: int64"
      ]
     },
     "execution_count": 18,
     "metadata": {},
     "output_type": "execute_result"
    }
   ],
   "source": [
    "df.isnull().sum()"
   ]
  },
  {
   "cell_type": "code",
   "execution_count": 20,
   "metadata": {},
   "outputs": [],
   "source": [
    "df.drop(['Genre','Music Director'],1,inplace=True)"
   ]
  },
  {
   "cell_type": "code",
   "execution_count": 21,
   "metadata": {},
   "outputs": [
    {
     "data": {
      "text/plain": [
       "Title       0\n",
       "Director    6\n",
       "Cast        1\n",
       "genre       4\n",
       "dtype: int64"
      ]
     },
     "execution_count": 21,
     "metadata": {},
     "output_type": "execute_result"
    }
   ],
   "source": [
    "df.isnull().sum()"
   ]
  },
  {
   "cell_type": "code",
   "execution_count": 23,
   "metadata": {},
   "outputs": [],
   "source": [
    "df1=df.dropna()"
   ]
  },
  {
   "cell_type": "code",
   "execution_count": 24,
   "metadata": {},
   "outputs": [
    {
     "name": "stdout",
     "output_type": "stream",
     "text": [
      "/Users/pradeepvaddigadda/Desktop\n"
     ]
    }
   ],
   "source": [
    "cd /Users/pradeepvaddigadda/desktop"
   ]
  },
  {
   "cell_type": "code",
   "execution_count": 25,
   "metadata": {},
   "outputs": [],
   "source": [
    "df.to_csv('cleanedfilm_1991.csv', header=True, index=True)"
   ]
  },
  {
   "cell_type": "code",
   "execution_count": null,
   "metadata": {},
   "outputs": [],
   "source": []
  }
 ],
 "metadata": {
  "kernelspec": {
   "display_name": "Python 3",
   "language": "python",
   "name": "python3"
  },
  "language_info": {
   "codemirror_mode": {
    "name": "ipython",
    "version": 3
   },
   "file_extension": ".py",
   "mimetype": "text/x-python",
   "name": "python",
   "nbconvert_exporter": "python",
   "pygments_lexer": "ipython3",
   "version": "3.8.3"
  }
 },
 "nbformat": 4,
 "nbformat_minor": 4
}
