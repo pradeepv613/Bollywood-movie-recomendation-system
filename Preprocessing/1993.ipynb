{
 "cells": [
  {
   "cell_type": "code",
   "execution_count": 1,
   "metadata": {},
   "outputs": [],
   "source": [
    "import pandas as pd\n",
    "import numpy as np\n",
    "import requests\n",
    "import bs4 as bs\n",
    "import urllib.request"
   ]
  },
  {
   "cell_type": "code",
   "execution_count": 2,
   "metadata": {},
   "outputs": [],
   "source": [
    "#pip install requests[security]"
   ]
  },
  {
   "cell_type": "code",
   "execution_count": 3,
   "metadata": {},
   "outputs": [],
   "source": [
    "link = \"https://en.wikipedia.org/wiki/List_of_Bollywood_films_of_1993\""
   ]
  },
  {
   "cell_type": "code",
   "execution_count": 4,
   "metadata": {},
   "outputs": [],
   "source": [
    "source = urllib.request.urlopen(link).read()\n",
    "soup = bs.BeautifulSoup(source,'lxml')"
   ]
  },
  {
   "cell_type": "code",
   "execution_count": 5,
   "metadata": {},
   "outputs": [],
   "source": [
    "tables = soup.find_all('table',class_='wikitable')"
   ]
  },
  {
   "cell_type": "code",
   "execution_count": 6,
   "metadata": {},
   "outputs": [
    {
     "data": {
      "text/plain": [
       "2"
      ]
     },
     "execution_count": 6,
     "metadata": {},
     "output_type": "execute_result"
    }
   ],
   "source": [
    "\n",
    "len(tables)"
   ]
  },
  {
   "cell_type": "code",
   "execution_count": 7,
   "metadata": {},
   "outputs": [],
   "source": [
    "\n",
    "df3 = pd.read_html(str(tables[1]))[0]\n",
    " # avoided \"ValueError: invalid literal for int() with base 10: '1\"'"
   ]
  },
  {
   "cell_type": "code",
   "execution_count": 8,
   "metadata": {},
   "outputs": [
    {
     "name": "stdout",
     "output_type": "stream",
     "text": [
      "                 Title           Director  \\\n",
      "0            15 August      Vicky Ranawat   \n",
      "1                Aadmi        Arshad Khan   \n",
      "2    Aadmi Khilona Hai      J. Om Prakash   \n",
      "3        Aag Ka Toofan        Kanti Mehta   \n",
      "4                Aaina      Deepak Sareen   \n",
      "..                 ...                ...   \n",
      "112             Veerta        Shibu Mitra   \n",
      "113    Waqt Hamara Hai  Bharat Rangachary   \n",
      "114          Yugandhar         N. Chandra   \n",
      "115        Zakhmi Rooh        Pawan Kumar   \n",
      "116   Zakhmo Ka Hisaab         Talukdaars   \n",
      "\n",
      "                                                  Cast  \\\n",
      "0    Ronit Roy, Tisca Chopra, Prem Chopra, Saeed Ja...   \n",
      "1                         Mithun Chakraborty, Gauthami   \n",
      "2    Jeetendra, Reena Roy, Govinda, Meenakshi Seshadri   \n",
      "3      Shashi Kapoor, Dharmendra, Farheen, Ravi Kishen   \n",
      "4             Jackie Shroff, Juhi Chawla, Amrita Singh   \n",
      "..                                                 ...   \n",
      "112      Prasenjit Chatterjee, Prem Chopra, Sunny Deol   \n",
      "113  Akshay Kumar, Sunil Shetty, Ayesha Jhulka, Mam...   \n",
      "114   Mithun Chakraborty, Kabir Bedi, Sangeeta Bijlani   \n",
      "115            Moon Moon Sen, Javed Jaffrey, Raj Kiran   \n",
      "116                   Govinda, Farah Naaz, Kiran Kumar   \n",
      "\n",
      "                             Genre  \n",
      "0                              NaN  \n",
      "1    Action, Crime, Drama, Romance  \n",
      "2                   Drama, Romance  \n",
      "3                              NaN  \n",
      "4                          Romance  \n",
      "..                             ...  \n",
      "112                            NaN  \n",
      "113                Action, Romance  \n",
      "114                            NaN  \n",
      "115                            NaN  \n",
      "116           Action, Crime, Drama  \n",
      "\n",
      "[117 rows x 4 columns]\n"
     ]
    }
   ],
   "source": [
    "print(df3)"
   ]
  },
  {
   "cell_type": "code",
   "execution_count": 9,
   "metadata": {},
   "outputs": [],
   "source": [
    "df = df3"
   ]
  },
  {
   "cell_type": "code",
   "execution_count": 10,
   "metadata": {},
   "outputs": [
    {
     "data": {
      "text/html": [
       "<div>\n",
       "<style scoped>\n",
       "    .dataframe tbody tr th:only-of-type {\n",
       "        vertical-align: middle;\n",
       "    }\n",
       "\n",
       "    .dataframe tbody tr th {\n",
       "        vertical-align: top;\n",
       "    }\n",
       "\n",
       "    .dataframe thead th {\n",
       "        text-align: right;\n",
       "    }\n",
       "</style>\n",
       "<table border=\"1\" class=\"dataframe\">\n",
       "  <thead>\n",
       "    <tr style=\"text-align: right;\">\n",
       "      <th></th>\n",
       "      <th>Title</th>\n",
       "      <th>Director</th>\n",
       "      <th>Cast</th>\n",
       "      <th>Genre</th>\n",
       "    </tr>\n",
       "  </thead>\n",
       "  <tbody>\n",
       "    <tr>\n",
       "      <th>0</th>\n",
       "      <td>15 August</td>\n",
       "      <td>Vicky Ranawat</td>\n",
       "      <td>Ronit Roy, Tisca Chopra, Prem Chopra, Saeed Ja...</td>\n",
       "      <td>NaN</td>\n",
       "    </tr>\n",
       "    <tr>\n",
       "      <th>1</th>\n",
       "      <td>Aadmi</td>\n",
       "      <td>Arshad Khan</td>\n",
       "      <td>Mithun Chakraborty, Gauthami</td>\n",
       "      <td>Action, Crime, Drama, Romance</td>\n",
       "    </tr>\n",
       "    <tr>\n",
       "      <th>2</th>\n",
       "      <td>Aadmi Khilona Hai</td>\n",
       "      <td>J. Om Prakash</td>\n",
       "      <td>Jeetendra, Reena Roy, Govinda, Meenakshi Seshadri</td>\n",
       "      <td>Drama, Romance</td>\n",
       "    </tr>\n",
       "    <tr>\n",
       "      <th>3</th>\n",
       "      <td>Aag Ka Toofan</td>\n",
       "      <td>Kanti Mehta</td>\n",
       "      <td>Shashi Kapoor, Dharmendra, Farheen, Ravi Kishen</td>\n",
       "      <td>NaN</td>\n",
       "    </tr>\n",
       "    <tr>\n",
       "      <th>4</th>\n",
       "      <td>Aaina</td>\n",
       "      <td>Deepak Sareen</td>\n",
       "      <td>Jackie Shroff, Juhi Chawla, Amrita Singh</td>\n",
       "      <td>Romance</td>\n",
       "    </tr>\n",
       "    <tr>\n",
       "      <th>...</th>\n",
       "      <td>...</td>\n",
       "      <td>...</td>\n",
       "      <td>...</td>\n",
       "      <td>...</td>\n",
       "    </tr>\n",
       "    <tr>\n",
       "      <th>112</th>\n",
       "      <td>Veerta</td>\n",
       "      <td>Shibu Mitra</td>\n",
       "      <td>Prasenjit Chatterjee, Prem Chopra, Sunny Deol</td>\n",
       "      <td>NaN</td>\n",
       "    </tr>\n",
       "    <tr>\n",
       "      <th>113</th>\n",
       "      <td>Waqt Hamara Hai</td>\n",
       "      <td>Bharat Rangachary</td>\n",
       "      <td>Akshay Kumar, Sunil Shetty, Ayesha Jhulka, Mam...</td>\n",
       "      <td>Action, Romance</td>\n",
       "    </tr>\n",
       "    <tr>\n",
       "      <th>114</th>\n",
       "      <td>Yugandhar</td>\n",
       "      <td>N. Chandra</td>\n",
       "      <td>Mithun Chakraborty, Kabir Bedi, Sangeeta Bijlani</td>\n",
       "      <td>NaN</td>\n",
       "    </tr>\n",
       "    <tr>\n",
       "      <th>115</th>\n",
       "      <td>Zakhmi Rooh</td>\n",
       "      <td>Pawan Kumar</td>\n",
       "      <td>Moon Moon Sen, Javed Jaffrey, Raj Kiran</td>\n",
       "      <td>NaN</td>\n",
       "    </tr>\n",
       "    <tr>\n",
       "      <th>116</th>\n",
       "      <td>Zakhmo Ka Hisaab</td>\n",
       "      <td>Talukdaars</td>\n",
       "      <td>Govinda, Farah Naaz, Kiran Kumar</td>\n",
       "      <td>Action, Crime, Drama</td>\n",
       "    </tr>\n",
       "  </tbody>\n",
       "</table>\n",
       "<p>117 rows × 4 columns</p>\n",
       "</div>"
      ],
      "text/plain": [
       "                 Title           Director  \\\n",
       "0            15 August      Vicky Ranawat   \n",
       "1                Aadmi        Arshad Khan   \n",
       "2    Aadmi Khilona Hai      J. Om Prakash   \n",
       "3        Aag Ka Toofan        Kanti Mehta   \n",
       "4                Aaina      Deepak Sareen   \n",
       "..                 ...                ...   \n",
       "112             Veerta        Shibu Mitra   \n",
       "113    Waqt Hamara Hai  Bharat Rangachary   \n",
       "114          Yugandhar         N. Chandra   \n",
       "115        Zakhmi Rooh        Pawan Kumar   \n",
       "116   Zakhmo Ka Hisaab         Talukdaars   \n",
       "\n",
       "                                                  Cast  \\\n",
       "0    Ronit Roy, Tisca Chopra, Prem Chopra, Saeed Ja...   \n",
       "1                         Mithun Chakraborty, Gauthami   \n",
       "2    Jeetendra, Reena Roy, Govinda, Meenakshi Seshadri   \n",
       "3      Shashi Kapoor, Dharmendra, Farheen, Ravi Kishen   \n",
       "4             Jackie Shroff, Juhi Chawla, Amrita Singh   \n",
       "..                                                 ...   \n",
       "112      Prasenjit Chatterjee, Prem Chopra, Sunny Deol   \n",
       "113  Akshay Kumar, Sunil Shetty, Ayesha Jhulka, Mam...   \n",
       "114   Mithun Chakraborty, Kabir Bedi, Sangeeta Bijlani   \n",
       "115            Moon Moon Sen, Javed Jaffrey, Raj Kiran   \n",
       "116                   Govinda, Farah Naaz, Kiran Kumar   \n",
       "\n",
       "                             Genre  \n",
       "0                              NaN  \n",
       "1    Action, Crime, Drama, Romance  \n",
       "2                   Drama, Romance  \n",
       "3                              NaN  \n",
       "4                          Romance  \n",
       "..                             ...  \n",
       "112                            NaN  \n",
       "113                Action, Romance  \n",
       "114                            NaN  \n",
       "115                            NaN  \n",
       "116           Action, Crime, Drama  \n",
       "\n",
       "[117 rows x 4 columns]"
      ]
     },
     "execution_count": 10,
     "metadata": {},
     "output_type": "execute_result"
    }
   ],
   "source": [
    "df"
   ]
  },
  {
   "cell_type": "code",
   "execution_count": 11,
   "metadata": {},
   "outputs": [
    {
     "name": "stdout",
     "output_type": "stream",
     "text": [
      "[Errno 2] No such file or directory: 'Users/pradeepvaddigadda/desktop'\n",
      "/Users/pradeepvaddigadda\n"
     ]
    }
   ],
   "source": [
    "cd Users/pradeepvaddigadda/desktop"
   ]
  },
  {
   "cell_type": "code",
   "execution_count": 12,
   "metadata": {},
   "outputs": [],
   "source": [
    "df.to_csv('film_1993.csv', header=False, index=False)"
   ]
  },
  {
   "cell_type": "code",
   "execution_count": 13,
   "metadata": {},
   "outputs": [
    {
     "data": {
      "text/plain": [
       "Title        0\n",
       "Director     7\n",
       "Cast         2\n",
       "Genre       47\n",
       "dtype: int64"
      ]
     },
     "execution_count": 13,
     "metadata": {},
     "output_type": "execute_result"
    }
   ],
   "source": [
    "df.isnull().sum()"
   ]
  },
  {
   "cell_type": "code",
   "execution_count": null,
   "metadata": {},
   "outputs": [],
   "source": []
  }
 ],
 "metadata": {
  "kernelspec": {
   "display_name": "Python 3",
   "language": "python",
   "name": "python3"
  },
  "language_info": {
   "codemirror_mode": {
    "name": "ipython",
    "version": 3
   },
   "file_extension": ".py",
   "mimetype": "text/x-python",
   "name": "python",
   "nbconvert_exporter": "python",
   "pygments_lexer": "ipython3",
   "version": "3.8.3"
  }
 },
 "nbformat": 4,
 "nbformat_minor": 4
}
