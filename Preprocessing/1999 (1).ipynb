{
 "cells": [
  {
   "cell_type": "code",
   "execution_count": 1,
   "metadata": {},
   "outputs": [],
   "source": [
    "import pandas as pd\n",
    "import numpy as np\n",
    "import requests\n",
    "import bs4 as bs\n",
    "import urllib.request"
   ]
  },
  {
   "cell_type": "code",
   "execution_count": 2,
   "metadata": {},
   "outputs": [],
   "source": [
    "#pip install requests[security]"
   ]
  },
  {
   "cell_type": "code",
   "execution_count": 3,
   "metadata": {},
   "outputs": [],
   "source": [
    "link = \"https://en.wikipedia.org/wiki/List_of_Bollywood_films_of_1999\""
   ]
  },
  {
   "cell_type": "code",
   "execution_count": 4,
   "metadata": {},
   "outputs": [],
   "source": [
    "source = urllib.request.urlopen(link).read()\n",
    "soup = bs.BeautifulSoup(source,'lxml')"
   ]
  },
  {
   "cell_type": "code",
   "execution_count": 5,
   "metadata": {},
   "outputs": [],
   "source": [
    "tables = soup.find_all('table',class_='wikitable')"
   ]
  },
  {
   "cell_type": "code",
   "execution_count": 6,
   "metadata": {},
   "outputs": [
    {
     "data": {
      "text/plain": [
       "3"
      ]
     },
     "execution_count": 6,
     "metadata": {},
     "output_type": "execute_result"
    }
   ],
   "source": [
    "\n",
    "len(tables)"
   ]
  },
  {
   "cell_type": "code",
   "execution_count": 7,
   "metadata": {},
   "outputs": [],
   "source": [
    "\n",
    "df3 = pd.read_html(str(tables[1]))[0]\n",
    " # avoided \"ValueError: invalid literal for int() with base 10: '1\"'"
   ]
  },
  {
   "cell_type": "code",
   "execution_count": 9,
   "metadata": {},
   "outputs": [
    {
     "name": "stdout",
     "output_type": "stream",
     "text": [
      "                       Title             Director  \\\n",
      "0          Aa Ab Laut Chalen         Rishi Kapoor   \n",
      "1                     Aarzoo     Lawrence D'Souza   \n",
      "2                 Anari No.1        Sandesh Kohli   \n",
      "3               Arjun Pandit         Rahul Rawail   \n",
      "4                   Baadshah  Abbas-Mustan-Mustan   \n",
      "..                       ...                  ...   \n",
      "78                  Thakshak       Govind Nihlani   \n",
      "79                 Trishakti    Madhur Bhandarkar   \n",
      "80      Vaastav: The Reality     Mahesh Manjrekar   \n",
      "81  Yeh Hai Mumbai Meri Jaan         Mahesh Bhatt   \n",
      "82                     Zulmi        Sandesh Kohli   \n",
      "\n",
      "                                                 Cast            Genre  \n",
      "0   Rajesh Khanna, Akshaye Khanna, Aishwarya Rai, ...  Romance, Drama,  \n",
      "1   Akshay Kumar, Madhuri Dixit, Saif Ali Khan, Am...            Drama  \n",
      "2   Govinda, Raveena Tandon, Simran Bagga, Kader K...           Comedy  \n",
      "3             Sunny Deol, Juhi Chawla, Saurabh Shukla           Action  \n",
      "4   Shah Rukh Khan, Twinkle Khanna, Amrish Puri, J...   Action, Comedy  \n",
      "..                                                ...              ...  \n",
      "78          Ajay Devgn, Tabu, Rahul Bose, Amrish Puri            Drama  \n",
      "79  Sadashiv Amrapurkar, Milind Gunaji, Jatin Kanakia              NaN  \n",
      "80                     Sanjay Dutt, Namrata Shirodkar     Crime, Drama  \n",
      "81                      Saif Ali Khan, Twinkle Khanna              NaN  \n",
      "82                       Akshay Kumar, Twinkle Khanna  Action, Romance  \n",
      "\n",
      "[83 rows x 4 columns]\n"
     ]
    }
   ],
   "source": [
    "print(df3)"
   ]
  },
  {
   "cell_type": "code",
   "execution_count": 53,
   "metadata": {},
   "outputs": [],
   "source": [
    "df = df3"
   ]
  },
  {
   "cell_type": "code",
   "execution_count": 8,
   "metadata": {},
   "outputs": [
    {
     "ename": "NameError",
     "evalue": "name 'df' is not defined",
     "output_type": "error",
     "traceback": [
      "\u001b[0;31m---------------------------------------------------------------------------\u001b[0m",
      "\u001b[0;31mNameError\u001b[0m                                 Traceback (most recent call last)",
      "\u001b[0;32m<ipython-input-8-00cf07b74dcd>\u001b[0m in \u001b[0;36m<module>\u001b[0;34m\u001b[0m\n\u001b[0;32m----> 1\u001b[0;31m \u001b[0mdf\u001b[0m\u001b[0;34m\u001b[0m\u001b[0;34m\u001b[0m\u001b[0m\n\u001b[0m",
      "\u001b[0;31mNameError\u001b[0m: name 'df' is not defined"
     ]
    }
   ],
   "source": [
    "df"
   ]
  },
  {
   "cell_type": "code",
   "execution_count": 55,
   "metadata": {},
   "outputs": [
    {
     "name": "stdout",
     "output_type": "stream",
     "text": [
      "[Errno 2] No such file or directory: 'Users/pradeepvaddigadda/desktop'\n",
      "/Users/pradeepvaddigadda\n"
     ]
    }
   ],
   "source": [
    "cd Users/pradeepvaddigadda/desktop"
   ]
  },
  {
   "cell_type": "code",
   "execution_count": 56,
   "metadata": {},
   "outputs": [],
   "source": [
    "#df.to_csv('film_1999.csv', header=False, index=False)"
   ]
  },
  {
   "cell_type": "code",
   "execution_count": 10,
   "metadata": {},
   "outputs": [
    {
     "data": {
      "text/plain": [
       "Title       0\n",
       "Director    1\n",
       "Cast        0\n",
       "Genre       9\n",
       "dtype: int64"
      ]
     },
     "execution_count": 10,
     "metadata": {},
     "output_type": "execute_result"
    }
   ],
   "source": [
    "df3.isnull().sum()"
   ]
  },
  {
   "cell_type": "code",
   "execution_count": 11,
   "metadata": {},
   "outputs": [
    {
     "data": {
      "text/html": [
       "<div>\n",
       "<style scoped>\n",
       "    .dataframe tbody tr th:only-of-type {\n",
       "        vertical-align: middle;\n",
       "    }\n",
       "\n",
       "    .dataframe tbody tr th {\n",
       "        vertical-align: top;\n",
       "    }\n",
       "\n",
       "    .dataframe thead th {\n",
       "        text-align: right;\n",
       "    }\n",
       "</style>\n",
       "<table border=\"1\" class=\"dataframe\">\n",
       "  <thead>\n",
       "    <tr style=\"text-align: right;\">\n",
       "      <th></th>\n",
       "      <th>Title</th>\n",
       "      <th>Director</th>\n",
       "      <th>Cast</th>\n",
       "      <th>Genre</th>\n",
       "    </tr>\n",
       "  </thead>\n",
       "  <tbody>\n",
       "    <tr>\n",
       "      <th>9</th>\n",
       "      <td>Chehraa</td>\n",
       "      <td>Gautam Adhikari</td>\n",
       "      <td>Seema Kapoor, Ayub Khan, Madhoo</td>\n",
       "      <td>NaN</td>\n",
       "    </tr>\n",
       "    <tr>\n",
       "      <th>23</th>\n",
       "      <td>Hogi Pyaar Ki Jeet</td>\n",
       "      <td>P. Vasu</td>\n",
       "      <td>Ajay Devgn, Neha, Arshad Warsi</td>\n",
       "      <td>NaN</td>\n",
       "    </tr>\n",
       "    <tr>\n",
       "      <th>47</th>\n",
       "      <td>Love You Hamesha</td>\n",
       "      <td>Kailash Surendranath</td>\n",
       "      <td>Rishma Malik, Rohit Bal, Sonali Bendre</td>\n",
       "      <td>NaN</td>\n",
       "    </tr>\n",
       "    <tr>\n",
       "      <th>53</th>\n",
       "      <td>Munnibai</td>\n",
       "      <td>Kanti Shah</td>\n",
       "      <td>Dharmendra, Mohan Joshi, Johnny Lever</td>\n",
       "      <td>NaN</td>\n",
       "    </tr>\n",
       "    <tr>\n",
       "      <th>54</th>\n",
       "      <td>Naukar Ki Kameez</td>\n",
       "      <td>Mani Kaul</td>\n",
       "      <td>Samir Ahmed, Vikrishnah Batt, Anu Joseph</td>\n",
       "      <td>NaN</td>\n",
       "    </tr>\n",
       "    <tr>\n",
       "      <th>58</th>\n",
       "      <td>Putlibai</td>\n",
       "      <td>Yash Chouhan</td>\n",
       "      <td>Rajesh Bakshi, Raj Kiran, Raza Murad</td>\n",
       "      <td>NaN</td>\n",
       "    </tr>\n",
       "    <tr>\n",
       "      <th>75</th>\n",
       "      <td>Split Wide Open</td>\n",
       "      <td>Dev Benegal</td>\n",
       "      <td>Rahul Bose, Laila Rouass, Shivaji Satam, Ayesh...</td>\n",
       "      <td>NaN</td>\n",
       "    </tr>\n",
       "    <tr>\n",
       "      <th>79</th>\n",
       "      <td>Trishakti</td>\n",
       "      <td>Madhur Bhandarkar</td>\n",
       "      <td>Sadashiv Amrapurkar, Milind Gunaji, Jatin Kanakia</td>\n",
       "      <td>NaN</td>\n",
       "    </tr>\n",
       "    <tr>\n",
       "      <th>81</th>\n",
       "      <td>Yeh Hai Mumbai Meri Jaan</td>\n",
       "      <td>Mahesh Bhatt</td>\n",
       "      <td>Saif Ali Khan, Twinkle Khanna</td>\n",
       "      <td>NaN</td>\n",
       "    </tr>\n",
       "  </tbody>\n",
       "</table>\n",
       "</div>"
      ],
      "text/plain": [
       "                       Title              Director  \\\n",
       "9                    Chehraa       Gautam Adhikari   \n",
       "23        Hogi Pyaar Ki Jeet               P. Vasu   \n",
       "47          Love You Hamesha  Kailash Surendranath   \n",
       "53                  Munnibai            Kanti Shah   \n",
       "54          Naukar Ki Kameez             Mani Kaul   \n",
       "58                  Putlibai          Yash Chouhan   \n",
       "75           Split Wide Open           Dev Benegal   \n",
       "79                 Trishakti     Madhur Bhandarkar   \n",
       "81  Yeh Hai Mumbai Meri Jaan          Mahesh Bhatt   \n",
       "\n",
       "                                                 Cast Genre  \n",
       "9                     Seema Kapoor, Ayub Khan, Madhoo   NaN  \n",
       "23                     Ajay Devgn, Neha, Arshad Warsi   NaN  \n",
       "47             Rishma Malik, Rohit Bal, Sonali Bendre   NaN  \n",
       "53              Dharmendra, Mohan Joshi, Johnny Lever   NaN  \n",
       "54           Samir Ahmed, Vikrishnah Batt, Anu Joseph   NaN  \n",
       "58               Rajesh Bakshi, Raj Kiran, Raza Murad   NaN  \n",
       "75  Rahul Bose, Laila Rouass, Shivaji Satam, Ayesh...   NaN  \n",
       "79  Sadashiv Amrapurkar, Milind Gunaji, Jatin Kanakia   NaN  \n",
       "81                      Saif Ali Khan, Twinkle Khanna   NaN  "
      ]
     },
     "execution_count": 11,
     "metadata": {},
     "output_type": "execute_result"
    }
   ],
   "source": [
    "df3[df3['Genre'].isnull()]"
   ]
  },
  {
   "cell_type": "code",
   "execution_count": 21,
   "metadata": {},
   "outputs": [],
   "source": [
    "import imdb\n",
    "\n",
    "moviesDB = imdb.IMDb()\n",
    "movies = moviesDB.search_movie('inception')\n",
    "id = movies[0].getID()\n",
    "movie = moviesDB.get_movie(id)\n",
    "title = movie['title']\n",
    "year = movie['year']\n",
    "rating = movie['rating']\n",
    "directors = movie['directors']\n",
    "casting = movie['cast']\n",
    "direcStr = ' '.join(map(str,directors))\n",
    "# print(f'directors: {direcStr}')\n",
    "\n",
    "# actors = ', '.join(map(str, casting))\n",
    "# print(f'actors: {actors}')"
   ]
  },
  {
   "cell_type": "code",
   "execution_count": 18,
   "metadata": {},
   "outputs": [
    {
     "name": "stdout",
     "output_type": "stream",
     "text": [
      "['cast', 'genres', 'runtimes', 'countries', 'country codes', 'language codes', 'color info', 'aspect ratio', 'sound mix', 'box office', 'certificates', 'original air date', 'rating', 'votes', 'cover url', 'plot outline', 'languages', 'title', 'year', 'kind', 'directors', 'writers', 'producers', 'composers', 'cinematographers', 'editors', 'editorial department', 'casting directors', 'production designers', 'art directors', 'set decorators', 'costume designers', 'make up department', 'production managers', 'assistant directors', 'art department', 'sound department', 'special effects', 'visual effects', 'stunts', 'camera department', 'casting department', 'costume departmen', 'location management', 'music department', 'script department', 'transportation department', 'miscellaneous', 'thanks', 'akas', 'writer', 'director', 'top 250 rank', 'production companies', 'distributors', 'special effects companies', 'other companies', 'plot', 'synopsis', 'canonical title', 'long imdb title', 'long imdb canonical title', 'smart canonical title', 'smart long imdb canonical title', 'full-size cover url']\n"
     ]
    }
   ],
   "source": [
    "print(movie.keys())"
   ]
  },
  {
   "cell_type": "code",
   "execution_count": 54,
   "metadata": {},
   "outputs": [
    {
     "data": {
      "text/plain": [
       "'Thriller'"
      ]
     },
     "execution_count": 54,
     "metadata": {},
     "output_type": "execute_result"
    }
   ],
   "source": [
    "\n",
    "def get_genre(x):\n",
    "  movies = moviesDB.search_movie(x)\n",
    "  code= movies[0].getID()\n",
    "  movie = ia.get_movie(code)\n",
    "  \n",
    "  for genre in movie['genres']:\n",
    "    return genre\n",
    "  \n",
    "x='Chehraa'\n",
    "get_genre(x)"
   ]
  },
  {
   "cell_type": "code",
   "execution_count": null,
   "metadata": {},
   "outputs": [],
   "source": [
    "def get_dir(x):\n",
    "  movies = moviesDB.search_movie(x)\n",
    "  code= movies[0].getID()\n",
    "  movie = ia.get_movie(code)\n",
    "  for director in movie['directors']:\n",
    "      print(director['name'])\n",
    "  \n",
    "x='Chehraa'\n",
    "get_genre(x)"
   ]
  },
  {
   "cell_type": "code",
   "execution_count": 57,
   "metadata": {},
   "outputs": [],
   "source": [
    "\n",
    "df3.loc[9]=df3.loc[9].fillna(get_genre('Hogi Pyaar Ki Jeet'))\n",
    "df3.loc[23]=df3.loc[23].fillna(get_genre('Hogi Pyaar Ki Jeet'))\n",
    "df3.loc[47]=df3.loc[47].fillna(get_genre('Love You Hamesha'))\n",
    "df3.loc[53]=df3.loc[53].fillna(get_genre('Munnibai'))\n",
    "df3.loc[54]=df3.loc[54].fillna(get_genre('Naukar Ki Kameez'))\n",
    "df3.loc[58]=df3.loc[58].fillna(get_genre('Putlibai'))\n",
    "df3.loc[75]=df3.loc[75].fillna(get_genre('Split Wide Open'))\n",
    "df3.loc[79]=df3.loc[79].fillna(get_genre('Trishakti'))\n",
    "df3.loc[81]=df3.loc[81].fillna(get_genre('Yeh Hai Mumbai Meri Jaan'))"
   ]
  },
  {
   "cell_type": "code",
   "execution_count": 56,
   "metadata": {},
   "outputs": [
    {
     "data": {
      "text/plain": [
       "Title                               Chehraa\n",
       "Director                    Gautam Adhikari\n",
       "Cast        Seema Kapoor, Ayub Khan, Madhoo\n",
       "Genre                              Thriller\n",
       "Name: 9, dtype: object"
      ]
     },
     "execution_count": 56,
     "metadata": {},
     "output_type": "execute_result"
    }
   ],
   "source": [
    "df3.loc[9]=df3.loc[9].fillna(get_genre(x))"
   ]
  },
  {
   "cell_type": "code",
   "execution_count": 59,
   "metadata": {},
   "outputs": [
    {
     "data": {
      "text/plain": [
       "Title       0\n",
       "Director    1\n",
       "Cast        0\n",
       "Genre       0\n",
       "dtype: int64"
      ]
     },
     "execution_count": 59,
     "metadata": {},
     "output_type": "execute_result"
    }
   ],
   "source": [
    "df3.isnull().sum()"
   ]
  },
  {
   "cell_type": "code",
   "execution_count": 61,
   "metadata": {},
   "outputs": [
    {
     "data": {
      "text/html": [
       "<div>\n",
       "<style scoped>\n",
       "    .dataframe tbody tr th:only-of-type {\n",
       "        vertical-align: middle;\n",
       "    }\n",
       "\n",
       "    .dataframe tbody tr th {\n",
       "        vertical-align: top;\n",
       "    }\n",
       "\n",
       "    .dataframe thead th {\n",
       "        text-align: right;\n",
       "    }\n",
       "</style>\n",
       "<table border=\"1\" class=\"dataframe\">\n",
       "  <thead>\n",
       "    <tr style=\"text-align: right;\">\n",
       "      <th></th>\n",
       "      <th>Title</th>\n",
       "      <th>Director</th>\n",
       "      <th>Cast</th>\n",
       "      <th>Genre</th>\n",
       "    </tr>\n",
       "  </thead>\n",
       "  <tbody>\n",
       "    <tr>\n",
       "      <th>14</th>\n",
       "      <td>Double Gadbad</td>\n",
       "      <td>NaN</td>\n",
       "      <td>Navneet Nishan, Baba Sehgal</td>\n",
       "      <td>Comedy</td>\n",
       "    </tr>\n",
       "  </tbody>\n",
       "</table>\n",
       "</div>"
      ],
      "text/plain": [
       "            Title Director                         Cast   Genre\n",
       "14  Double Gadbad      NaN  Navneet Nishan, Baba Sehgal  Comedy"
      ]
     },
     "execution_count": 61,
     "metadata": {},
     "output_type": "execute_result"
    }
   ],
   "source": [
    "df3[df3['Director'].isnull()]"
   ]
  },
  {
   "cell_type": "code",
   "execution_count": 62,
   "metadata": {},
   "outputs": [],
   "source": [
    "df3.loc[14]=df3.loc[9].fillna('Ken Ghosh')"
   ]
  },
  {
   "cell_type": "code",
   "execution_count": 63,
   "metadata": {},
   "outputs": [
    {
     "data": {
      "text/plain": [
       "Title       0\n",
       "Director    0\n",
       "Cast        0\n",
       "Genre       0\n",
       "dtype: int64"
      ]
     },
     "execution_count": 63,
     "metadata": {},
     "output_type": "execute_result"
    }
   ],
   "source": [
    "df3.isnull().sum()"
   ]
  },
  {
   "cell_type": "code",
   "execution_count": 64,
   "metadata": {},
   "outputs": [
    {
     "name": "stdout",
     "output_type": "stream",
     "text": [
      "/Users/pradeepvaddigadda/Desktop\n"
     ]
    }
   ],
   "source": [
    "cd /Users/pradeepvaddigadda/desktop"
   ]
  },
  {
   "cell_type": "code",
   "execution_count": 66,
   "metadata": {},
   "outputs": [],
   "source": [
    "df3.to_csv('cleanedfilm_1999.csv', header=True, index=True)"
   ]
  },
  {
   "cell_type": "code",
   "execution_count": null,
   "metadata": {},
   "outputs": [],
   "source": []
  }
 ],
 "metadata": {
  "kernelspec": {
   "display_name": "Python 3",
   "language": "python",
   "name": "python3"
  },
  "language_info": {
   "codemirror_mode": {
    "name": "ipython",
    "version": 3
   },
   "file_extension": ".py",
   "mimetype": "text/x-python",
   "name": "python",
   "nbconvert_exporter": "python",
   "pygments_lexer": "ipython3",
   "version": "3.8.3"
  }
 },
 "nbformat": 4,
 "nbformat_minor": 4
}
