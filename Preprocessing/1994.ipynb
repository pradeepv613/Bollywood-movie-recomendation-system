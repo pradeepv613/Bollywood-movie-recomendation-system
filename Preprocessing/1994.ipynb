{
 "cells": [
  {
   "cell_type": "code",
   "execution_count": 1,
   "metadata": {},
   "outputs": [],
   "source": [
    "import pandas as pd\n",
    "import numpy as np\n",
    "import requests\n",
    "import bs4 as bs\n",
    "import urllib.request"
   ]
  },
  {
   "cell_type": "code",
   "execution_count": 2,
   "metadata": {},
   "outputs": [],
   "source": [
    "#pip install requests[security]"
   ]
  },
  {
   "cell_type": "code",
   "execution_count": 3,
   "metadata": {},
   "outputs": [],
   "source": [
    "link = \"https://en.wikipedia.org/wiki/List_of_Bollywood_films_of_1994\""
   ]
  },
  {
   "cell_type": "code",
   "execution_count": 4,
   "metadata": {},
   "outputs": [],
   "source": [
    "source = urllib.request.urlopen(link).read()\n",
    "soup = bs.BeautifulSoup(source,'lxml')"
   ]
  },
  {
   "cell_type": "code",
   "execution_count": 5,
   "metadata": {},
   "outputs": [],
   "source": [
    "tables = soup.find_all('table',class_='wikitable')"
   ]
  },
  {
   "cell_type": "code",
   "execution_count": 6,
   "metadata": {},
   "outputs": [
    {
     "data": {
      "text/plain": [
       "3"
      ]
     },
     "execution_count": 6,
     "metadata": {},
     "output_type": "execute_result"
    }
   ],
   "source": [
    "\n",
    "len(tables)"
   ]
  },
  {
   "cell_type": "code",
   "execution_count": 7,
   "metadata": {},
   "outputs": [],
   "source": [
    "\n",
    "df3 = pd.read_html(str(tables[1]))[0]\n",
    " # avoided \"ValueError: invalid literal for int() with base 10: '1\"'"
   ]
  },
  {
   "cell_type": "code",
   "execution_count": 8,
   "metadata": {},
   "outputs": [
    {
     "name": "stdout",
     "output_type": "stream",
     "text": [
      "                    Title            Director  \\\n",
      "0      1942: A Love Story  Vidhu Vinod Chopra   \n",
      "1         Aa Gale Lag Jaa      Hamid Ali Khan   \n",
      "2                     Aag     K. Ravi Shankar   \n",
      "3    Aag Andhi Aur Toofan          Kanti Shah   \n",
      "4        Aag Aur Chingari          Kanti Shah   \n",
      "..                    ...                 ...   \n",
      "101            Yuhi Kabhi        Kumar Bhatia   \n",
      "102                Zaalim     Sikander Bharti   \n",
      "103            Zakhmi Dil    Raju Subramanian   \n",
      "104   Zamane Se Kya Darna           Bobby Raj   \n",
      "105                   Zid     Esmayeel Shroff   \n",
      "\n",
      "                                                  Cast            Genre  \n",
      "0    Anil Kapoor, Manisha Koirala, Jackie Shroff, A...  Romance, Social  \n",
      "1    Jugal Hansraj, Urmila Matondkar, Ajit Khan, Is...          Romance  \n",
      "2                Shilpa Shetty, Govinda, Sonali Bendre          Romance  \n",
      "3                                                  NaN              NaN  \n",
      "4                   Asrani, Shakti Kapoor, Ravi Kishan              NaN  \n",
      "..                                                 ...              ...  \n",
      "101          Tinnu Anand, Master Bhagwan, Kumar Bhatia    Comedy, Drama  \n",
      "102                               Akshay Kumar, Madhoo           Action  \n",
      "103           Akshay Kumar, Ashwini Bhave, Ravi Kishan  Action, Romance  \n",
      "104             Sanjay Dutt, Raveena Tandon, Alok Nath           Family  \n",
      "105                 Jay Mehta, Raageshwari, Mala Sinha              NaN  \n",
      "\n",
      "[106 rows x 4 columns]\n"
     ]
    }
   ],
   "source": [
    "print(df3)"
   ]
  },
  {
   "cell_type": "code",
   "execution_count": 9,
   "metadata": {},
   "outputs": [],
   "source": [
    "df = df3"
   ]
  },
  {
   "cell_type": "code",
   "execution_count": 10,
   "metadata": {},
   "outputs": [
    {
     "data": {
      "text/html": [
       "<div>\n",
       "<style scoped>\n",
       "    .dataframe tbody tr th:only-of-type {\n",
       "        vertical-align: middle;\n",
       "    }\n",
       "\n",
       "    .dataframe tbody tr th {\n",
       "        vertical-align: top;\n",
       "    }\n",
       "\n",
       "    .dataframe thead th {\n",
       "        text-align: right;\n",
       "    }\n",
       "</style>\n",
       "<table border=\"1\" class=\"dataframe\">\n",
       "  <thead>\n",
       "    <tr style=\"text-align: right;\">\n",
       "      <th></th>\n",
       "      <th>Title</th>\n",
       "      <th>Director</th>\n",
       "      <th>Cast</th>\n",
       "      <th>Genre</th>\n",
       "    </tr>\n",
       "  </thead>\n",
       "  <tbody>\n",
       "    <tr>\n",
       "      <th>0</th>\n",
       "      <td>1942: A Love Story</td>\n",
       "      <td>Vidhu Vinod Chopra</td>\n",
       "      <td>Anil Kapoor, Manisha Koirala, Jackie Shroff, A...</td>\n",
       "      <td>Romance, Social</td>\n",
       "    </tr>\n",
       "    <tr>\n",
       "      <th>1</th>\n",
       "      <td>Aa Gale Lag Jaa</td>\n",
       "      <td>Hamid Ali Khan</td>\n",
       "      <td>Jugal Hansraj, Urmila Matondkar, Ajit Khan, Is...</td>\n",
       "      <td>Romance</td>\n",
       "    </tr>\n",
       "    <tr>\n",
       "      <th>2</th>\n",
       "      <td>Aag</td>\n",
       "      <td>K. Ravi Shankar</td>\n",
       "      <td>Shilpa Shetty, Govinda, Sonali Bendre</td>\n",
       "      <td>Romance</td>\n",
       "    </tr>\n",
       "    <tr>\n",
       "      <th>3</th>\n",
       "      <td>Aag Andhi Aur Toofan</td>\n",
       "      <td>Kanti Shah</td>\n",
       "      <td>NaN</td>\n",
       "      <td>NaN</td>\n",
       "    </tr>\n",
       "    <tr>\n",
       "      <th>4</th>\n",
       "      <td>Aag Aur Chingari</td>\n",
       "      <td>Kanti Shah</td>\n",
       "      <td>Asrani, Shakti Kapoor, Ravi Kishan</td>\n",
       "      <td>NaN</td>\n",
       "    </tr>\n",
       "    <tr>\n",
       "      <th>...</th>\n",
       "      <td>...</td>\n",
       "      <td>...</td>\n",
       "      <td>...</td>\n",
       "      <td>...</td>\n",
       "    </tr>\n",
       "    <tr>\n",
       "      <th>101</th>\n",
       "      <td>Yuhi Kabhi</td>\n",
       "      <td>Kumar Bhatia</td>\n",
       "      <td>Tinnu Anand, Master Bhagwan, Kumar Bhatia</td>\n",
       "      <td>Comedy, Drama</td>\n",
       "    </tr>\n",
       "    <tr>\n",
       "      <th>102</th>\n",
       "      <td>Zaalim</td>\n",
       "      <td>Sikander Bharti</td>\n",
       "      <td>Akshay Kumar, Madhoo</td>\n",
       "      <td>Action</td>\n",
       "    </tr>\n",
       "    <tr>\n",
       "      <th>103</th>\n",
       "      <td>Zakhmi Dil</td>\n",
       "      <td>Raju Subramanian</td>\n",
       "      <td>Akshay Kumar, Ashwini Bhave, Ravi Kishan</td>\n",
       "      <td>Action, Romance</td>\n",
       "    </tr>\n",
       "    <tr>\n",
       "      <th>104</th>\n",
       "      <td>Zamane Se Kya Darna</td>\n",
       "      <td>Bobby Raj</td>\n",
       "      <td>Sanjay Dutt, Raveena Tandon, Alok Nath</td>\n",
       "      <td>Family</td>\n",
       "    </tr>\n",
       "    <tr>\n",
       "      <th>105</th>\n",
       "      <td>Zid</td>\n",
       "      <td>Esmayeel Shroff</td>\n",
       "      <td>Jay Mehta, Raageshwari, Mala Sinha</td>\n",
       "      <td>NaN</td>\n",
       "    </tr>\n",
       "  </tbody>\n",
       "</table>\n",
       "<p>106 rows × 4 columns</p>\n",
       "</div>"
      ],
      "text/plain": [
       "                    Title            Director  \\\n",
       "0      1942: A Love Story  Vidhu Vinod Chopra   \n",
       "1         Aa Gale Lag Jaa      Hamid Ali Khan   \n",
       "2                     Aag     K. Ravi Shankar   \n",
       "3    Aag Andhi Aur Toofan          Kanti Shah   \n",
       "4        Aag Aur Chingari          Kanti Shah   \n",
       "..                    ...                 ...   \n",
       "101            Yuhi Kabhi        Kumar Bhatia   \n",
       "102                Zaalim     Sikander Bharti   \n",
       "103            Zakhmi Dil    Raju Subramanian   \n",
       "104   Zamane Se Kya Darna           Bobby Raj   \n",
       "105                   Zid     Esmayeel Shroff   \n",
       "\n",
       "                                                  Cast            Genre  \n",
       "0    Anil Kapoor, Manisha Koirala, Jackie Shroff, A...  Romance, Social  \n",
       "1    Jugal Hansraj, Urmila Matondkar, Ajit Khan, Is...          Romance  \n",
       "2                Shilpa Shetty, Govinda, Sonali Bendre          Romance  \n",
       "3                                                  NaN              NaN  \n",
       "4                   Asrani, Shakti Kapoor, Ravi Kishan              NaN  \n",
       "..                                                 ...              ...  \n",
       "101          Tinnu Anand, Master Bhagwan, Kumar Bhatia    Comedy, Drama  \n",
       "102                               Akshay Kumar, Madhoo           Action  \n",
       "103           Akshay Kumar, Ashwini Bhave, Ravi Kishan  Action, Romance  \n",
       "104             Sanjay Dutt, Raveena Tandon, Alok Nath           Family  \n",
       "105                 Jay Mehta, Raageshwari, Mala Sinha              NaN  \n",
       "\n",
       "[106 rows x 4 columns]"
      ]
     },
     "execution_count": 10,
     "metadata": {},
     "output_type": "execute_result"
    }
   ],
   "source": [
    "df"
   ]
  },
  {
   "cell_type": "code",
   "execution_count": 11,
   "metadata": {},
   "outputs": [
    {
     "name": "stdout",
     "output_type": "stream",
     "text": [
      "[Errno 2] No such file or directory: 'Users/pradeepvaddigadda/desktop'\n",
      "/Users/pradeepvaddigadda\n"
     ]
    }
   ],
   "source": [
    "cd Users/pradeepvaddigadda/desktop"
   ]
  },
  {
   "cell_type": "code",
   "execution_count": 12,
   "metadata": {},
   "outputs": [],
   "source": [
    "df.to_csv('film_1994.csv', header=False, index=False)"
   ]
  },
  {
   "cell_type": "code",
   "execution_count": 11,
   "metadata": {},
   "outputs": [
    {
     "data": {
      "text/plain": [
       "Title        0\n",
       "Director     9\n",
       "Cast         5\n",
       "Genre       33\n",
       "dtype: int64"
      ]
     },
     "execution_count": 11,
     "metadata": {},
     "output_type": "execute_result"
    }
   ],
   "source": [
    "df.isnull().sum()"
   ]
  },
  {
   "cell_type": "code",
   "execution_count": 12,
   "metadata": {},
   "outputs": [],
   "source": [
    "import imdb\n",
    "\n",
    "moviesDB = imdb.IMDb()\n",
    "def get_genre(x):\n",
    "  genres = []\n",
    "  try:\n",
    "        movies = moviesDB.search_movie(x)\n",
    "        id = movies[0].getID()\n",
    "        movie = moviesDB.get_movie(id) \n",
    "        genres = movie['genres'] \n",
    "        direcStr= ' '.join(map(str,genres))\n",
    "        genres.append(direcStr)\n",
    "        return genres\n",
    "  except:\n",
    "    print(\"An exception occurred\")"
   ]
  },
  {
   "cell_type": "code",
   "execution_count": 13,
   "metadata": {},
   "outputs": [
    {
     "name": "stdout",
     "output_type": "stream",
     "text": [
      "An exception occurred\n",
      "An exception occurred\n"
     ]
    }
   ],
   "source": [
    "df['genre'] = df['Title'].map(lambda x: get_genre(str(x)))"
   ]
  },
  {
   "cell_type": "code",
   "execution_count": 14,
   "metadata": {},
   "outputs": [],
   "source": [
    "df.drop(['Genre'],1,inplace=True)"
   ]
  },
  {
   "cell_type": "code",
   "execution_count": 15,
   "metadata": {},
   "outputs": [],
   "source": [
    "df=df.dropna()"
   ]
  },
  {
   "cell_type": "code",
   "execution_count": 16,
   "metadata": {},
   "outputs": [
    {
     "name": "stdout",
     "output_type": "stream",
     "text": [
      "/Users/pradeepvaddigadda/Desktop\n"
     ]
    }
   ],
   "source": [
    "cd /Users/pradeepvaddigadda/desktop"
   ]
  },
  {
   "cell_type": "code",
   "execution_count": 17,
   "metadata": {},
   "outputs": [],
   "source": [
    "df.to_csv('cleanedfilm_1994.csv', header=True, index=True)"
   ]
  },
  {
   "cell_type": "code",
   "execution_count": null,
   "metadata": {},
   "outputs": [],
   "source": []
  }
 ],
 "metadata": {
  "kernelspec": {
   "display_name": "Python 3",
   "language": "python",
   "name": "python3"
  },
  "language_info": {
   "codemirror_mode": {
    "name": "ipython",
    "version": 3
   },
   "file_extension": ".py",
   "mimetype": "text/x-python",
   "name": "python",
   "nbconvert_exporter": "python",
   "pygments_lexer": "ipython3",
   "version": "3.8.3"
  }
 },
 "nbformat": 4,
 "nbformat_minor": 4
}
